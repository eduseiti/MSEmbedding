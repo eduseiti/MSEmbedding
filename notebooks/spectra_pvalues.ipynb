{
 "cells": [
  {
   "cell_type": "code",
   "execution_count": null,
   "metadata": {},
   "outputs": [],
   "source": [
    "import struct\n",
    "import os\n",
    "import numpy as np\n",
    "import pandas as pd\n",
    "import random\n",
    "import plotly.graph_objects as go\n",
    "import math"
   ]
  },
  {
   "cell_type": "code",
   "execution_count": null,
   "metadata": {},
   "outputs": [],
   "source": [
    "PVALUES_FILE=\"/mnt/f633ac7c-3153-4566-a009-229a0ae5f8a1/unicamp/doutorado/clustering/linfeng/sample/test_pvalues_fix/400.dat_allSpectraPvalues.bin\"\n",
    "IDS_FILE=\"/mnt/f633ac7c-3153-4566-a009-229a0ae5f8a1/unicamp/doutorado/clustering/linfeng/sample/identifications_sample_0.1_nterm/sample_experiment_identifications/percolator.target.psms.txt\"\n",
    "COUNTS_FILE=\"/mnt/f633ac7c-3153-4566-a009-229a0ae5f8a1/unicamp/doutorado/spectra_count.tsv\""
   ]
  },
  {
   "cell_type": "code",
   "execution_count": null,
   "metadata": {},
   "outputs": [],
   "source": [
    "STRUCT_FIELDS = \"BId\""
   ]
  },
  {
   "cell_type": "code",
   "execution_count": null,
   "metadata": {},
   "outputs": [],
   "source": [
    "def decode_pvalues_file(pvalues_filename):\n",
    "    \n",
    "    pvalues = []\n",
    "\n",
    "    with open(pvalues_filename, \"rb\") as inputFile:\n",
    "        while True:\n",
    "            record = inputFile.read(struct.calcsize(STRUCT_FIELDS))\n",
    "\n",
    "            if not record:\n",
    "                break\n",
    "            else:\n",
    "                unpacked = struct.unpack_from(STRUCT_FIELDS, record)\n",
    "                \n",
    "                pvalues.append(unpacked)\n",
    "                \n",
    "                if math.isnan(unpacked[2]):\n",
    "                    print(\"nan: {}\".format(record))\n",
    "\n",
    "    print(\"Decoded {} pvalues from {}\".format(len(pvalues), pvalues_filename))\n",
    "    \n",
    "    return np.array(pvalues)"
   ]
  },
  {
   "cell_type": "code",
   "execution_count": null,
   "metadata": {},
   "outputs": [],
   "source": [
    "def plot_pvalues_histogram(pvalues):\n",
    "    \n",
    "    pvalues_df = pd.DataFrame(pvalues, columns = [\"file\", \"scannr\", \"pvalue\"])\n",
    "    \n",
    "    print(pvalues_df['pvalue'].describe(percentiles=list(np.round(np.arange(0.0, 1.0, 0.05), 2))))\n",
    "    \n",
    "    pvalues_histogram, pvalues_bin_edges = np.histogram(pvalues_df['pvalue'], 1000)\n",
    "\n",
    "    fig = go.Figure()\n",
    "\n",
    "    fig.add_trace(go.Bar(y=pvalues_histogram,\n",
    "                         x=pvalues_bin_edges[1:],\n",
    "                         marker_color='red'))\n",
    "    \n",
    "    fig.show()\n",
    "    \n",
    "    return pvalues_df, pvalues_histogram, pvalues_bin_edges"
   ]
  },
  {
   "cell_type": "code",
   "execution_count": null,
   "metadata": {},
   "outputs": [],
   "source": [
    "pvalues = decode_pvalues_file(PVALUES_FILE)"
   ]
  },
  {
   "cell_type": "code",
   "execution_count": null,
   "metadata": {},
   "outputs": [],
   "source": [
    "pvalues"
   ]
  },
  {
   "cell_type": "code",
   "execution_count": null,
   "metadata": {},
   "outputs": [],
   "source": [
    "pvalues[:,2]"
   ]
  },
  {
   "cell_type": "code",
   "execution_count": null,
   "metadata": {},
   "outputs": [],
   "source": [
    "pvalues[pvalues[:, 2] <= -50].shape"
   ]
  },
  {
   "cell_type": "code",
   "execution_count": null,
   "metadata": {},
   "outputs": [],
   "source": [
    "min(pvalues[:, 2])"
   ]
  },
  {
   "cell_type": "code",
   "execution_count": null,
   "metadata": {},
   "outputs": [],
   "source": [
    "max(pvalues[:, 2])"
   ]
  },
  {
   "cell_type": "code",
   "execution_count": null,
   "metadata": {
    "scrolled": false
   },
   "outputs": [],
   "source": [
    "pvalues_df, _, _ = plot_pvalues_histogram(pvalues)"
   ]
  },
  {
   "cell_type": "code",
   "execution_count": null,
   "metadata": {},
   "outputs": [],
   "source": [
    "pvalues_df.sort_values(['pvalue', 'file', 'scannr'])"
   ]
  },
  {
   "cell_type": "code",
   "execution_count": null,
   "metadata": {
    "scrolled": true
   },
   "outputs": [],
   "source": [
    "pvalues_df.groupby('file').count()"
   ]
  },
  {
   "cell_type": "code",
   "execution_count": null,
   "metadata": {},
   "outputs": [],
   "source": [
    "spectra_count = pd.read_csv(COUNTS_FILE, sep='\\t', names=[\"file\", \"spectra count\"])"
   ]
  },
  {
   "cell_type": "code",
   "execution_count": null,
   "metadata": {
    "scrolled": true
   },
   "outputs": [],
   "source": [
    "spectra_count"
   ]
  },
  {
   "cell_type": "code",
   "execution_count": null,
   "metadata": {},
   "outputs": [],
   "source": []
  },
  {
   "cell_type": "code",
   "execution_count": null,
   "metadata": {},
   "outputs": [],
   "source": [
    "ids = pd.read_csv(IDS_FILE, sep='\\t')"
   ]
  },
  {
   "cell_type": "code",
   "execution_count": null,
   "metadata": {},
   "outputs": [],
   "source": [
    "ids"
   ]
  },
  {
   "cell_type": "code",
   "execution_count": null,
   "metadata": {},
   "outputs": [],
   "source": [
    "ids['file_idx'].min()"
   ]
  },
  {
   "cell_type": "code",
   "execution_count": null,
   "metadata": {},
   "outputs": [],
   "source": [
    "pvalues_df['file'].min()"
   ]
  },
  {
   "cell_type": "code",
   "execution_count": null,
   "metadata": {},
   "outputs": [],
   "source": [
    "subdf = ids[ids['file_idx'] == 15]"
   ]
  },
  {
   "cell_type": "code",
   "execution_count": null,
   "metadata": {},
   "outputs": [],
   "source": [
    "subdf[subdf['scan'] == 8991]"
   ]
  },
  {
   "cell_type": "code",
   "execution_count": null,
   "metadata": {},
   "outputs": [],
   "source": [
    "sequence = subdf[subdf['scan'] == 8991]['sequence']\n",
    "sequence"
   ]
  },
  {
   "cell_type": "code",
   "execution_count": null,
   "metadata": {},
   "outputs": [],
   "source": [
    "sum(ids['sequence'] == sequence.values[0])"
   ]
  },
  {
   "cell_type": "code",
   "execution_count": null,
   "metadata": {},
   "outputs": [],
   "source": [
    "subdf = ids[ids['file_idx'] == 19]\n",
    "sequence = subdf[subdf['scan'] == 8267]['sequence']\n",
    "sum(ids['sequence'] == sequence.values[0])"
   ]
  },
  {
   "cell_type": "code",
   "execution_count": null,
   "metadata": {},
   "outputs": [],
   "source": [
    "sequence"
   ]
  },
  {
   "cell_type": "code",
   "execution_count": null,
   "metadata": {},
   "outputs": [],
   "source": []
  },
  {
   "cell_type": "code",
   "execution_count": null,
   "metadata": {},
   "outputs": [],
   "source": [
    "pvalues_df['scannr'].max()"
   ]
  },
  {
   "cell_type": "code",
   "execution_count": null,
   "metadata": {},
   "outputs": [],
   "source": [
    "pvalues_df['scannr'].max()"
   ]
  },
  {
   "cell_type": "code",
   "execution_count": null,
   "metadata": {},
   "outputs": [],
   "source": [
    "ids['scan'].max()"
   ]
  },
  {
   "cell_type": "code",
   "execution_count": null,
   "metadata": {},
   "outputs": [],
   "source": [
    "for index, row in pvalues_df.sort_values(['pvalue']).iterrows():\n",
    "    subdf = ids[ids['file_idx'] == row['file']]\n",
    "    subdf = subdf[subdf['scan'] == (row['scannr'] + 1)]\n",
    "    \n",
    "    if subdf.shape[0] > 0:\n",
    "        print(\"file:{}, scan:{}, pvalue:{}, spectra count:{}\".format(row['file'], \n",
    "                                                                     row['scannr'], \n",
    "                                                                     row['pvalue'], \n",
    "                                                                     subdf['distinct matches/spectrum'].values[0]))\n",
    "    else:\n",
    "        print(\"file:{}, scan:{}, pvalue:{}, spectra count:{}\".format(row['file'], \n",
    "                                                                     row['scannr'], \n",
    "                                                                     row['pvalue'], \n",
    "                                                                     \"not identified\"))        "
   ]
  },
  {
   "cell_type": "code",
   "execution_count": null,
   "metadata": {},
   "outputs": [],
   "source": []
  }
 ],
 "metadata": {
  "kernelspec": {
   "display_name": "Python 3",
   "language": "python",
   "name": "python3"
  },
  "language_info": {
   "codemirror_mode": {
    "name": "ipython",
    "version": 3
   },
   "file_extension": ".py",
   "mimetype": "text/x-python",
   "name": "python",
   "nbconvert_exporter": "python",
   "pygments_lexer": "ipython3",
   "version": "3.6.9"
  }
 },
 "nbformat": 4,
 "nbformat_minor": 2
}
