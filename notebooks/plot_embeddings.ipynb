{
 "cells": [
  {
   "cell_type": "code",
   "execution_count": null,
   "metadata": {},
   "outputs": [],
   "source": [
    "import pickle\n",
    "import numpy as np\n",
    "import umap\n",
    "\n",
    "import torch\n",
    "from torch import nn\n",
    "\n",
    "import random\n",
    "\n",
    "from bokeh.plotting import figure, output_notebook, show, ColumnDataSource\n",
    "from bokeh.transform import factor_cmap, linear_cmap\n",
    "from bokeh.palettes import inferno, viridis"
   ]
  },
  {
   "cell_type": "code",
   "execution_count": null,
   "metadata": {},
   "outputs": [],
   "source": [
    "EMBEDDINGS=\"/media/eduseiti/bigdata02/unicamp/doutorado/bootstrap.pytorch/logs/MSEmbedding/mixedSpectraCrux_all_lstm_40_3_layers_double_n_pair_LR1e-2_q0.01_pvalue_0.3_epsilon_1e-8_plot_validation/sample_embeddings_q0.01_all_lstm40_3layer_pvalue_0.3_double_n_pair.pkl\""
   ]
  },
  {
   "cell_type": "code",
   "execution_count": null,
   "metadata": {},
   "outputs": [],
   "source": [
    "with open(EMBEDDINGS, \"rb\") as inputFile:\n",
    "    data = pickle.load(inputFile)"
   ]
  },
  {
   "cell_type": "code",
   "execution_count": null,
   "metadata": {
    "scrolled": true
   },
   "outputs": [],
   "source": [
    "len(data)"
   ]
  },
  {
   "cell_type": "markdown",
   "metadata": {},
   "source": [
    "### Some initialization"
   ]
  },
  {
   "cell_type": "code",
   "execution_count": null,
   "metadata": {},
   "outputs": [],
   "source": [
    "only_embeddings = np.array([elem[2].numpy() for elem in data])\n",
    "only_sequences = np.array([elem[0] for elem in data])\n",
    "sequences_len = np.array([len(sequence) for sequence in only_sequences])"
   ]
  },
  {
   "cell_type": "code",
   "execution_count": null,
   "metadata": {},
   "outputs": [],
   "source": [
    "only_embeddings.shape"
   ]
  },
  {
   "cell_type": "code",
   "execution_count": null,
   "metadata": {},
   "outputs": [],
   "source": [
    "embeddings = torch.from_numpy(only_embeddings)"
   ]
  },
  {
   "cell_type": "code",
   "execution_count": null,
   "metadata": {},
   "outputs": [],
   "source": [
    "embeddingsNorm = nn.functional.normalize(embeddings)\n",
    "allCosineDistances = 1 - torch.mm(embeddingsNorm, embeddingsNorm.t())"
   ]
  },
  {
   "cell_type": "code",
   "execution_count": null,
   "metadata": {},
   "outputs": [],
   "source": [
    "ranks = []\n",
    "near_counts = []\n",
    "\n",
    "for i in range(len(embeddings) // 2):\n",
    "\n",
    "    allCosineDistances[i * 2, i * 2] = -1 # Make sure the same embedding distance is always the first after sorting\n",
    "\n",
    "    orderedDistancesFast = torch.argsort(allCosineDistances[i * 2])\n",
    "    orderedListFast = orderedDistancesFast.tolist()\n",
    "\n",
    "    sameRankFast = orderedListFast.index(i * 2)\n",
    "    positiveExampleRankFast = orderedListFast.index(i * 2 + 1) - 1\n",
    "\n",
    "    ranks.append(positiveExampleRankFast)\n",
    "    \n",
    "    near_count = 0\n",
    "    \n",
    "    for j in range(1, len(embeddings) // 2 - 1):\n",
    "        if allCosineDistances[i * 2, orderedListFast[j]] < 0.05:\n",
    "            near_count += 1\n",
    "        else:\n",
    "            break\n",
    "            \n",
    "    near_counts.append(near_count)"
   ]
  },
  {
   "cell_type": "code",
   "execution_count": null,
   "metadata": {
    "scrolled": true
   },
   "outputs": [],
   "source": [
    "near_counts"
   ]
  },
  {
   "cell_type": "code",
   "execution_count": null,
   "metadata": {},
   "outputs": [],
   "source": [
    "output_notebook()"
   ]
  },
  {
   "cell_type": "code",
   "execution_count": null,
   "metadata": {},
   "outputs": [],
   "source": [
    "NUMBER_OF_POINTS = 1000"
   ]
  },
  {
   "cell_type": "code",
   "execution_count": null,
   "metadata": {},
   "outputs": [],
   "source": [
    "random.seed(4589)\n",
    "sampled_points = random.sample(range(len(data)), NUMBER_OF_POINTS // 2)\n",
    "\n",
    "which_points = []\n",
    "\n",
    "for i in sampled_points:\n",
    "    if i % 2 == 0:\n",
    "        which_points += [i, i + 1]\n",
    "    else:\n",
    "        which_points += [i - 1, i]"
   ]
  },
  {
   "cell_type": "code",
   "execution_count": null,
   "metadata": {},
   "outputs": [],
   "source": [
    "unique_sequences = sorted(np.unique(only_sequences[which_points]))\n",
    "sequence_color_map = factor_cmap(\"sequence\", palette=inferno(256) + viridis(256), factors=unique_sequences)"
   ]
  },
  {
   "cell_type": "code",
   "execution_count": null,
   "metadata": {},
   "outputs": [],
   "source": [
    "unique_ordered_len = sorted(np.unique(sequences_len))\n",
    "sequence_color_map_len = linear_cmap(\"sequence_length\", palette=inferno(len(unique_ordered_len)), low=min(unique_ordered_len), high=max(unique_ordered_len))"
   ]
  },
  {
   "cell_type": "code",
   "execution_count": null,
   "metadata": {},
   "outputs": [],
   "source": [
    "SEQUENCE_TOOLTIP = [\n",
    "    (\"index\", \"$index\"),\n",
    "    (\"sequence\", \"@sequence\"),\n",
    "    (\"len\", \"@sequence_length\")\n",
    "]"
   ]
  },
  {
   "cell_type": "code",
   "execution_count": null,
   "metadata": {},
   "outputs": [],
   "source": [
    "def plot_umap(n_neighbors, min_dist, color_map=sequence_color_map):\n",
    "    \n",
    "#     print(\"which_points={}\".format(which_points))\n",
    "    \n",
    "    fit = umap.UMAP(metric=\"cosine\", n_neighbors=n_neighbors, min_dist=min_dist)\n",
    "    \n",
    "    result = fit.fit_transform(only_embeddings[which_points])\n",
    "    \n",
    "    data_source = ColumnDataSource(data = dict(x = result[:, 0], y = result[:, 1], sequence = only_sequences[which_points], sequence_length = sequences_len[which_points]))\n",
    "    \n",
    "    chart = figure(plot_width=750, plot_height=750, tooltips=SEQUENCE_TOOLTIP)\n",
    "    chart.circle('x', 'y', size=10, source=data_source, alpha=0.5, color=color_map)\n",
    "    show(chart)"
   ]
  },
  {
   "cell_type": "markdown",
   "metadata": {},
   "source": [
    "### Try some different UMAP parameters"
   ]
  },
  {
   "cell_type": "code",
   "execution_count": null,
   "metadata": {
    "scrolled": false
   },
   "outputs": [],
   "source": [
    "plot_umap(2, 1)"
   ]
  },
  {
   "cell_type": "code",
   "execution_count": null,
   "metadata": {},
   "outputs": [],
   "source": [
    "plot_umap(5, 0.01, color_map=sequence_color_map_len)"
   ]
  },
  {
   "cell_type": "code",
   "execution_count": null,
   "metadata": {},
   "outputs": [],
   "source": [
    "plot_umap(5, 0.01)"
   ]
  },
  {
   "cell_type": "code",
   "execution_count": null,
   "metadata": {},
   "outputs": [],
   "source": [
    "plot_umap(5, 0.01)"
   ]
  },
  {
   "cell_type": "code",
   "execution_count": null,
   "metadata": {},
   "outputs": [],
   "source": [
    "plot_umap(5, 0.001, color_map=sequence_color_map_len)"
   ]
  },
  {
   "cell_type": "code",
   "execution_count": null,
   "metadata": {},
   "outputs": [],
   "source": [
    "plot_umap(5, 0.001)"
   ]
  },
  {
   "cell_type": "code",
   "execution_count": null,
   "metadata": {},
   "outputs": [],
   "source": [
    "plot_umap(60, 0.0000001, color_map=sequence_color_map_len)"
   ]
  },
  {
   "cell_type": "code",
   "execution_count": null,
   "metadata": {},
   "outputs": [],
   "source": [
    "plot_umap(7, 1)"
   ]
  },
  {
   "cell_type": "code",
   "execution_count": null,
   "metadata": {},
   "outputs": [],
   "source": [
    "plot_umap(10, 0.1)"
   ]
  },
  {
   "cell_type": "code",
   "execution_count": null,
   "metadata": {},
   "outputs": [],
   "source": [
    "plot_umap(50, 1)"
   ]
  },
  {
   "cell_type": "code",
   "execution_count": null,
   "metadata": {},
   "outputs": [],
   "source": []
  }
 ],
 "metadata": {
  "kernelspec": {
   "display_name": "Python 3",
   "language": "python",
   "name": "python3"
  },
  "language_info": {
   "codemirror_mode": {
    "name": "ipython",
    "version": 3
   },
   "file_extension": ".py",
   "mimetype": "text/x-python",
   "name": "python",
   "nbconvert_exporter": "python",
   "pygments_lexer": "ipython3",
   "version": "3.6.9"
  }
 },
 "nbformat": 4,
 "nbformat_minor": 2
}
