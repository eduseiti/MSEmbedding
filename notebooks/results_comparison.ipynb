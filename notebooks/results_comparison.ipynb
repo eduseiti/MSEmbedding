{
 "cells": [
  {
   "cell_type": "code",
   "execution_count": null,
   "metadata": {},
   "outputs": [],
   "source": [
    "import pandas as pd\n",
    "import plotly.graph_objects as go\n",
    "import os"
   ]
  },
  {
   "cell_type": "code",
   "execution_count": null,
   "metadata": {},
   "outputs": [],
   "source": [
    "MARACLUSTER = \"/media/eduseiti/Seagate Expansion Drive2/unicamp/clustering/linfeng/sample/backup_first_comparisson_20200225/clusters_quality_analysis/clusters_sample_0.1_maracluster_verification_clusters_quality_20200219.tsv\"\n",
    "EMBEDDINGS_Q001 = \"/media/eduseiti/Seagate Expansion Drive2/unicamp/clustering/linfeng/sample/backup_first_comparisson_20200225/clusters_quality_analysis/clusters_sample_0.1_embeddings_q0.01_clusters_quality_20200219.tsv\"\n",
    "\n",
    "# PVALUES_10_Q001 = \"/media/eduseiti/ebee9cb2-c63c-48bf-b862-004aba7612ee/unicamp/clustering_linfeng_sample_pvalues/clusters_quality/clusters_0.1_embeddings_q0.01_big_lstm40_3layer_pvalue_clusters_quality_20200401.tsv\"\n",
    "# PVALUES_50_Q001 = \"/media/eduseiti/ebee9cb2-c63c-48bf-b862-004aba7612ee/unicamp/clustering_linfeng_sample_pvalues/clusters_quality/clusters_0.1_embeddings_q0.01_big_lstm40_3layer_pvalue_0.5_clusters_quality_20200402.tsv\"\n",
    "# PVALUES_01_Q001 = \"/media/eduseiti/ebee9cb2-c63c-48bf-b862-004aba7612ee/unicamp/clustering_linfeng_sample_pvalues/clusters_quality/clusters_0.1_embeddings_q0.01_big_lstm40_3layer_pvalue_0.01_clusters_quality_20200403.tsv\"\n",
    "# PVALUES_001_Q001 = \"/media/eduseiti/ebee9cb2-c63c-48bf-b862-004aba7612ee/unicamp/clustering_linfeng_sample_pvalues/clusters_quality/clusters_0.1_embeddings_q0.01_big_lstm40_3layer_pvalue_0.001_clusters_quality_20200405.tsv\"\n",
    "\n",
    "# PVALUES_01_Q001_LSTM30 = \"/media/eduseiti/ebee9cb2-c63c-48bf-b862-004aba7612ee/unicamp/clustering_linfeng_sample_pvalues/clusters_quality/clusters_0.1_embeddings_q0.01_big_lstm30_2layer_pvalue_0.01_clusters_quality_20200406.tsv\"\n",
    "\n",
    "PVALUES_60_Q001 = \"/media/eduseiti/data_storage_1TB/unicamp/clustering_linfeng_sample_pvalues/clusters_quality/clusters_0.1_embeddings_q0.01_big_lstm40_3layer_pvalue_0.6_clusters_quality_20200411.tsv\"\n",
    "PVALUES_40_Q001 = \"/media/eduseiti/data_storage_1TB/unicamp/clustering_linfeng_sample_pvalues/clusters_quality/clusters_0.1_embeddings_q0.01_big_lstm40_3layer_pvalue_0.4_clusters_quality_20200416.tsv\"\n",
    "\n",
    "PVALUES_10_ALL = \"/media/eduseiti/data_storage_1TB/unicamp/clustering_linfeng_sample_pvalues/clusters_quality/clusters_0.1_embeddings_q0.01_all_lstm40_3layer_pvalue_0.1_clusters_quality_20200421.tsv\"\n",
    "PVALUES_01_ALL = \"/media/eduseiti/data_storage_1TB/unicamp/clustering_linfeng_sample_pvalues/clusters_quality/clusters_0.1_embeddings_q0.01_all_lstm40_3layer_pvalue_0.01_clusters_quality_20200421.tsv\""
   ]
  },
  {
   "cell_type": "markdown",
   "metadata": {},
   "source": [
    "#### Need to manually fix the .tsv files to have the proper thresholds order."
   ]
  },
  {
   "cell_type": "code",
   "execution_count": null,
   "metadata": {},
   "outputs": [],
   "source": [
    "# Load the two references\n",
    "\n",
    "maracluster = pd.read_csv(MARACLUSTER, sep='\\t')\n",
    "embeddings_q001 = pd.read_csv(EMBEDDINGS_Q001, sep='\\t')"
   ]
  },
  {
   "cell_type": "code",
   "execution_count": null,
   "metadata": {},
   "outputs": [],
   "source": [
    "# Load the new results\n",
    "\n",
    "# pvalues_10_q001 = pd.read_csv(PVALUES_10_Q001, sep='\\t')\n",
    "# pvalues_50_q001 = pd.read_csv(PVALUES_50_Q001, sep='\\t')\n",
    "# pvalues_01_q001 = pd.read_csv(PVALUES_01_Q001, sep='\\t')\n",
    "# pvalues_001_q001 = pd.read_csv(PVALUES_001_Q001, sep='\\t')\n",
    "# pvalues_01_q001_lstm30 = pd.read_csv(PVALUES_60_Q001, sep='\\t')"
   ]
  },
  {
   "cell_type": "code",
   "execution_count": null,
   "metadata": {},
   "outputs": [],
   "source": [
    "pvalues_60_q001 = pd.read_csv(PVALUES_60_Q001, sep='\\t')\n",
    "pvalues_40_q001 = pd.read_csv(PVALUES_40_Q001, sep='\\t')"
   ]
  },
  {
   "cell_type": "code",
   "execution_count": null,
   "metadata": {},
   "outputs": [],
   "source": [
    "pvalues_10_all = pd.read_csv(PVALUES_10_ALL, sep='\\t')\n",
    "pvalues_01_all = pd.read_csv(PVALUES_01_ALL, sep='\\t')"
   ]
  },
  {
   "cell_type": "code",
   "execution_count": null,
   "metadata": {
    "scrolled": true
   },
   "outputs": [],
   "source": [
    "maracluster['x-axis'] = maracluster['# clusters'] / 912146\n",
    "maracluster['y-axis'] = maracluster['# identified consensus'] / 43087\n",
    "\n",
    "embeddings_q001['x-axis'] = embeddings_q001['# clusters'] / 912146\n",
    "embeddings_q001['y-axis'] = embeddings_q001['# identified consensus'] / 43087"
   ]
  },
  {
   "cell_type": "code",
   "execution_count": null,
   "metadata": {},
   "outputs": [],
   "source": [
    "pvalues_60_q001['x-axis'] = pvalues_60_q001['# clusters'] / 912146\n",
    "pvalues_60_q001['y-axis'] = pvalues_60_q001['# identified consensus'] / 43087\n",
    "\n",
    "pvalues_40_q001['x-axis'] = pvalues_40_q001['# clusters'] / 912146\n",
    "pvalues_40_q001['y-axis'] = pvalues_40_q001['# identified consensus'] / 43087"
   ]
  },
  {
   "cell_type": "code",
   "execution_count": null,
   "metadata": {},
   "outputs": [],
   "source": [
    "pvalues_10_all['x-axis'] = pvalues_10_all['# clusters'] / 912146\n",
    "pvalues_10_all['y-axis'] = pvalues_10_all['# identified consensus'] / 43087\n",
    "\n",
    "pvalues_01_all['x-axis'] = pvalues_01_all['# clusters'] / 912146\n",
    "pvalues_01_all['y-axis'] = pvalues_01_all['# identified consensus'] / 43087"
   ]
  },
  {
   "cell_type": "code",
   "execution_count": null,
   "metadata": {},
   "outputs": [],
   "source": [
    "# pvalues_10_q001['x-axis'] = pvalues_10_q001['# clusters'] / 912146\n",
    "# pvalues_10_q001['y-axis'] = pvalues_10_q001['# identified consensus'] / 43087\n",
    "\n",
    "# pvalues_50_q001['x-axis'] = pvalues_50_q001['# clusters'] / 912146\n",
    "# pvalues_50_q001['y-axis'] = pvalues_50_q001['# identified consensus'] / 43087\n",
    "\n",
    "# pvalues_01_q001['x-axis'] = pvalues_01_q001['# clusters'] / 912146\n",
    "# pvalues_01_q001['y-axis'] = pvalues_01_q001['# identified consensus'] / 43087\n",
    "\n",
    "# pvalues_001_q001['x-axis'] = pvalues_001_q001['# clusters'] / 912146\n",
    "# pvalues_001_q001['y-axis'] = pvalues_001_q001['# identified consensus'] / 43087\n",
    "\n",
    "# pvalues_01_q001_lstm30['x-axis'] = pvalues_01_q001_lstm30['# clusters'] / 912146\n",
    "# pvalues_01_q001_lstm30['y-axis'] = pvalues_01_q001_lstm30['# identified consensus'] / 43087"
   ]
  },
  {
   "cell_type": "code",
   "execution_count": null,
   "metadata": {
    "scrolled": false
   },
   "outputs": [],
   "source": [
    "maracluster"
   ]
  },
  {
   "cell_type": "code",
   "execution_count": null,
   "metadata": {
    "scrolled": false
   },
   "outputs": [],
   "source": [
    "embeddings_q001"
   ]
  },
  {
   "cell_type": "code",
   "execution_count": null,
   "metadata": {},
   "outputs": [],
   "source": [
    "pvalues_60_q001"
   ]
  },
  {
   "cell_type": "code",
   "execution_count": null,
   "metadata": {},
   "outputs": [],
   "source": [
    "pvalues_40_q001"
   ]
  },
  {
   "cell_type": "code",
   "execution_count": null,
   "metadata": {},
   "outputs": [],
   "source": [
    "pvalues_01_all"
   ]
  },
  {
   "cell_type": "code",
   "execution_count": null,
   "metadata": {},
   "outputs": [],
   "source": [
    "pvalues_10_all"
   ]
  },
  {
   "cell_type": "code",
   "execution_count": null,
   "metadata": {},
   "outputs": [],
   "source": [
    "# print(pvalues_10_q001)\n",
    "\n",
    "# print(pvalues_50_q001)\n",
    "\n",
    "# print(pvalues_01_q001)\n",
    "\n",
    "# print(pvalues_001_q001)\n",
    "\n",
    "# print(pvalues_01_q001_lstm30)"
   ]
  },
  {
   "cell_type": "code",
   "execution_count": null,
   "metadata": {
    "scrolled": false
   },
   "outputs": [],
   "source": [
    "fig = go.Figure()\n",
    "\n",
    "fig.update_layout(yaxis_title=\"<b>Retainment of identified peptides</b><br>(identified clusters) / (total spectra identified)\",\n",
    "                  xaxis_title=\"<b>Proportion of spectra remaining</b><br>(num of clusters) / (num of spectra)\",\n",
    "                  height=750)\n",
    "\n",
    "fig.add_trace(go.Scatter(x = maracluster['x-axis'], \n",
    "                         y = maracluster['y-axis'], \n",
    "                         mode=\"lines\",\n",
    "                         name=\"maracluster\"))\n",
    "\n",
    "fig.add_trace(go.Scatter(x = embeddings_q001['x-axis'], \n",
    "                         y = embeddings_q001['y-axis'], \n",
    "                         mode=\"lines\",\n",
    "                         name=\"embeddings q < 0.01\"))\n",
    "\n",
    "\n",
    "fig.add_trace(go.Scatter(x = pvalues_60_q001['x-axis'], \n",
    "                         y = pvalues_60_q001['y-axis'], \n",
    "                         mode=\"lines\",\n",
    "                         name=\"pvalue 60% ― q < 0.01 big lstm40 3layer\"))\n",
    "\n",
    "\n",
    "fig.add_trace(go.Scatter(x = pvalues_40_q001['x-axis'], \n",
    "                         y = pvalues_40_q001['y-axis'], \n",
    "                         mode=\"lines\",\n",
    "                         name=\"pvalue 40% ― q < 0.01 big lstm40 3layer\"))\n",
    "\n",
    "\n",
    "\n",
    "fig.add_trace(go.Scatter(x = pvalues_10_all['x-axis'], \n",
    "                         y = pvalues_10_all['y-axis'], \n",
    "                         mode=\"lines\",\n",
    "                         name=\"pvalue 10% ― q < 0.01 all lstm40 3layer\"))\n",
    "\n",
    "\n",
    "fig.add_trace(go.Scatter(x = pvalues_01_all['x-axis'], \n",
    "                         y = pvalues_01_all['y-axis'], \n",
    "                         mode=\"lines\",\n",
    "                         name=\"pvalue 1% ― q < 0.01 all lstm40 3layer\"))\n",
    "\n",
    "\n",
    "# fig.add_trace(go.Scatter(x = pvalues_10_q001['x-axis'], \n",
    "#                          y = pvalues_10_q001['y-axis'], \n",
    "#                          mode=\"lines\",\n",
    "#                          name=\"pvalue 10% ― q < 0.01 big lstm40 3layer\"))\n",
    "\n",
    "# fig.add_trace(go.Scatter(x = pvalues_50_q001['x-axis'], \n",
    "#                          y = pvalues_50_q001['y-axis'], \n",
    "#                          mode=\"lines\",\n",
    "#                          name=\"pvalue 50% ― q < 0.01 big lstm40 3layer\"))\n",
    "\n",
    "# fig.add_trace(go.Scatter(x = pvalues_01_q001['x-axis'], \n",
    "#                          y = pvalues_01_q001['y-axis'], \n",
    "#                          mode=\"lines\",\n",
    "#                          name=\"pvalue 1% ― q < 0.01 big lstm40 3layer\"))\n",
    "\n",
    "# fig.add_trace(go.Scatter(x = pvalues_001_q001['x-axis'], \n",
    "#                          y = pvalues_001_q001['y-axis'], \n",
    "#                          mode=\"lines\",\n",
    "#                          name=\"pvalue 0.1% ― q < 0.01 big lstm40 3layer\"))\n",
    "\n",
    "# fig.add_trace(go.Scatter(x = pvalues_01_q001_lstm30['x-axis'], \n",
    "#                          y = pvalues_01_q001_lstm30['y-axis'], \n",
    "#                          mode=\"lines\",\n",
    "#                          name=\"pvalue 1% ― q < 0.01 big lstm30 2layer\"))"
   ]
  },
  {
   "cell_type": "markdown",
   "metadata": {},
   "source": [
    "## Second evaluation criteria: clusters quality\n",
    "\n",
    "Original MaRaCluster work reported the clusters quality for 19% of the original spectra; current experiments start with ~22% of the spectra. Use that as the threshold selection parameter.\n",
    "\n",
    "* For maracluster, get the p5; \n",
    "* for q < 0.01 embeddings, get the p73.983100; \n",
    "* for pvalue at 10%, get the p68.077300; \n",
    "* for pvalue at 50%, get the p71.198300;\n",
    "* for pvalue at 1%, get the p78.831000;\n",
    "* for pvalue at 0,1%, get the p96.000000;\n",
    "* for pvalue at 1% with LSTM30 2layer, get the p83.022400;\n",
    "* for pvalue at 60%, get the p68.077300;\n",
    "* for pvalue at 40%, get the p76.505100;\n",
    "* for pvalue at 10% (all), get the p78.831000;\n",
    "* for pvalue at 1% (all), get the p64.506800;"
   ]
  },
  {
   "cell_type": "code",
   "execution_count": null,
   "metadata": {},
   "outputs": [],
   "source": [
    "BASE_FOLDER = \"/media/eduseiti/Seagate Expansion Drive2/unicamp/clustering/linfeng/sample/backup_first_comparisson_20200225/consensus_identifications_analysis/\"\n",
    "BASE_FOLDER_PVALUE = \"/media/eduseiti/ebee9cb2-c63c-48bf-b862-004aba7612ee/unicamp/clustering_linfeng_sample_pvalues/identifications_analysis/\"\n",
    "BASE_FOLDER_PVALUE_BACKUP = \"/media/eduseiti/data_storage_1TB/unicamp/clustering_linfeng_sample_pvalues/identifications_analysis/\""
   ]
  },
  {
   "cell_type": "code",
   "execution_count": null,
   "metadata": {},
   "outputs": [],
   "source": [
    "MARACLUSTER_CLUSTERS_QUALITY = \"identifications_maracluster/sample_maracluster.clusters_p5_identifications_analysis.tsv_clusters_size.tsv\"\n",
    "Q01_CLUSTERS_QUALITY = \"identifications_q0.01/sample_embeddings_q0.01.clusters_p73.983100_identifications_analysis.tsv_clusters_size.tsv\"\n",
    "\n",
    "# Q01_PVALUE_10 = \"q0.01_big_lstm40_3layer_pvalue/embeddings_q0.01_big_lstm40_3layer_pvalue.clusters_p68.077300_identifications_analysis_clusters_size.tsv\"\n",
    "# Q01_PVALUE_50 = \"q0.01_big_lstm40_3layer_pvalue_0.5/embeddings_q0.01_big_lstm40_3layer_pvalue_0.5.clusters_p71.198300_identifications_analysis_clusters_size.tsv\"\n",
    "# Q01_PVALUE_01 = \"q0.01_big_lstm40_3layer_pvalue_0.01/embeddings_q0.01_big_lstm40_3layer_pvalue_0.01.clusters_p78.831000_identifications_analysis_clusters_size.tsv\"\n",
    "# Q01_PVALUE_001 = \"q0.01_big_lstm40_3layer_pvalue_0.001/embeddings_q0.01_big_lstm40_3layer_pvalue_0.001.clusters_p96.000000_identifications_analysis_clusters_size.tsv\"\n",
    "\n",
    "# Q01_PVALUE_01_LSTM30 = \"q0.01_big_lstm30_2layer_pvalue_0.01/embeddings_q0.01_big_lstm30_2layer_pvalue_0.01.clusters_p83.022400_identifications_analysis_clusters_size.tsv\"\n",
    "\n",
    "Q01_PVALUE_60 = \"q0.01_big_lstm40_3layer_pvalue_0.6/embeddings_q0.01_big_lstm40_3layer_pvalue_0.6.clusters_p68.077300_identifications_analysis_clusters_size.tsv\"\n",
    "Q01_PVALUE_40 = \"q0.01_big_lstm40_3layer_pvalue_0.4/embeddings_q0.01_big_lstm40_3layer_pvalue_0.4.clusters_p76.505100_identifications_analysis_clusters_size.tsv\"\n",
    "\n",
    "Q01_PVALUE_10_ALL = \"q0.01_all_lstm40_3layer_pvalue_0.1/embeddings_q0.01_all_lstm40_3layer_pvalue_0.1.clusters_p78.831000_identifications_analysis_clusters_size.tsv\"\n",
    "Q01_PVALUE_01_ALL = \"q0.01_all_lstm40_3layer_pvalue_0.01/embeddings_q0.01_all_lstm40_3layer_pvalue_0.01.clusters_p64.506800_identifications_analysis_clusters_size.tsv\""
   ]
  },
  {
   "cell_type": "code",
   "execution_count": null,
   "metadata": {},
   "outputs": [],
   "source": [
    "maraclusters_quality = pd.read_csv(os.path.join(BASE_FOLDER, MARACLUSTER_CLUSTERS_QUALITY), sep='\\t')\n",
    "q01_quality = pd.read_csv(os.path.join(BASE_FOLDER, Q01_CLUSTERS_QUALITY), sep='\\t')\n",
    "\n",
    "q01_pvalue_60 = pd.read_csv(os.path.join(BASE_FOLDER_PVALUE_BACKUP, Q01_PVALUE_60), sep='\\t')\n",
    "q01_pvalue_40 = pd.read_csv(os.path.join(BASE_FOLDER_PVALUE_BACKUP, Q01_PVALUE_40), sep='\\t')\n",
    "\n",
    "q01_pvalue_10_all = pd.read_csv(os.path.join(BASE_FOLDER_PVALUE_BACKUP, Q01_PVALUE_10_ALL), sep='\\t')\n",
    "q01_pvalue_01_all = pd.read_csv(os.path.join(BASE_FOLDER_PVALUE_BACKUP, Q01_PVALUE_01_ALL), sep='\\t')\n",
    "\n",
    "# q01_pvalue_10 = pd.read_csv(os.path.join(BASE_FOLDER_PVALUE, Q01_PVALUE_10), sep='\\t')\n",
    "# q01_pvalue_50 = pd.read_csv(os.path.join(BASE_FOLDER_PVALUE, Q01_PVALUE_50), sep='\\t')\n",
    "# q01_pvalue_01 = pd.read_csv(os.path.join(BASE_FOLDER_PVALUE, Q01_PVALUE_01), sep='\\t')\n",
    "# q01_pvalue_001 = pd.read_csv(os.path.join(BASE_FOLDER_PVALUE, Q01_PVALUE_001), sep='\\t')\n",
    "# q01_pvalue_01_lstm30 = pd.read_csv(os.path.join(BASE_FOLDER_PVALUE, Q01_PVALUE_01_LSTM30), sep='\\t')"
   ]
  },
  {
   "cell_type": "code",
   "execution_count": null,
   "metadata": {
    "scrolled": true
   },
   "outputs": [],
   "source": [
    "maraclusters_quality"
   ]
  },
  {
   "cell_type": "code",
   "execution_count": null,
   "metadata": {},
   "outputs": [],
   "source": [
    "q01_quality"
   ]
  },
  {
   "cell_type": "code",
   "execution_count": null,
   "metadata": {},
   "outputs": [],
   "source": [
    "q01_pvalue_60"
   ]
  },
  {
   "cell_type": "code",
   "execution_count": null,
   "metadata": {},
   "outputs": [],
   "source": [
    "q01_pvalue_40"
   ]
  },
  {
   "cell_type": "code",
   "execution_count": null,
   "metadata": {},
   "outputs": [],
   "source": [
    "q01_pvalue_10_all"
   ]
  },
  {
   "cell_type": "code",
   "execution_count": null,
   "metadata": {},
   "outputs": [],
   "source": [
    "q01_pvalue_01_all"
   ]
  },
  {
   "cell_type": "code",
   "execution_count": null,
   "metadata": {},
   "outputs": [],
   "source": [
    "# print(q01_pvalue_10)\n",
    "\n",
    "# print(q01_pvalue_50)\n",
    "\n",
    "# print(q01_pvalue_01)\n",
    "\n",
    "# print(q01_pvalue_001)\n",
    "\n",
    "# print(q01_pvalue_01_lstm30)"
   ]
  },
  {
   "cell_type": "code",
   "execution_count": null,
   "metadata": {},
   "outputs": [],
   "source": [
    "fig = go.Figure()\n",
    "\n",
    "fig.update_layout(yaxis_title=\"<b>Average purity</b><br>(identified clusters purity) / (# of identified clusters)\",\n",
    "                  xaxis_title=\"<b>Cluster size</b>\")\n",
    "\n",
    "fig.add_trace(go.Scatter(x = maraclusters_quality['size'], \n",
    "                         y = maraclusters_quality['identified clusters mean'], \n",
    "                         opacity=0.5,\n",
    "                         mode=\"markers+lines\",\n",
    "                         name=\"maracluster\"))\n",
    "\n",
    "fig.add_trace(go.Scatter(x = q01_quality['size'], \n",
    "                         y = q01_quality['identified clusters mean'], \n",
    "                         opacity=0.5,\n",
    "                         mode=\"markers+lines\",\n",
    "                         name=\"embeddings q < 0.01\"))\n",
    "\n",
    "\n",
    "fig.add_trace(go.Scatter(x = q01_pvalue_60['size'], \n",
    "                         y = q01_pvalue_60['identified clusters mean'], \n",
    "                         opacity=0.5,\n",
    "                         mode=\"markers+lines\",\n",
    "                         name=\"pvalue 60% ― q < 0.01 big lstm40 3layer\"))\n",
    "\n",
    "\n",
    "fig.add_trace(go.Scatter(x = q01_pvalue_40['size'], \n",
    "                         y = q01_pvalue_40['identified clusters mean'], \n",
    "                         opacity=0.5,\n",
    "                         mode=\"markers+lines\",\n",
    "                         name=\"pvalue 40% ― q < 0.01 big lstm40 3layer\"))\n",
    "\n",
    "\n",
    "\n",
    "fig.add_trace(go.Scatter(x = q01_pvalue_01_all['size'], \n",
    "                         y = q01_pvalue_01_all['identified clusters mean'], \n",
    "                         opacity=0.5,\n",
    "                         mode=\"markers+lines\",\n",
    "                         name=\"pvalue 1% ― q < 0.01 all lstm40 3layer\"))\n",
    "\n",
    "fig.add_trace(go.Scatter(x = q01_pvalue_10_all['size'], \n",
    "                         y = q01_pvalue_10_all['identified clusters mean'], \n",
    "                         opacity=0.5,\n",
    "                         mode=\"markers+lines\",\n",
    "                         name=\"pvalue 10% ― q < 0.01 all lstm40 3layer\"))\n",
    "\n",
    "\n",
    "\n",
    "# fig.add_trace(go.Scatter(x = q01_pvalue_10['size'], \n",
    "#                          y = q01_pvalue_10['identified clusters mean'], \n",
    "#                          opacity=0.5,\n",
    "#                          mode=\"markers+lines\",\n",
    "#                          name=\"pvalue 10% ― q < 0.01 big lstm40 3layer\"))\n",
    "\n",
    "# fig.add_trace(go.Scatter(x = q01_pvalue_50['size'], \n",
    "#                          y = q01_pvalue_50['identified clusters mean'], \n",
    "#                          opacity=0.5,\n",
    "#                          mode=\"markers+lines\",\n",
    "#                          name=\"pvalue 50% ― q < 0.01 big lstm40 3layer\"))\n",
    "\n",
    "# fig.add_trace(go.Scatter(x = q01_pvalue_01['size'], \n",
    "#                          y = q01_pvalue_01['identified clusters mean'], \n",
    "#                          opacity=0.5,\n",
    "#                          mode=\"markers+lines\",\n",
    "#                          name=\"pvalue 1% ― q < 0.01 big lstm40 3layer\"))\n",
    "\n",
    "# fig.add_trace(go.Scatter(x = q01_pvalue_001['size'], \n",
    "#                          y = q01_pvalue_001['identified clusters mean'], \n",
    "#                          opacity=0.5,\n",
    "#                          mode=\"markers+lines\",\n",
    "#                          name=\"pvalue 0.1% ― q < 0.01 big lstm40 3layer\"))\n",
    "\n",
    "# fig.add_trace(go.Scatter(x = q01_pvalue_01_lstm30['size'], \n",
    "#                          y = q01_pvalue_01_lstm30['identified clusters mean'], \n",
    "#                          opacity=0.5,\n",
    "#                          mode=\"markers+lines\",\n",
    "#                          name=\"pvalue 1% ― q < 0.01 big lstm30 2layer\"))"
   ]
  },
  {
   "cell_type": "code",
   "execution_count": null,
   "metadata": {
    "scrolled": false
   },
   "outputs": [],
   "source": [
    "fig = go.Figure()\n",
    "\n",
    "fig.update_layout(yaxis_title=\"<b>Clusters count</b>\",\n",
    "                  xaxis_title=\"<b>Cluster size</b>\",\n",
    "                  width=1500, height=750)\n",
    "\n",
    "fig.add_trace(go.Scatter(x = maraclusters_quality['size'], \n",
    "                         y = maraclusters_quality['clusters'], \n",
    "                         mode=\"markers+lines\",\n",
    "                         name=\"maracluster\",\n",
    "                         opacity=0.5,\n",
    "                         line=dict(color=\"red\", width=3)))\n",
    "\n",
    "fig.add_trace(go.Scatter(x = q01_quality['size'], \n",
    "                         y = q01_quality['clusters'], \n",
    "                         mode=\"markers+lines\",\n",
    "                         name=\"q < 0.01\",\n",
    "                         opacity=0.5,\n",
    "                         line=dict(color=\"blue\", width=3)))\n",
    "\n",
    "fig.add_trace(go.Scatter(x = q01_pvalue_60['size'], \n",
    "                         y = q01_pvalue_60['clusters'], \n",
    "                         mode=\"markers+lines\",\n",
    "                         name=\"pvalue 60%, q < 0.01 big lstm40 3layer\",\n",
    "                         opacity=0.5,\n",
    "                         line=dict(color=\"violet\", width=3)))\n",
    "\n",
    "fig.add_trace(go.Scatter(x = q01_pvalue_40['size'], \n",
    "                         y = q01_pvalue_40['clusters'], \n",
    "                         mode=\"markers+lines\",\n",
    "                         name=\"pvalue 40%, q < 0.01 big lstm40 3layer\",\n",
    "                         opacity=0.5,\n",
    "                         line=dict(color=\"orange\", width=3)))\n",
    "\n",
    "\n",
    "\n",
    "\n",
    "fig.add_trace(go.Scatter(x = maraclusters_quality['size'], \n",
    "                         y = maraclusters_quality['identified clusters'], \n",
    "                         mode=\"markers+lines\",\n",
    "                         name=\"maracluster identified\",\n",
    "                         opacity=0.5,\n",
    "                         line=dict(dash=\"dash\", color=\"red\", width=3)))\n",
    "\n",
    "fig.add_trace(go.Scatter(x = q01_quality['size'], \n",
    "                         y = q01_quality['identified clusters'], \n",
    "                         mode=\"markers+lines\",\n",
    "                         name=\"q < 0.01 identified\",\n",
    "                         opacity=0.5,\n",
    "                         line=dict(dash=\"dash\", color=\"blue\", width=3)))\n",
    "\n",
    "fig.add_trace(go.Scatter(x = q01_pvalue_60['size'], \n",
    "                         y = q01_pvalue_60['identified clusters'], \n",
    "                         mode=\"markers+lines\",\n",
    "                         name=\"pvalue 60%, q < 0.01 big lstm40 3layer\",\n",
    "                         opacity=0.5,\n",
    "                         line=dict(color=\"violet\", width=3)))\n",
    "\n",
    "fig.add_trace(go.Scatter(x = q01_pvalue_40['size'], \n",
    "                         y = q01_pvalue_40['identified clusters'], \n",
    "                         mode=\"markers+lines\",\n",
    "                         name=\"pvalue 40%, q < 0.01 big lstm40 3layer\",\n",
    "                         opacity=0.5,\n",
    "                         line=dict(color=\"orange\", width=3)))\n"
   ]
  },
  {
   "cell_type": "code",
   "execution_count": null,
   "metadata": {},
   "outputs": [],
   "source": []
  }
 ],
 "metadata": {
  "kernelspec": {
   "display_name": "Python 3",
   "language": "python",
   "name": "python3"
  },
  "language_info": {
   "codemirror_mode": {
    "name": "ipython",
    "version": 3
   },
   "file_extension": ".py",
   "mimetype": "text/x-python",
   "name": "python",
   "nbconvert_exporter": "python",
   "pygments_lexer": "ipython3",
   "version": "3.6.9"
  }
 },
 "nbformat": 4,
 "nbformat_minor": 2
}
