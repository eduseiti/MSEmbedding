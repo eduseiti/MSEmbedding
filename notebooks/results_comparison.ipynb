{
 "cells": [
  {
   "cell_type": "code",
   "execution_count": null,
   "metadata": {},
   "outputs": [],
   "source": [
    "import pandas as pd\n",
    "import plotly.graph_objects as go\n",
    "import os"
   ]
  },
  {
   "cell_type": "code",
   "execution_count": null,
   "metadata": {},
   "outputs": [],
   "source": [
    "MARACLUSTER = \"/media/eduseiti/Seagate Expansion Drive/unicamp/clustering/linfeng/sample/backup_first_comparisson_20200225/clusters_quality_analysis/clusters_sample_0.1_maracluster_verification_clusters_quality_20200219.tsv\"\n",
    "EMBEDDINGS_Q001 = \"/media/eduseiti/Seagate Expansion Drive/unicamp/clustering/linfeng/sample/backup_first_comparisson_20200225/clusters_quality_analysis/clusters_sample_0.1_embeddings_q0.01_clusters_quality_20200219.tsv\"\n",
    "\n",
    "PVALUES_10_Q001 = \"/media/eduseiti/ebee9cb2-c63c-48bf-b862-004aba7612ee/unicamp/clustering_linfeng_sample_pvalues/clusters_quality/clusters_0.1_embeddings_q0.01_big_lstm40_3layer_pvalue_clusters_quality_20200401.tsv\"\n"
   ]
  },
  {
   "cell_type": "markdown",
   "metadata": {},
   "source": [
    "#### Need to manually fix the .tsv files to have the proper thresholds order."
   ]
  },
  {
   "cell_type": "code",
   "execution_count": null,
   "metadata": {},
   "outputs": [],
   "source": [
    "# Load the two references\n",
    "\n",
    "maracluster = pd.read_csv(MARACLUSTER, sep='\\t')\n",
    "embeddings_q001 = pd.read_csv(EMBEDDINGS_Q001, sep='\\t')\n",
    "\n",
    "\n",
    "# Load the new results\n",
    "\n",
    "pvalues_10_q001 = pd.read_csv(PVALUES_10_Q001, sep='\\t')\n",
    "\n",
    "\n"
   ]
  },
  {
   "cell_type": "code",
   "execution_count": null,
   "metadata": {
    "scrolled": true
   },
   "outputs": [],
   "source": [
    "maracluster['x-axis'] = maracluster['# clusters'] / 912146\n",
    "maracluster['y-axis'] = maracluster['# identified consensus'] / 43087\n",
    "\n",
    "embeddings_q001['x-axis'] = embeddings_q001['# clusters'] / 912146\n",
    "embeddings_q001['y-axis'] = embeddings_q001['# identified consensus'] / 43087"
   ]
  },
  {
   "cell_type": "code",
   "execution_count": null,
   "metadata": {},
   "outputs": [],
   "source": [
    "pvalues_10_q001['x-axis'] = pvalues_10_q001['# clusters'] / 912146\n",
    "pvalues_10_q001['y-axis'] = pvalues_10_q001['# identified consensus'] / 43087"
   ]
  },
  {
   "cell_type": "code",
   "execution_count": null,
   "metadata": {
    "scrolled": false
   },
   "outputs": [],
   "source": [
    "maracluster"
   ]
  },
  {
   "cell_type": "code",
   "execution_count": null,
   "metadata": {
    "scrolled": false
   },
   "outputs": [],
   "source": [
    "embeddings_q001"
   ]
  },
  {
   "cell_type": "code",
   "execution_count": null,
   "metadata": {},
   "outputs": [],
   "source": [
    "pvalues_10_q001"
   ]
  },
  {
   "cell_type": "code",
   "execution_count": null,
   "metadata": {},
   "outputs": [],
   "source": [
    "fig = go.Figure()\n",
    "\n",
    "fig.update_layout(yaxis_title=\"<b>Retainment of identified peptides</b><br>(identified clusters) / (total spectra identified)\",\n",
    "                  xaxis_title=\"<b>Proportion of spectra remaining</b><br>(num of clusters) / (num of spectra)\",\n",
    "                  height=750)\n",
    "\n",
    "fig.add_trace(go.Scatter(x = maracluster['x-axis'], \n",
    "                         y = maracluster['y-axis'], \n",
    "                         mode=\"lines\",\n",
    "                         name=\"maracluster\"))\n",
    "\n",
    "fig.add_trace(go.Scatter(x = embeddings_q001['x-axis'], \n",
    "                         y = embeddings_q001['y-axis'], \n",
    "                         mode=\"lines\",\n",
    "                         name=\"embeddings q < 0.01\"))\n",
    "\n",
    "\n",
    "fig.add_trace(go.Scatter(x = pvalues_10_q001['x-axis'], \n",
    "                         y = pvalues_10_q001['y-axis'], \n",
    "                         mode=\"lines\",\n",
    "                         name=\"q < 0.01 big lstm40 3layer pvalue\"))"
   ]
  },
  {
   "cell_type": "markdown",
   "metadata": {},
   "source": [
    "## Second evaluation criteria: clusters quality\n",
    "\n",
    "Original MaRaCluster work reported the clusters quality for 19% of the original spectra; current experiments start with ~22% of the spectra. Use that as the threshold selection parameter.\n",
    "\n",
    "For maracluster, get the p5; for q < 0.01 embeddings, get the p73.983100; for pvalue at 20%, get the p68.077300."
   ]
  },
  {
   "cell_type": "code",
   "execution_count": null,
   "metadata": {},
   "outputs": [],
   "source": [
    "BASE_FOLDER = \"/media/eduseiti/Seagate Expansion Drive/unicamp/clustering/linfeng/sample/backup_first_comparisson_20200225/consensus_identifications_analysis/\"\n",
    "BASE_FOLDER_PVALUE = \"/media/eduseiti/ebee9cb2-c63c-48bf-b862-004aba7612ee/unicamp/clustering_linfeng_sample_pvalues/identifications_analysis/\""
   ]
  },
  {
   "cell_type": "code",
   "execution_count": null,
   "metadata": {},
   "outputs": [],
   "source": [
    "MARACLUSTER_CLUSTERS_QUALITY = \"identifications_maracluster/sample_maracluster.clusters_p5_identifications_analysis.tsv_clusters_size.tsv\"\n",
    "Q01_CLUSTERS_QUALITY = \"identifications_q0.01/sample_embeddings_q0.01.clusters_p73.983100_identifications_analysis.tsv_clusters_size.tsv\"\n",
    "\n",
    "Q01_PVALUE_10 = \"q0.01_big_lstm40_3layer_pvalue/embeddings_q0.01_big_lstm40_3layer_pvalue.clusters_p68.077300_identifications_analysis_clusters_size.tsv\""
   ]
  },
  {
   "cell_type": "code",
   "execution_count": null,
   "metadata": {},
   "outputs": [],
   "source": [
    "maraclusters_quality = pd.read_csv(os.path.join(BASE_FOLDER, MARACLUSTER_CLUSTERS_QUALITY), sep='\\t')\n",
    "q01_quality = pd.read_csv(os.path.join(BASE_FOLDER, Q01_CLUSTERS_QUALITY), sep='\\t')\n",
    "q01_pvalue_10 = pd.read_csv(os.path.join(BASE_FOLDER_PVALUE, Q01_PVALUE_10), sep='\\t')"
   ]
  },
  {
   "cell_type": "code",
   "execution_count": null,
   "metadata": {
    "scrolled": true
   },
   "outputs": [],
   "source": [
    "maraclusters_quality"
   ]
  },
  {
   "cell_type": "code",
   "execution_count": null,
   "metadata": {},
   "outputs": [],
   "source": [
    "q01_quality"
   ]
  },
  {
   "cell_type": "code",
   "execution_count": null,
   "metadata": {},
   "outputs": [],
   "source": [
    "q01_pvalue_10"
   ]
  },
  {
   "cell_type": "code",
   "execution_count": null,
   "metadata": {},
   "outputs": [],
   "source": [
    "fig = go.Figure()\n",
    "\n",
    "fig.update_layout(yaxis_title=\"<b>Average purity</b><br>(identified clusters purity) / (# of identified clusters)\",\n",
    "                  xaxis_title=\"<b>Cluster size</b>\")\n",
    "\n",
    "fig.add_trace(go.Scatter(x = maraclusters_quality['size'], \n",
    "                         y = maraclusters_quality['identified clusters mean'], \n",
    "                         opacity=0.5,\n",
    "                         mode=\"markers+lines\",\n",
    "                         name=\"maracluster\"))\n",
    "\n",
    "fig.add_trace(go.Scatter(x = q01_quality['size'], \n",
    "                         y = q01_quality['identified clusters mean'], \n",
    "                         opacity=0.5,\n",
    "                         mode=\"markers+lines\",\n",
    "                         name=\"embeddings q < 0.01\"))\n",
    "\n",
    "\n",
    "fig.add_trace(go.Scatter(x = q01_pvalue_10['size'], \n",
    "                         y = q01_pvalue_10['identified clusters mean'], \n",
    "                         opacity=0.5,\n",
    "                         mode=\"markers+lines\",\n",
    "                         name=\"q < 0.01 big lstm40 3layer pvalue 10%\"))"
   ]
  },
  {
   "cell_type": "code",
   "execution_count": null,
   "metadata": {
    "scrolled": false
   },
   "outputs": [],
   "source": [
    "fig = go.Figure()\n",
    "\n",
    "fig.update_layout(yaxis_title=\"<b>Clusters count</b>\",\n",
    "                  xaxis_title=\"<b>Cluster size</b>\",\n",
    "                  width=1500, height=750)\n",
    "\n",
    "fig.add_trace(go.Scatter(x = maraclusters_quality['size'], \n",
    "                         y = maraclusters_quality['clusters'], \n",
    "                         mode=\"markers+lines\",\n",
    "                         name=\"maracluster\",\n",
    "                         opacity=0.5,\n",
    "                         line=dict(color=\"red\", width=3)))\n",
    "\n",
    "fig.add_trace(go.Scatter(x = q01_quality['size'], \n",
    "                         y = q01_quality['clusters'], \n",
    "                         mode=\"markers+lines\",\n",
    "                         name=\"q < 0.01\",\n",
    "                         opacity=0.5,\n",
    "                         line=dict(color=\"blue\", width=3)))\n",
    "\n",
    "fig.add_trace(go.Scatter(x = q01_pvalue_10['size'], \n",
    "                         y = q01_pvalue_10['clusters'], \n",
    "                         mode=\"markers+lines\",\n",
    "                         name=\"q < 0.01 big lstm40 3layer pvalue 10%\",\n",
    "                         opacity=0.5,\n",
    "                         line=dict(color=\"violet\", width=3)))\n",
    "\n",
    "\n",
    "\n",
    "\n",
    "fig.add_trace(go.Scatter(x = maraclusters_quality['size'], \n",
    "                         y = maraclusters_quality['identified clusters'], \n",
    "                         mode=\"markers+lines\",\n",
    "                         name=\"maracluster identified\",\n",
    "                         opacity=0.5,\n",
    "                         line=dict(dash=\"dash\", color=\"red\", width=3)))\n",
    "\n",
    "fig.add_trace(go.Scatter(x = q01_quality['size'], \n",
    "                         y = q01_quality['identified clusters'], \n",
    "                         mode=\"markers+lines\",\n",
    "                         name=\"q < 0.01 identified\",\n",
    "                         opacity=0.5,\n",
    "                         line=dict(dash=\"dash\", color=\"blue\", width=3)))\n",
    "\n",
    "fig.add_trace(go.Scatter(x = q01_pvalue_10['size'], \n",
    "                         y = q01_pvalue_10['identified clusters'], \n",
    "                         mode=\"markers+lines\",\n",
    "                         name=\"q < 0.01 big lstm40 3layer pvalue 10%\",\n",
    "                         opacity=0.5,\n",
    "                         line=dict(color=\"violet\", width=3)))\n"
   ]
  }
 ],
 "metadata": {
  "kernelspec": {
   "display_name": "Python 3",
   "language": "python",
   "name": "python3"
  },
  "language_info": {
   "codemirror_mode": {
    "name": "ipython",
    "version": 3
   },
   "file_extension": ".py",
   "mimetype": "text/x-python",
   "name": "python",
   "nbconvert_exporter": "python",
   "pygments_lexer": "ipython3",
   "version": "3.6.9"
  }
 },
 "nbformat": 4,
 "nbformat_minor": 2
}
