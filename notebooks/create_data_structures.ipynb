{
 "cells": [
  {
   "cell_type": "code",
   "execution_count": null,
   "metadata": {},
   "outputs": [],
   "source": [
    "import os"
   ]
  },
  {
   "cell_type": "code",
   "execution_count": null,
   "metadata": {},
   "outputs": [],
   "source": [
    "BASE_PATH = \"/media/eduseiti/1e87bcc3-14c1-4641-ac7e-ece358e4ca47/unicamp/PXD000561/mgf_identification\"\n",
    "BASE_PATH_2 = \"/media/eduseiti/1e87bcc3-14c1-4641-ac7e-ece358e4ca47/unicamp/PXD000561/mgf_identification_2\"\n",
    "OUTPUT_FILE = \"data_structures.py\"\n",
    "OUTPUT_FILE_2 = \"data_structures_2.py\"\n",
    "\n",
    "MATCH_QUALITY = \"q0.01\""
   ]
  },
  {
   "cell_type": "code",
   "execution_count": null,
   "metadata": {},
   "outputs": [],
   "source": [
    "def process_folders(which_folder, output_file):\n",
    "\n",
    "    created_structures = []\n",
    "\n",
    "    with open(output_file, \"w\") as outputFile:\n",
    "        for root, dirs, files in os.walk(which_folder):\n",
    "            dirs.sort()\n",
    "\n",
    "            for dir in dirs:\n",
    "\n",
    "                outputFile.write(\"{}_FILES = [\\n\".format(dir.upper()))\n",
    "\n",
    "                created_structures.append([dir + \"_\" + MATCH_QUALITY + \"_identifications.tsv\", dir.upper() + \"_FILES\", dir])\n",
    "\n",
    "                for root, dirs, files in os.walk(os.path.join(which_folder, dir)):\n",
    "\n",
    "                    files.sort()\n",
    "\n",
    "                    for i, file in enumerate(files):\n",
    "                        if \".mgf\" in file:\n",
    "                            outputFile.write(\"\\t\\\"{}\\\"{}\\n\".format(file, \",\" if i + 1 < len(files) else \"\"))\n",
    "\n",
    "                outputFile.write(\"]\\n\\n\\n\")\n",
    "\n",
    "\n",
    "        #\n",
    "        # output the matches to files list dictionary\n",
    "        #      \n",
    "\n",
    "        outputFile.write(\"MATCHES_TO_CRUX_FILES_LIST = {\\n\")\n",
    "\n",
    "        for i, structure in enumerate(created_structures):\n",
    "            outputFile.write(\"\\t\\\"{}\\\" : {}{}\\n\".format(structure[0], structure[1], \",\" if i + 1 < len(created_structures) else \"\"))\n",
    "\n",
    "        outputFile.write(\"}\\n\\n\\n\")\n",
    "\n",
    "\n",
    "        #\n",
    "        # output the experiments in dataset dictionary\n",
    "        #\n",
    "\n",
    "        outputFile.write(\"TRAIN_EXPERIMENTS_DATA_5_0 = {\\n\")\n",
    "\n",
    "        for i, structure in enumerate(created_structures):\n",
    "            outputFile.write(\"\\t\\\"{}\\\" : {{\\\"peaksFile\\\" : \\\"{}_crux_{}_pvalue{{}}.pkl\\\", \\\"filesList\\\" : None, \\\"constructor\\\" : HumanProteome}}{}\\n\".format(structure[0], structure[2], MATCH_QUALITY, \",\" if i + 1 < len(created_structures) else \"\"))\n",
    "\n",
    "        outputFile.write(\"}\\n\\n\\n\")\n",
    "    \n",
    "    "
   ]
  },
  {
   "cell_type": "code",
   "execution_count": null,
   "metadata": {},
   "outputs": [],
   "source": [
    "process_folders(BASE_PATH, OUTPUT_FILE)"
   ]
  },
  {
   "cell_type": "code",
   "execution_count": null,
   "metadata": {},
   "outputs": [],
   "source": [
    "process_folders(BASE_PATH_2, OUTPUT_FILE_2)"
   ]
  },
  {
   "cell_type": "code",
   "execution_count": null,
   "metadata": {},
   "outputs": [],
   "source": []
  }
 ],
 "metadata": {
  "kernelspec": {
   "display_name": "Python 3",
   "language": "python",
   "name": "python3"
  },
  "language_info": {
   "codemirror_mode": {
    "name": "ipython",
    "version": 3
   },
   "file_extension": ".py",
   "mimetype": "text/x-python",
   "name": "python",
   "nbconvert_exporter": "python",
   "pygments_lexer": "ipython3",
   "version": "3.6.9"
  }
 },
 "nbformat": 4,
 "nbformat_minor": 2
}
