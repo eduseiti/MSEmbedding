{
 "cells": [
  {
   "cell_type": "code",
   "execution_count": null,
   "metadata": {},
   "outputs": [],
   "source": [
    "import pandas as pd\n",
    "import plotly.graph_objects as go\n",
    "import os"
   ]
  },
  {
   "cell_type": "code",
   "execution_count": null,
   "metadata": {},
   "outputs": [],
   "source": [
    "Q0001_FIRST = \"/media/eduseiti/bigdata02/unicamp/doutorado/clustering/linfeng/sample/analysis/q0.001_validation_distances_histogram_first.txt\"\n",
    "Q0001_LAST = \"/media/eduseiti/bigdata02/unicamp/doutorado/clustering/linfeng/sample/analysis/q0.001_validation_distances_histogram_last.txt\"\n",
    "\n",
    "Q001_FIRST = \"/media/eduseiti/bigdata02/unicamp/doutorado/clustering/linfeng/sample/analysis/q0.01_validation_distances_histogram_first.txt\"\n",
    "Q001_BEST = \"/media/eduseiti/bigdata02/unicamp/doutorado/clustering/linfeng/sample/analysis/q0.01_validation_distances_histogram_best.txt\"\n",
    "\n",
    "Q001_04_FIRST = \"/media/eduseiti/bigdata02/unicamp/doutorado/clustering/linfeng/sample/analysis/q0.01_0.4_validation_distances_histogram_first.txt\"\n",
    "Q001_04_BEST = \"/media/eduseiti/bigdata02/unicamp/doutorado/clustering/linfeng/sample/analysis/q0.01_0.4_validation_distances_histogram_best.txt\""
   ]
  },
  {
   "cell_type": "code",
   "execution_count": null,
   "metadata": {},
   "outputs": [],
   "source": [
    "q0001_first = pd.read_csv(Q0001_FIRST, \"\\t\", names=[\"count\", \"bin_start\", \"bin_end\"])\n",
    "q0001_last = pd.read_csv(Q0001_LAST, \"\\t\", names=[\"count\", \"bin_start\", \"bin_end\"])"
   ]
  },
  {
   "cell_type": "code",
   "execution_count": null,
   "metadata": {},
   "outputs": [],
   "source": [
    "q001_first = pd.read_csv(Q001_FIRST, \"\\t\", names=[\"count\", \"bin_start\", \"bin_end\"])\n",
    "q001_best = pd.read_csv(Q001_BEST, \"\\t\", names=[\"count\", \"bin_start\", \"bin_end\"])"
   ]
  },
  {
   "cell_type": "code",
   "execution_count": null,
   "metadata": {},
   "outputs": [],
   "source": [
    "q001_04_first = pd.read_csv(Q001_04_FIRST, \"\\t\", names=[\"count\", \"bin_start\", \"bin_end\"])\n",
    "q001_04_best = pd.read_csv(Q001_04_BEST, \"\\t\", names=[\"count\", \"bin_start\", \"bin_end\"])"
   ]
  },
  {
   "cell_type": "code",
   "execution_count": null,
   "metadata": {},
   "outputs": [],
   "source": [
    "q0001_first.groupby(q0001_first.index // 2)['count'].sum()"
   ]
  },
  {
   "cell_type": "code",
   "execution_count": null,
   "metadata": {},
   "outputs": [],
   "source": [
    "q0001_first"
   ]
  },
  {
   "cell_type": "code",
   "execution_count": null,
   "metadata": {},
   "outputs": [],
   "source": [
    "q0001_last[:40].sum()"
   ]
  },
  {
   "cell_type": "code",
   "execution_count": null,
   "metadata": {},
   "outputs": [],
   "source": [
    "q0001_first['count'].sum()"
   ]
  },
  {
   "cell_type": "code",
   "execution_count": null,
   "metadata": {},
   "outputs": [],
   "source": [
    "q0001_last['count'].sum()"
   ]
  },
  {
   "cell_type": "code",
   "execution_count": null,
   "metadata": {},
   "outputs": [],
   "source": [
    "4877 * 2"
   ]
  },
  {
   "cell_type": "code",
   "execution_count": null,
   "metadata": {},
   "outputs": [],
   "source": [
    "4877 ** 2 * 4"
   ]
  },
  {
   "cell_type": "code",
   "execution_count": null,
   "metadata": {},
   "outputs": [],
   "source": [
    "(4877 * 2) ** 2"
   ]
  },
  {
   "cell_type": "code",
   "execution_count": null,
   "metadata": {},
   "outputs": [],
   "source": [
    "9062 * 2"
   ]
  },
  {
   "cell_type": "markdown",
   "metadata": {},
   "source": [
    "### LSTM 30, 2 layer model trained with q < 0.001 identifications and margin 0.3"
   ]
  },
  {
   "cell_type": "code",
   "execution_count": null,
   "metadata": {},
   "outputs": [],
   "source": [
    "fig = go.Figure()\n",
    "\n",
    "fig.add_trace(go.Scatter(x = q0001_first.iloc[q0001_first.index[39::40]]['bin_end'],\n",
    "                         y = q0001_first.groupby(q0001_first.index // 40)['count'].sum(), \n",
    "                         mode=\"lines\",\n",
    "                         name=\"cos distances first\"))\n",
    "\n",
    "fig.add_trace(go.Scatter(x = q0001_last.iloc[q0001_last.index[39::40]]['bin_end'],\n",
    "                         y = q0001_last.groupby(q0001_last.index // 40)['count'].sum(), \n",
    "                         mode=\"lines\",\n",
    "                         name=\"cos distances last\"))"
   ]
  },
  {
   "cell_type": "markdown",
   "metadata": {},
   "source": [
    "### LSTM 30, 2 layer model, trained with q < 0.01 identifications and margin 0.4"
   ]
  },
  {
   "cell_type": "code",
   "execution_count": null,
   "metadata": {},
   "outputs": [],
   "source": [
    "fig = go.Figure()\n",
    "\n",
    "fig.add_trace(go.Scatter(x = q001_04_first.iloc[q001_04_first.index[39::40]]['bin_end'],\n",
    "                         y = q001_04_first.groupby(q001_04_first.index // 40)['count'].sum(), \n",
    "                         mode=\"lines\",\n",
    "                         name=\"cos distances first\"))\n",
    "\n",
    "fig.add_trace(go.Scatter(x = q001_04_best.iloc[q001_04_best.index[39::40]]['bin_end'],\n",
    "                         y = q001_04_best.groupby(q001_04_best.index // 40)['count'].sum(), \n",
    "                         mode=\"lines\",\n",
    "                         name=\"cos distances best\"))"
   ]
  },
  {
   "cell_type": "markdown",
   "metadata": {},
   "source": [
    "### LSTM 40, 3 layer model, trained with q < 0.01 identifications and margin 0.3"
   ]
  },
  {
   "cell_type": "code",
   "execution_count": null,
   "metadata": {
    "scrolled": false
   },
   "outputs": [],
   "source": [
    "fig = go.Figure()\n",
    "\n",
    "fig.add_trace(go.Scatter(x = q001_first.iloc[q001_first.index[39::40]]['bin_end'],\n",
    "                         y = q001_first.groupby(q001_first.index // 40)['count'].sum(), \n",
    "                         mode=\"lines\",\n",
    "                         name=\"cos distances first\"))\n",
    "\n",
    "fig.add_trace(go.Scatter(x = q001_best.iloc[q001_best.index[39::40]]['bin_end'],\n",
    "                         y = q001_best.groupby(q001_best.index // 40)['count'].sum(), \n",
    "                         mode=\"lines\",\n",
    "                         name=\"cos distances best\"))"
   ]
  },
  {
   "cell_type": "code",
   "execution_count": null,
   "metadata": {},
   "outputs": [],
   "source": []
  }
 ],
 "metadata": {
  "kernelspec": {
   "display_name": "Python 3",
   "language": "python",
   "name": "python3"
  },
  "language_info": {
   "codemirror_mode": {
    "name": "ipython",
    "version": 3
   },
   "file_extension": ".py",
   "mimetype": "text/x-python",
   "name": "python",
   "nbconvert_exporter": "python",
   "pygments_lexer": "ipython3",
   "version": "3.6.9"
  }
 },
 "nbformat": 4,
 "nbformat_minor": 2
}
