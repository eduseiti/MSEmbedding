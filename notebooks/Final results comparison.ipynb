{
 "cells": [
  {
   "cell_type": "code",
   "execution_count": null,
   "metadata": {},
   "outputs": [],
   "source": [
    "import pandas as pd\n",
    "import plotly.graph_objects as go\n",
    "import os"
   ]
  },
  {
   "cell_type": "code",
   "execution_count": null,
   "metadata": {},
   "outputs": [],
   "source": [
    "EMBEDDINGS_Q001_04 = \"/media/eduseiti/bigdata02/unicamp/doutorado/clustering/linfeng/sample/consensus_sample_0.1_experiments/clusters_sample_0.1_embeddings_q0.01_margin0.4_clusters_quality_20200223.tsv\"\n",
    "EMBEDDINGS_Q0001 = \"/media/eduseiti/Seagate Expansion Drive1/unicamp/clustering/linfeng/sample/clusters_sample_0.1_embeddings_q0.001_clusters_quality_20200219.tsv\"\n",
    "EMBEDDINGS_Q001 = \"/media/eduseiti/Seagate Expansion Drive1/unicamp/clustering/linfeng/sample/clusters_sample_0.1_embeddings_q0.01_clusters_quality_20200219.tsv\"\n",
    "MARACLUSTER = \"/media/eduseiti/Seagate Expansion Drive1/unicamp/clustering/linfeng/sample/clusters_sample_0.1_maracluster_verification_clusters_quality_20200219.tsv\"\n",
    "\n",
    "# EMBEDDINGS_Q0001 = \"/home/eseiti/Documents/unicamp/clustering/files_20200220/clusters_sample_0.1_embeddings_q0.001_clusters_quality_20200219.tsv\"\n",
    "# EMBEDDINGS_Q001 = \"/home/eseiti/Documents/unicamp/clustering/files_20200220/clusters_sample_0.1_embeddings_q0.01_clusters_quality_20200219.tsv\"\n",
    "# MARACLUSTER = \"/home/eseiti/Documents/unicamp/clustering/files_20200220/clusters_sample_0.1_maracluster_verification_clusters_quality_20200219.tsv\""
   ]
  },
  {
   "cell_type": "markdown",
   "metadata": {},
   "source": [
    "#### Need to manually fix the .tsv files to have the proper thresholds order."
   ]
  },
  {
   "cell_type": "code",
   "execution_count": null,
   "metadata": {},
   "outputs": [],
   "source": [
    "embeddings_q0001 = pd.read_csv(EMBEDDINGS_Q0001, sep='\\t')\n",
    "embeddings_q001 = pd.read_csv(EMBEDDINGS_Q001, sep='\\t')\n",
    "embeddings_q001_04 = pd.read_csv(EMBEDDINGS_Q001_04, sep='\\t')\n",
    "maracluster = pd.read_csv(MARACLUSTER, sep='\\t')"
   ]
  },
  {
   "cell_type": "code",
   "execution_count": null,
   "metadata": {},
   "outputs": [],
   "source": [
    "maracluster"
   ]
  },
  {
   "cell_type": "code",
   "execution_count": null,
   "metadata": {
    "scrolled": true
   },
   "outputs": [],
   "source": [
    "maracluster['x-axis'] = maracluster['# clusters'] / 912146\n",
    "maracluster['y-axis'] = maracluster['# identified consensus'] / 43087"
   ]
  },
  {
   "cell_type": "code",
   "execution_count": null,
   "metadata": {},
   "outputs": [],
   "source": [
    "embeddings_q0001['x-axis'] = embeddings_q0001['# clusters'] / 912146\n",
    "embeddings_q0001['y-axis'] = embeddings_q0001['# identified consensus'] / 43087\n",
    "\n",
    "embeddings_q001['x-axis'] = embeddings_q001['# clusters'] / 912146\n",
    "embeddings_q001['y-axis'] = embeddings_q001['# identified consensus'] / 43087\n",
    "\n",
    "embeddings_q001_04['x-axis'] = embeddings_q001_04['# clusters'] / 912146\n",
    "embeddings_q001_04['y-axis'] = embeddings_q001_04['# identified consensus'] / 43087"
   ]
  },
  {
   "cell_type": "code",
   "execution_count": null,
   "metadata": {},
   "outputs": [],
   "source": [
    "maracluster"
   ]
  },
  {
   "cell_type": "code",
   "execution_count": null,
   "metadata": {},
   "outputs": [],
   "source": [
    "embeddings_q001"
   ]
  },
  {
   "cell_type": "code",
   "execution_count": null,
   "metadata": {},
   "outputs": [],
   "source": [
    "embeddings_q0001"
   ]
  },
  {
   "cell_type": "code",
   "execution_count": null,
   "metadata": {},
   "outputs": [],
   "source": [
    "embeddings_q001_04"
   ]
  },
  {
   "cell_type": "code",
   "execution_count": null,
   "metadata": {},
   "outputs": [],
   "source": [
    "fig = go.Figure()\n",
    "\n",
    "fig.update_layout(yaxis_title=\"<b>Retainment of identified peptides</b><br>(identified clusters) / (total spectra identified)\",\n",
    "                  xaxis_title=\"<b>Proportion of spectra remaining</b><br>(num of clusters) / (num of spectra)\")\n",
    "\n",
    "fig.add_trace(go.Scatter(x = maracluster['x-axis'], \n",
    "                         y = maracluster['y-axis'], \n",
    "                         mode=\"lines\",\n",
    "                         name=\"maracluster\"))\n",
    "\n",
    "fig.add_trace(go.Scatter(x = embeddings_q001['x-axis'], \n",
    "                         y = embeddings_q001['y-axis'], \n",
    "                         mode=\"lines\",\n",
    "                         name=\"embeddings q < 0.01\"))\n",
    "\n",
    "fig.add_trace(go.Scatter(x = embeddings_q0001['x-axis'], \n",
    "                         y = embeddings_q0001['y-axis'], \n",
    "                         mode=\"lines\", \n",
    "                         name=\"embeddings q < 0.001\"))\n",
    "\n",
    "fig.add_trace(go.Scatter(x = embeddings_q001_04['x-axis'], \n",
    "                         y = embeddings_q001_04['y-axis'], \n",
    "                         mode=\"lines\",\n",
    "                         name=\"embeddings q < 0.01 margin 0.4\"))\n"
   ]
  },
  {
   "cell_type": "markdown",
   "metadata": {},
   "source": [
    "## Second evaluation criteria: clusters quality\n",
    "\n",
    "Original MaRaCluster work reported the clusters quality for 19% of the original spectra; current experiments start with ~22% of the spectra. Use that as the threshold selection parameter.\n",
    "\n",
    "For maracluster, get the p5; for q < 0.01 embeddings, get the p73.983100; for q < 0.001 embeddings, get the p76.505100; for q < 0.01 margin 0.4, get p73.983100."
   ]
  },
  {
   "cell_type": "code",
   "execution_count": null,
   "metadata": {},
   "outputs": [],
   "source": [
    "# MARACLUSTER_CLUSTERS_QUALITY=\"/home/eseiti/Documents/unicamp/clustering/files_20200220/sample_maracluster.clusters_analysis/sample_maracluster.clusters_p5_identifications_analysis.tsv_clusters_size.tsv\"\n",
    "# Q01_CLUSTERS_QUALITY=\"/home/eseiti/Documents/unicamp/clustering/files_20200220/sample_embeddings_q0.01.clusters_analysis/sample_embeddings_q0.01.clusters_p73.983100_identifications_analysis.tsv_clusters_size.tsv\"\n",
    "# Q001_CLUSTERS_QUALITY=\"/home/eseiti/Documents/unicamp/clustering/files_20200220/sample_embeddings_q0.001.cluster_analysis/sample_embeddings_q0.001.clusters_p76.505100_identifications_analysis.tsv_clusters_size.tsv\"\n",
    "\n",
    "MARACLUSTER_CLUSTERS_QUALITY=\"/media/eduseiti/bigdata01/unicamp/doutorado/clustering/linfeng/sample/identifications_maracluster/sample_maracluster.clusters_p5_identifications_analysis.tsv_clusters_size.tsv\"\n",
    "Q01_CLUSTERS_QUALITY=\"/media/eduseiti/bigdata01/unicamp/doutorado/clustering/linfeng/sample/identifications_q0.01/sample_embeddings_q0.01.clusters_p73.983100_identifications_analysis.tsv_clusters_size.tsv\"\n",
    "Q001_CLUSTERS_QUALITY=\"/media/eduseiti/bigdata01/unicamp/doutorado/clustering/linfeng/sample/identifications_q0.001/sample_embeddings_q0.001.clusters_p76.505100_identifications_analysis.tsv_clusters_size.tsv\"\n",
    "Q01_04_CLUSTERS_QUALITY=\"/media/eduseiti/bigdata01/unicamp/doutorado/clustering/linfeng/sample/identifications_q0.01_margin0.4/sample_embeddings_q0.01_margin0.4.clusters_p73.983100_identifications_analysis_clusters_size.tsv\""
   ]
  },
  {
   "cell_type": "code",
   "execution_count": null,
   "metadata": {},
   "outputs": [],
   "source": [
    "maraclusters_quality = pd.read_csv(MARACLUSTER_CLUSTERS_QUALITY, sep='\\t')\n",
    "q01_quality = pd.read_csv(Q01_CLUSTERS_QUALITY, sep='\\t')\n",
    "q001_quality = pd.read_csv(Q001_CLUSTERS_QUALITY, sep='\\t')\n",
    "q01_quality_04 = pd.read_csv(Q01_04_CLUSTERS_QUALITY, sep='\\t')"
   ]
  },
  {
   "cell_type": "code",
   "execution_count": null,
   "metadata": {
    "scrolled": true
   },
   "outputs": [],
   "source": [
    "maraclusters_quality"
   ]
  },
  {
   "cell_type": "code",
   "execution_count": null,
   "metadata": {},
   "outputs": [],
   "source": [
    "q01_quality"
   ]
  },
  {
   "cell_type": "code",
   "execution_count": null,
   "metadata": {},
   "outputs": [],
   "source": [
    "q001_quality"
   ]
  },
  {
   "cell_type": "code",
   "execution_count": null,
   "metadata": {},
   "outputs": [],
   "source": [
    "q01_quality_04"
   ]
  },
  {
   "cell_type": "code",
   "execution_count": null,
   "metadata": {
    "scrolled": false
   },
   "outputs": [],
   "source": [
    "fig = go.Figure()\n",
    "\n",
    "fig.update_layout(yaxis_title=\"<b>Clusters count</b>\",\n",
    "                  xaxis_title=\"<b>Cluster size</b>\")\n",
    "\n",
    "fig.add_trace(go.Scatter(x = maraclusters_quality['size'], \n",
    "                         y = maraclusters_quality['clusters'], \n",
    "                         mode=\"markers+lines\",\n",
    "                         name=\"maracluster\",\n",
    "                         opacity=0.5,\n",
    "                         line=dict(color=\"red\", width=3)))\n",
    "\n",
    "fig.add_trace(go.Scatter(x = q01_quality['size'], \n",
    "                         y = q01_quality['clusters'], \n",
    "                         mode=\"markers+lines\",\n",
    "                         name=\"embeddings q < 0.01\",\n",
    "                         opacity=0.5,\n",
    "                         line=dict(color=\"blue\", width=3)))\n",
    "\n",
    "fig.add_trace(go.Scatter(x = q001_quality['size'], \n",
    "                         y = q001_quality['clusters'], \n",
    "                         mode=\"markers+lines\", \n",
    "                         name=\"embeddings q < 0.001\",\n",
    "                         opacity=0.5,\n",
    "                         line=dict(color=\"green\", width=3)))\n",
    "\n",
    "fig.add_trace(go.Scatter(x = q01_quality_04['size'], \n",
    "                         y = q01_quality_04['clusters'], \n",
    "                         mode=\"markers+lines\",\n",
    "                         name=\"embeddings q < 0.01 margin 0.4\",\n",
    "                         opacity=0.5,\n",
    "                         line=dict(color=\"orange\", width=3)))\n",
    "\n",
    "fig.add_trace(go.Scatter(x = maraclusters_quality['size'], \n",
    "                         y = maraclusters_quality['identified clusters'], \n",
    "                         mode=\"markers+lines\",\n",
    "                         name=\"identified maracluster\",\n",
    "                         opacity=0.5,\n",
    "                         line=dict(dash=\"dash\", color=\"red\", width=3)))\n",
    "\n",
    "fig.add_trace(go.Scatter(x = q01_quality['size'], \n",
    "                         y = q01_quality['identified clusters'], \n",
    "                         mode=\"markers+lines\",\n",
    "                         name=\"identified embeddings q < 0.01\",\n",
    "                         opacity=0.5,\n",
    "                         line=dict(dash=\"dash\", color=\"blue\", width=3)))\n",
    "\n",
    "fig.add_trace(go.Scatter(x = q001_quality['size'], \n",
    "                         y = q001_quality['identified clusters'], \n",
    "                         mode=\"markers+lines\", \n",
    "                         name=\"identified embeddings q < 0.001\",\n",
    "                         opacity=0.5,\n",
    "                         line=dict(dash=\"dash\", color=\"green\", width=3)))\n",
    "\n",
    "fig.add_trace(go.Scatter(x = q01_quality_04['size'], \n",
    "                         y = q01_quality_04['identified clusters'], \n",
    "                         mode=\"markers+lines\",\n",
    "                         name=\"identified embeddings q < 0.01 margin 0.4\",\n",
    "                         opacity=0.5,\n",
    "                         line=dict(dash=\"dash\", color=\"orange\", width=3)))\n"
   ]
  },
  {
   "cell_type": "code",
   "execution_count": null,
   "metadata": {},
   "outputs": [],
   "source": [
    "fig = go.Figure()\n",
    "\n",
    "fig.update_layout(yaxis_title=\"<b>Clusters count</b>\",\n",
    "                  xaxis_title=\"<b>Cluster size</b>\",\n",
    "                  height=750, width=1500)\n",
    "\n",
    "fig.add_trace(go.Scatter(x = maraclusters_quality['size'], \n",
    "                         y = maraclusters_quality['identified clusters'], \n",
    "                         mode=\"markers+lines\",\n",
    "                         name=\"identified maracluster\",\n",
    "                         opacity=0.5,\n",
    "                         line=dict(dash=\"dash\", color=\"red\", width=3)))\n",
    "\n",
    "fig.add_trace(go.Scatter(x = q01_quality['size'], \n",
    "                         y = q01_quality['identified clusters'], \n",
    "                         mode=\"markers+lines\",\n",
    "                         name=\"identified embeddings q < 0.01\",\n",
    "                         opacity=0.5,\n",
    "                         line=dict(dash=\"dash\", color=\"blue\", width=3)))\n",
    "\n",
    "fig.add_trace(go.Scatter(x = q001_quality['size'], \n",
    "                         y = q001_quality['identified clusters'], \n",
    "                         mode=\"markers+lines\", \n",
    "                         name=\"identified embeddings q < 0.001\",\n",
    "                         opacity=0.5,\n",
    "                         line=dict(dash=\"dash\", color=\"green\", width=3)))\n",
    "\n",
    "fig.add_trace(go.Scatter(x = q01_quality_04['size'], \n",
    "                         y = q01_quality_04['identified clusters'], \n",
    "                         mode=\"markers+lines\",\n",
    "                         name=\"identified embeddings q < 0.01 margin 0.4\",\n",
    "                         opacity=0.5,\n",
    "                         line=dict(dash=\"dash\", color=\"orange\", width=3)))\n"
   ]
  },
  {
   "cell_type": "code",
   "execution_count": null,
   "metadata": {},
   "outputs": [],
   "source": []
  }
 ],
 "metadata": {
  "kernelspec": {
   "display_name": "Python 3",
   "language": "python",
   "name": "python3"
  },
  "language_info": {
   "codemirror_mode": {
    "name": "ipython",
    "version": 3
   },
   "file_extension": ".py",
   "mimetype": "text/x-python",
   "name": "python",
   "nbconvert_exporter": "python",
   "pygments_lexer": "ipython3",
   "version": "3.6.9"
  }
 },
 "nbformat": 4,
 "nbformat_minor": 2
}
