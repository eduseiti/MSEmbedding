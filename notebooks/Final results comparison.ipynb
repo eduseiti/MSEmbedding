{
 "cells": [
  {
   "cell_type": "code",
   "execution_count": null,
   "metadata": {},
   "outputs": [],
   "source": [
    "import pandas as pd\n",
    "import plotly.graph_objects as go\n",
    "import os"
   ]
  },
  {
   "cell_type": "code",
   "execution_count": null,
   "metadata": {},
   "outputs": [],
   "source": [
    "EMBEDDINGS_Q001_BIG = \"/media/eduseiti/Seagate Expansion Drive1/unicamp/clustering/linfeng/sample/backup_first_comparisson_20200225/clusters_quality_analysis/clusters_sample_0.1_embeddings_q0.01_big_clusters_quality_20200309.tsv\"\n",
    "# EMBEDDINGS_Q0001_BIG = \"/media/eduseiti/Seagate Expansion Drive1/unicamp/clustering/linfeng/sample/backup_first_comparisson_20200225/clusters_quality_analysis/clusters_sample_0.1_embeddings_q0.001_big_clusters_quality_20200306.tsv\"\n",
    "\n",
    "EMBEDDINGS_Q0001_BIG_LSTM40 = \"/media/eduseiti/Seagate Expansion Drive1/unicamp/clustering/linfeng/sample/backup_first_comparisson_20200225/clusters_quality_analysis/clusters_sample_0.1_embeddings_q0.001_big_lstm40_3layer_clusters_quality_20200310.tsv\"\n",
    "\n",
    "Q0001_BIG_LSTM40_05 = \"/media/eduseiti/Seagate Expansion Drive1/unicamp/clustering/linfeng/sample/backup_first_comparisson_20200225/clusters_quality_analysis/clusters_sample_0.1_embeddings_q0.001_big_lstm40_3layer_margin0.5_clusters_quality_20200315.tsv\"\n",
    "\n",
    "EMBEDDINGS_Q001_LSTM40 = \"/media/eduseiti/Seagate Expansion Drive1/unicamp/clustering/linfeng/sample/backup_first_comparisson_20200225/clusters_quality_analysis/clusters_sample_0.1_embeddings_q0.01_lstm40_3layers_clusters_quality_20200304.tsv\"\n",
    "\n",
    "EMBEDDINGS_Q001_04 = \"/media/eduseiti/Seagate Expansion Drive1/unicamp/clustering/linfeng/sample/backup_first_comparisson_20200225/clusters_quality_analysis/clusters_sample_0.1_embeddings_q0.01_margin0.4_clusters_quality_20200223.tsv\"\n",
    "EMBEDDINGS_Q0001 = \"/media/eduseiti/Seagate Expansion Drive1/unicamp/clustering/linfeng/sample/backup_first_comparisson_20200225/clusters_quality_analysis/clusters_sample_0.1_embeddings_q0.001_clusters_quality_20200219.tsv\"\n",
    "EMBEDDINGS_Q001 = \"/media/eduseiti/Seagate Expansion Drive1/unicamp/clustering/linfeng/sample/backup_first_comparisson_20200225/clusters_quality_analysis/clusters_sample_0.1_embeddings_q0.01_clusters_quality_20200219.tsv\"\n",
    "EMBEDDINGS = \"/media/eduseiti/Seagate Expansion Drive1/unicamp/clustering/linfeng/sample/backup_first_comparisson_20200225/clusters_quality_analysis/clusters_sample_0.1_embeddings_clusters_quality_20200226.tsv\"\n",
    "MARACLUSTER = \"/media/eduseiti/Seagate Expansion Drive1/unicamp/clustering/linfeng/sample/backup_first_comparisson_20200225/clusters_quality_analysis/clusters_sample_0.1_maracluster_verification_clusters_quality_20200219.tsv\"\n"
   ]
  },
  {
   "cell_type": "markdown",
   "metadata": {},
   "source": [
    "#### Need to manually fix the .tsv files to have the proper thresholds order."
   ]
  },
  {
   "cell_type": "code",
   "execution_count": null,
   "metadata": {},
   "outputs": [],
   "source": [
    "# embeddings_q0001_big = pd.read_csv(EMBEDDINGS_Q0001_BIG, sep='\\t')\n",
    "embeddings_q001_big = pd.read_csv(EMBEDDINGS_Q001_BIG, sep='\\t')\n",
    "\n",
    "embeddings_q0001_big_lstm40 = pd.read_csv(EMBEDDINGS_Q0001_BIG_LSTM40, sep='\\t')\n",
    "\n",
    "q0001_big_lstm40_05 = pd.read_csv(Q0001_BIG_LSTM40_05, sep='\\t')\n",
    "\n",
    "embeddings_q0001 = pd.read_csv(EMBEDDINGS_Q0001, sep='\\t')\n",
    "embeddings_q001 = pd.read_csv(EMBEDDINGS_Q001, sep='\\t')\n",
    "embeddings_q001_04 = pd.read_csv(EMBEDDINGS_Q001_04, sep='\\t')\n",
    "\n",
    "embeddings_q001_LSTM40 = pd.read_csv(EMBEDDINGS_Q001_LSTM40, sep='\\t')\n",
    "\n",
    "embeddings = pd.read_csv(EMBEDDINGS, sep='\\t')\n",
    "\n",
    "maracluster = pd.read_csv(MARACLUSTER, sep='\\t')"
   ]
  },
  {
   "cell_type": "code",
   "execution_count": null,
   "metadata": {
    "scrolled": true
   },
   "outputs": [],
   "source": [
    "maracluster['x-axis'] = maracluster['# clusters'] / 912146\n",
    "maracluster['y-axis'] = maracluster['# identified consensus'] / 43087"
   ]
  },
  {
   "cell_type": "code",
   "execution_count": null,
   "metadata": {},
   "outputs": [],
   "source": [
    "embeddings['x-axis'] = embeddings['# clusters'] / 912146\n",
    "embeddings['y-axis'] = embeddings['# identified consensus'] / 43087\n",
    "\n",
    "embeddings_q0001['x-axis'] = embeddings_q0001['# clusters'] / 912146\n",
    "embeddings_q0001['y-axis'] = embeddings_q0001['# identified consensus'] / 43087\n",
    "\n",
    "embeddings_q001['x-axis'] = embeddings_q001['# clusters'] / 912146\n",
    "embeddings_q001['y-axis'] = embeddings_q001['# identified consensus'] / 43087\n",
    "\n",
    "embeddings_q001_04['x-axis'] = embeddings_q001_04['# clusters'] / 912146\n",
    "embeddings_q001_04['y-axis'] = embeddings_q001_04['# identified consensus'] / 43087\n",
    "\n",
    "embeddings_q001_LSTM40['x-axis'] = embeddings_q001_LSTM40['# clusters'] / 912146\n",
    "embeddings_q001_LSTM40['y-axis'] = embeddings_q001_LSTM40['# identified consensus'] / 43087\n",
    "\n",
    "embeddings_q001_big['x-axis'] = embeddings_q001_big['# clusters'] / 912146\n",
    "embeddings_q001_big['y-axis'] = embeddings_q001_big['# identified consensus'] / 43087\n",
    "\n",
    "# embeddings_q0001_big['x-axis'] = embeddings_q0001_big['# clusters'] / 912146\n",
    "# embeddings_q0001_big['y-axis'] = embeddings_q0001_big['# identified consensus'] / 43087\n",
    "\n",
    "embeddings_q0001_big_lstm40['x-axis'] = embeddings_q0001_big_lstm40['# clusters'] / 912146\n",
    "embeddings_q0001_big_lstm40['y-axis'] = embeddings_q0001_big_lstm40['# identified consensus'] / 43087\n",
    "\n",
    "q0001_big_lstm40_05['x-axis'] = q0001_big_lstm40_05['# clusters'] / 912146\n",
    "q0001_big_lstm40_05['y-axis'] = q0001_big_lstm40_05['# identified consensus'] / 43087\n"
   ]
  },
  {
   "cell_type": "code",
   "execution_count": null,
   "metadata": {
    "scrolled": false
   },
   "outputs": [],
   "source": [
    "maracluster"
   ]
  },
  {
   "cell_type": "code",
   "execution_count": null,
   "metadata": {
    "scrolled": false
   },
   "outputs": [],
   "source": [
    "embeddings_q001"
   ]
  },
  {
   "cell_type": "code",
   "execution_count": null,
   "metadata": {
    "scrolled": false
   },
   "outputs": [],
   "source": [
    "embeddings_q0001"
   ]
  },
  {
   "cell_type": "code",
   "execution_count": null,
   "metadata": {
    "scrolled": false
   },
   "outputs": [],
   "source": [
    "embeddings_q001_04"
   ]
  },
  {
   "cell_type": "code",
   "execution_count": null,
   "metadata": {
    "scrolled": false
   },
   "outputs": [],
   "source": [
    "embeddings"
   ]
  },
  {
   "cell_type": "code",
   "execution_count": null,
   "metadata": {
    "scrolled": false
   },
   "outputs": [],
   "source": [
    "embeddings_q001_LSTM40"
   ]
  },
  {
   "cell_type": "code",
   "execution_count": null,
   "metadata": {
    "scrolled": false
   },
   "outputs": [],
   "source": [
    "embeddings_q001_big"
   ]
  },
  {
   "cell_type": "code",
   "execution_count": null,
   "metadata": {
    "scrolled": false
   },
   "outputs": [],
   "source": [
    "# embeddings_q0001_big"
   ]
  },
  {
   "cell_type": "code",
   "execution_count": null,
   "metadata": {},
   "outputs": [],
   "source": [
    "embeddings_q0001_big_lstm40"
   ]
  },
  {
   "cell_type": "code",
   "execution_count": null,
   "metadata": {
    "scrolled": false
   },
   "outputs": [],
   "source": [
    "q0001_big_lstm40_05"
   ]
  },
  {
   "cell_type": "code",
   "execution_count": null,
   "metadata": {},
   "outputs": [],
   "source": [
    "fig = go.Figure()\n",
    "\n",
    "fig.update_layout(yaxis_title=\"<b>Retainment of identified peptides</b><br>(identified clusters) / (total spectra identified)\",\n",
    "                  xaxis_title=\"<b>Proportion of spectra remaining</b><br>(num of clusters) / (num of spectra)\")\n",
    "\n",
    "fig.add_trace(go.Scatter(x = maracluster['x-axis'], \n",
    "                         y = maracluster['y-axis'], \n",
    "                         mode=\"lines\",\n",
    "                         name=\"maracluster\"))\n",
    "\n",
    "fig.add_trace(go.Scatter(x = embeddings['x-axis'], \n",
    "                         y = embeddings['y-axis'], \n",
    "                         mode=\"lines\",\n",
    "                         name=\"embeddings\"))\n",
    "\n",
    "fig.add_trace(go.Scatter(x = embeddings_q001['x-axis'], \n",
    "                         y = embeddings_q001['y-axis'], \n",
    "                         mode=\"lines\",\n",
    "                         name=\"embeddings q < 0.01\"))\n",
    "\n",
    "fig.add_trace(go.Scatter(x = embeddings_q0001['x-axis'], \n",
    "                         y = embeddings_q0001['y-axis'], \n",
    "                         mode=\"lines\", \n",
    "                         name=\"embeddings q < 0.001\"))\n",
    "\n",
    "# fig.add_trace(go.Scatter(x = embeddings_q001_04['x-axis'], \n",
    "#                          y = embeddings_q001_04['y-axis'], \n",
    "#                          mode=\"lines\",\n",
    "#                          name=\"embeddings q < 0.01 margin 0.4\"))\n",
    "\n",
    "fig.add_trace(go.Scatter(x = embeddings_q001_LSTM40['x-axis'], \n",
    "                         y = embeddings_q001_LSTM40['y-axis'], \n",
    "                         mode=\"lines\",\n",
    "                         name=\"embeddings q < 0.01 LSTM40 3 layers\"))\n",
    "\n",
    "fig.add_trace(go.Scatter(x = embeddings_q001_big['x-axis'], \n",
    "                         y = embeddings_q001_big['y-axis'], \n",
    "                         mode=\"lines\",\n",
    "                         name=\"embeddings q < 0.01 big\"))\n",
    "\n",
    "# fig.add_trace(go.Scatter(x = embeddings_q0001_big['x-axis'], \n",
    "#                          y = embeddings_q0001_big['y-axis'], \n",
    "#                          mode=\"lines\",\n",
    "#                          name=\"embeddings q < 0.001 big\"))\n",
    "\n",
    "fig.add_trace(go.Scatter(x = embeddings_q0001_big_lstm40['x-axis'], \n",
    "                         y = embeddings_q0001_big_lstm40['y-axis'], \n",
    "                         mode=\"lines\",\n",
    "                         name=\"embeddings q < 0.001 big lstm 40 3 layers\"))\n",
    "\n",
    "fig.add_trace(go.Scatter(x = q0001_big_lstm40_05['x-axis'], \n",
    "                         y = q0001_big_lstm40_05['y-axis'], \n",
    "                         mode=\"lines\",\n",
    "                         name=\"q < 0.001 big lstm40 3layer margin0.5\"))"
   ]
  },
  {
   "cell_type": "markdown",
   "metadata": {},
   "source": [
    "## Second evaluation criteria: clusters quality\n",
    "\n",
    "Original MaRaCluster work reported the clusters quality for 19% of the original spectra; current experiments start with ~22% of the spectra. Use that as the threshold selection parameter.\n",
    "\n",
    "For maracluster, get the p5; for q < 0.01 embeddings, get the p73.983100; for q < 0.001 embeddings, get the p76.505100; for q < 0.01 margin 0.4, get p73.983100; for q < 0.01 LSTM40, get p68.077300."
   ]
  },
  {
   "cell_type": "code",
   "execution_count": null,
   "metadata": {},
   "outputs": [],
   "source": [
    "BASE_FOLDER = \"/media/eduseiti/Seagate Expansion Drive1/unicamp/clustering/linfeng/sample/backup_first_comparisson_20200225/consensus_identifications_analysis/\""
   ]
  },
  {
   "cell_type": "code",
   "execution_count": null,
   "metadata": {},
   "outputs": [],
   "source": [
    "MARACLUSTER_CLUSTERS_QUALITY=\"identifications_maracluster/sample_maracluster.clusters_p5_identifications_analysis.tsv_clusters_size.tsv\"\n",
    "\n",
    "EMBEDDINGS_CLUSTERS_QUALITY=\"identifications_embeddings/sample_embeddings.clusters_p73.983100_identifications_analysis_clusters_size.tsv\"\n",
    "\n",
    "Q01_CLUSTERS_QUALITY=\"identifications_q0.01/sample_embeddings_q0.01.clusters_p73.983100_identifications_analysis.tsv_clusters_size.tsv\"\n",
    "Q001_CLUSTERS_QUALITY=\"identifications_q0.001/sample_embeddings_q0.001.clusters_p76.505100_identifications_analysis.tsv_clusters_size.tsv\"\n",
    "Q01_04_CLUSTERS_QUALITY=\"identifications_q0.01_margin0.4/sample_embeddings_q0.01_margin0.4.clusters_p73.983100_identifications_analysis_clusters_size.tsv\"\n",
    "\n",
    "Q01_LSTM40_CLUSTERS_QUALITY=\"identifications_q0.01_lstm40_3layers/sample_embeddings_q0.01_lstm40_3layers.clusters_p68.077300_identifications_analysis_clusters_size.tsv\"\n",
    "\n",
    "Q01_BIG_CLUSTERS_QUALITY=\"identifications_q0.01_big/sample_embeddings_q0.01_big.clusters_p78.831000_identifications_analysis_clusters_size.tsv\"\n",
    "# Q001_BIG_CLUSTERS_QUALITY=\"identifications_q0.001_big/sample_embeddings_q0.001_big.clusters_p71.198300_identifications_analysis_clusters_size.tsv\"\n",
    "\n",
    "Q001_BIG_LSTM40_05_QUALITY = \"identifications_q0.001_big_lstm40_3layer_margin0.5/sample_embeddings_q0.001_big_lstm40_3layer_margin0.5.clusters_p73.983100_identifications_analysis_clusters_size.tsv\"\n"
   ]
  },
  {
   "cell_type": "code",
   "execution_count": null,
   "metadata": {},
   "outputs": [],
   "source": [
    "maraclusters_quality = pd.read_csv(os.path.join(BASE_FOLDER, MARACLUSTER_CLUSTERS_QUALITY), sep='\\t')\n",
    "q01_quality_04 = pd.read_csv(os.path.join(BASE_FOLDER, Q01_04_CLUSTERS_QUALITY), sep='\\t')\n",
    "embeddings_quality = pd.read_csv(os.path.join(BASE_FOLDER, EMBEDDINGS_CLUSTERS_QUALITY), sep='\\t')\n",
    "\n",
    "q01_quality = pd.read_csv(os.path.join(BASE_FOLDER, Q01_CLUSTERS_QUALITY), sep='\\t')\n",
    "q001_quality = pd.read_csv(os.path.join(BASE_FOLDER, Q001_CLUSTERS_QUALITY), sep='\\t')\n",
    "q01_lstm40_quality = pd.read_csv(os.path.join(BASE_FOLDER, Q01_LSTM40_CLUSTERS_QUALITY), sep='\\t')\n",
    "\n",
    "q01_big_quality = pd.read_csv(os.path.join(BASE_FOLDER, Q01_BIG_CLUSTERS_QUALITY), sep='\\t')\n",
    "# q001_big_quality = pd.read_csv(os.path.join(BASE_FOLDER, Q001_BIG_CLUSTERS_QUALITY), sep='\\t')\n",
    "\n",
    "q001_big_lstm40_05_quality = pd.read_csv(os.path.join(BASE_FOLDER, Q001_BIG_LSTM40_05_QUALITY), sep='\\t')\n"
   ]
  },
  {
   "cell_type": "code",
   "execution_count": null,
   "metadata": {
    "scrolled": true
   },
   "outputs": [],
   "source": [
    "maraclusters_quality"
   ]
  },
  {
   "cell_type": "code",
   "execution_count": null,
   "metadata": {},
   "outputs": [],
   "source": [
    "q01_quality"
   ]
  },
  {
   "cell_type": "code",
   "execution_count": null,
   "metadata": {},
   "outputs": [],
   "source": [
    "q001_quality"
   ]
  },
  {
   "cell_type": "code",
   "execution_count": null,
   "metadata": {},
   "outputs": [],
   "source": [
    "q01_quality_04"
   ]
  },
  {
   "cell_type": "code",
   "execution_count": null,
   "metadata": {},
   "outputs": [],
   "source": [
    "embeddings_quality"
   ]
  },
  {
   "cell_type": "code",
   "execution_count": null,
   "metadata": {},
   "outputs": [],
   "source": [
    "q01_lstm40_quality"
   ]
  },
  {
   "cell_type": "code",
   "execution_count": null,
   "metadata": {},
   "outputs": [],
   "source": [
    "q01_big_quality"
   ]
  },
  {
   "cell_type": "code",
   "execution_count": null,
   "metadata": {},
   "outputs": [],
   "source": [
    "fig = go.Figure()\n",
    "\n",
    "fig.update_layout(yaxis_title=\"<b>Average purity</b><br>(identified clusters purity) / (# of identified clusters)\",\n",
    "                  xaxis_title=\"<b>Cluster size</b>\")\n",
    "\n",
    "fig.add_trace(go.Scatter(x = maraclusters_quality['size'], \n",
    "                         y = maraclusters_quality['identified clusters mean'], \n",
    "                         opacity=0.5,\n",
    "                         mode=\"markers+lines\",\n",
    "                         name=\"maracluster\"))\n",
    "\n",
    "fig.add_trace(go.Scatter(x = embeddings_quality['size'], \n",
    "                         y = embeddings_quality['identified clusters mean'], \n",
    "                         opacity=0.5,\n",
    "                         mode=\"markers+lines\",\n",
    "                         name=\"embeddings\"))\n",
    "\n",
    "fig.add_trace(go.Scatter(x = q01_quality['size'], \n",
    "                         y = q01_quality['identified clusters mean'], \n",
    "                         opacity=0.5,\n",
    "                         mode=\"markers+lines\",\n",
    "                         name=\"embeddings q < 0.01\"))\n",
    "\n",
    "fig.add_trace(go.Scatter(x = q001_quality['size'], \n",
    "                         y = q001_quality['identified clusters mean'], \n",
    "                         opacity=0.5,\n",
    "                         mode=\"markers+lines\", \n",
    "                         name=\"embeddings q < 0.001\"))\n",
    "\n",
    "fig.add_trace(go.Scatter(x = q01_quality_04['size'], \n",
    "                         y = q01_quality_04['identified clusters mean'], \n",
    "                         opacity=0.5,\n",
    "                         mode=\"markers+lines\",\n",
    "                         name=\"embeddings q < 0.01 margin 0.4\"))\n",
    "\n",
    "fig.add_trace(go.Scatter(x = q01_lstm40_quality['size'], \n",
    "                         y = q01_lstm40_quality['identified clusters mean'], \n",
    "                         opacity=0.5,\n",
    "                         mode=\"markers+lines\",\n",
    "                         name=\"embeddings q < 0.01 LSTM 40, 3 layers\"))\n",
    "\n",
    "fig.add_trace(go.Scatter(x = q01_big_quality['size'], \n",
    "                         y = q01_big_quality['identified clusters mean'], \n",
    "                         opacity=0.5,\n",
    "                         mode=\"markers+lines\",\n",
    "                         name=\"embeddings q < 0.01 big\"))\n",
    "\n",
    "fig.add_trace(go.Scatter(x = q001_big_lstm40_05_quality['size'], \n",
    "                         y = q001_big_lstm40_05_quality['identified clusters mean'], \n",
    "                         opacity=0.5,\n",
    "                         mode=\"markers+lines\",\n",
    "                         name=\"q < 0.001 big lstm40 3layer margin0.5\"))\n",
    "\n",
    "# fig.add_trace(go.Scatter(x = q001_big_quality['size'], \n",
    "#                          y = q001_big_quality['identified clusters mean'], \n",
    "#                          mode=\"markers+lines\",\n",
    "#                          name=\"embeddings q < 0.001 big\"))\n"
   ]
  },
  {
   "cell_type": "code",
   "execution_count": null,
   "metadata": {
    "scrolled": false
   },
   "outputs": [],
   "source": [
    "fig = go.Figure()\n",
    "\n",
    "fig.update_layout(yaxis_title=\"<b>Clusters count</b>\",\n",
    "                  xaxis_title=\"<b>Cluster size</b>\",\n",
    "                  width=1500, height=750)\n",
    "\n",
    "fig.add_trace(go.Scatter(x = maraclusters_quality['size'], \n",
    "                         y = maraclusters_quality['clusters'], \n",
    "                         mode=\"markers+lines\",\n",
    "                         name=\"maracluster\",\n",
    "                         opacity=0.5,\n",
    "                         line=dict(color=\"red\", width=3)))\n",
    "\n",
    "fig.add_trace(go.Scatter(x = embeddings_quality['size'], \n",
    "                         y = embeddings_quality['clusters'], \n",
    "                         mode=\"markers+lines\",\n",
    "                         name=\"embeddings\",\n",
    "                         opacity=0.5,\n",
    "                         line=dict(color=\"black\", width=3)))\n",
    "\n",
    "fig.add_trace(go.Scatter(x = q01_quality['size'], \n",
    "                         y = q01_quality['clusters'], \n",
    "                         mode=\"markers+lines\",\n",
    "                         name=\"q < 0.01\",\n",
    "                         opacity=0.5,\n",
    "                         line=dict(color=\"blue\", width=3)))\n",
    "\n",
    "fig.add_trace(go.Scatter(x = q001_quality['size'], \n",
    "                         y = q001_quality['clusters'], \n",
    "                         mode=\"markers+lines\", \n",
    "                         name=\"q < 0.001\",\n",
    "                         opacity=0.5,\n",
    "                         line=dict(color=\"green\", width=3)))\n",
    "\n",
    "fig.add_trace(go.Scatter(x = q01_quality_04['size'], \n",
    "                         y = q01_quality_04['clusters'], \n",
    "                         mode=\"markers+lines\",\n",
    "                         name=\"q < 0.01 margin 0.4\",\n",
    "                         opacity=0.5,\n",
    "                         line=dict(color=\"orange\", width=3)))\n",
    "\n",
    "fig.add_trace(go.Scatter(x = q01_lstm40_quality['size'], \n",
    "                         y = q01_lstm40_quality['clusters'], \n",
    "                         mode=\"markers+lines\",\n",
    "                         name=\"q < 0.01 LSTM 40, 3 layers\",\n",
    "                         opacity=0.5,\n",
    "                         line=dict(color=\"black\", width=3)))\n",
    "\n",
    "fig.add_trace(go.Scatter(x = q01_big_quality['size'], \n",
    "                         y = q01_big_quality['clusters'], \n",
    "                         mode=\"markers+lines\",\n",
    "                         name=\"q < 0.01 big\",\n",
    "                         opacity=0.5,\n",
    "                         line=dict(color=\"violet\", width=3)))\n",
    "\n",
    "\n",
    "\n",
    "\n",
    "fig.add_trace(go.Scatter(x = maraclusters_quality['size'], \n",
    "                         y = maraclusters_quality['identified clusters'], \n",
    "                         mode=\"markers+lines\",\n",
    "                         name=\"maracluster identified\",\n",
    "                         opacity=0.5,\n",
    "                         line=dict(dash=\"dash\", color=\"red\", width=3)))\n",
    "\n",
    "fig.add_trace(go.Scatter(x = embeddings_quality['size'], \n",
    "                         y = embeddings_quality['identified clusters'], \n",
    "                         mode=\"markers+lines\",\n",
    "                         name=\"embeddings identified\",\n",
    "                         opacity=0.5,\n",
    "                         line=dict(dash=\"dash\", color=\"black\", width=3)))\n",
    "\n",
    "fig.add_trace(go.Scatter(x = q01_quality['size'], \n",
    "                         y = q01_quality['identified clusters'], \n",
    "                         mode=\"markers+lines\",\n",
    "                         name=\"q < 0.01 identified\",\n",
    "                         opacity=0.5,\n",
    "                         line=dict(dash=\"dash\", color=\"blue\", width=3)))\n",
    "\n",
    "fig.add_trace(go.Scatter(x = q001_quality['size'], \n",
    "                         y = q001_quality['identified clusters'], \n",
    "                         mode=\"markers+lines\", \n",
    "                         name=\"q < 0.001 identified\",\n",
    "                         opacity=0.5,\n",
    "                         line=dict(dash=\"dash\", color=\"green\", width=3)))\n",
    "\n",
    "fig.add_trace(go.Scatter(x = q01_quality_04['size'], \n",
    "                         y = q01_quality_04['identified clusters'], \n",
    "                         mode=\"markers+lines\",\n",
    "                         name=\"q < 0.01 margin 0.4 identified\",\n",
    "                         opacity=0.5,\n",
    "                         line=dict(dash=\"dash\", color=\"orange\", width=3)))\n",
    "\n",
    "fig.add_trace(go.Scatter(x = q01_lstm40_quality['size'], \n",
    "                         y = q01_lstm40_quality['identified clusters'], \n",
    "                         mode=\"markers+lines\",\n",
    "                         name=\"q < 0.01 LSTM 40, 3 layers identified\",\n",
    "                         opacity=0.5,\n",
    "                         line=dict(dash=\"dash\", color=\"black\", width=3)))\n",
    "\n",
    "fig.add_trace(go.Scatter(x = q01_big_quality['size'], \n",
    "                         y = q01_big_quality['identified clusters'], \n",
    "                         mode=\"markers+lines\",\n",
    "                         name=\"q < 0.01 big identified\",\n",
    "                         opacity=0.5,\n",
    "                         line=dict(color=\"violet\", width=3)))\n"
   ]
  },
  {
   "cell_type": "code",
   "execution_count": null,
   "metadata": {},
   "outputs": [],
   "source": [
    "fig = go.Figure()\n",
    "\n",
    "fig.update_layout(yaxis_title=\"<b>Clusters count</b>\",\n",
    "                  xaxis_title=\"<b>Cluster size</b>\",\n",
    "                  height=750, width=1500)\n",
    "\n",
    "fig.add_trace(go.Scatter(x = maraclusters_quality['size'], \n",
    "                         y = maraclusters_quality['identified clusters'], \n",
    "                         mode=\"markers+lines\",\n",
    "                         name=\"maracluster identified\",\n",
    "                         opacity=0.5,\n",
    "                         line=dict(dash=\"dash\", color=\"red\", width=3)))\n",
    "\n",
    "fig.add_trace(go.Scatter(x = embeddings_quality['size'], \n",
    "                         y = embeddings_quality['identified clusters'], \n",
    "                         mode=\"markers+lines\",\n",
    "                         name=\"embeddings identified\",\n",
    "                         opacity=0.5,\n",
    "                         line=dict(dash=\"dash\", color=\"black\", width=3)))\n",
    "\n",
    "fig.add_trace(go.Scatter(x = q01_quality['size'], \n",
    "                         y = q01_quality['identified clusters'], \n",
    "                         mode=\"markers+lines\",\n",
    "                         name=\"q < 0.01 identified\",\n",
    "                         opacity=0.5,\n",
    "                         line=dict(dash=\"dash\", color=\"blue\", width=3)))\n",
    "\n",
    "fig.add_trace(go.Scatter(x = q001_quality['size'], \n",
    "                         y = q001_quality['identified clusters'], \n",
    "                         mode=\"markers+lines\", \n",
    "                         name=\"q < 0.001 identified\",\n",
    "                         opacity=0.5,\n",
    "                         line=dict(dash=\"dash\", color=\"green\", width=3)))\n",
    "\n",
    "fig.add_trace(go.Scatter(x = q01_quality_04['size'], \n",
    "                         y = q01_quality_04['identified clusters'], \n",
    "                         mode=\"markers+lines\",\n",
    "                         name=\"q < 0.01 margin 0.4 identified\",\n",
    "                         opacity=0.5,\n",
    "                         line=dict(dash=\"dash\", color=\"orange\", width=3)))\n",
    "\n",
    "fig.add_trace(go.Scatter(x = q01_lstm40_quality['size'], \n",
    "                         y = q01_lstm40_quality['identified clusters'], \n",
    "                         mode=\"markers+lines\",\n",
    "                         name=\"q < 0.01 LSTM 40, 3 layers identified\",\n",
    "                         opacity=0.5,\n",
    "                         line=dict(dash=\"dash\", color=\"black\", width=3)))\n",
    "\n",
    "fig.add_trace(go.Scatter(x = q01_big_quality['size'], \n",
    "                         y = q01_big_quality['identified clusters'], \n",
    "                         mode=\"markers+lines\",\n",
    "                         name=\"q < 0.01 big identified\",\n",
    "                         opacity=0.5,\n",
    "                         line=dict(color=\"violet\", width=3)))"
   ]
  },
  {
   "cell_type": "markdown",
   "metadata": {},
   "source": [
    "Check the clusters' quality at a higher point.\n",
    "\n",
    "For maracluster, get the p30; and p95.897800 for the rest."
   ]
  },
  {
   "cell_type": "code",
   "execution_count": null,
   "metadata": {},
   "outputs": [],
   "source": [
    "# MARACLUSTER_CLUSTERS_Q2=\"identifications_maracluster/sample_maracluster.clusters_p30_identifications_analysis.tsv_clusters_size.tsv\"\n",
    "\n",
    "# EMBEDDINGS_CLUSTERS_Q2=\"identifications_embeddings/sample_embeddings.clusters_p95.897800_identifications_analysis_clusters_size.tsv\"\n",
    "\n",
    "# Q01_CLUSTERS_Q2=\"identifications_q0.01/sample_embeddings_q0.01.clusters_p95.897800_identifications_analysis.tsv_clusters_size.tsv\"\n",
    "# Q001_CLUSTERS_Q2=\"identifications_q0.001/sample_embeddings_q0.001.clusters_p95.897800_identifications_analysis.tsv_clusters_size.tsv\"\n",
    "# Q01_04_CLUSTERS_Q2=\"identifications_q0.01_margin0.4/sample_embeddings_q0.01_margin0.4.clusters_p95.897800_identifications_analysis_clusters_size.tsv\"\n",
    "\n",
    "# Q01_LSTM40_CLUSTERS_Q2=\"identifications_q0.01_lstm40_3layers/sample_embeddings_q0.01_lstm40_3layers.clusters_p95.897800_identifications_analysis_clusters_size.tsv\"\n",
    "\n",
    "# Q01_BIG_CLUSTERS_Q2=\"identifications_q0.01_big/sample_embeddings_q0.01_big.clusters_p95.897800_identifications_analysis_clusters_size.tsv\"\n",
    "\n",
    "\n",
    "MARACLUSTER_CLUSTERS_Q2=\"identifications_maracluster/sample_maracluster.clusters_p30_identifications_analysis.tsv_clusters_size.tsv\"\n",
    "\n",
    "THRESHOLD=\"p73.983100\"\n",
    "\n",
    "EMBEDDINGS_CLUSTERS_Q2=\"identifications_embeddings/sample_embeddings.clusters_{}_identifications_analysis_clusters_size.tsv\".format(THRESHOLD)\n",
    "Q01_CLUSTERS_Q2=\"identifications_q0.01/sample_embeddings_q0.01.clusters_{}_identifications_analysis.tsv_clusters_size.tsv\".format(THRESHOLD)\n",
    "Q001_CLUSTERS_Q2=\"identifications_q0.001/sample_embeddings_q0.001.clusters_{}_identifications_analysis.tsv_clusters_size.tsv\".format(THRESHOLD)\n",
    "Q01_04_CLUSTERS_Q2=\"identifications_q0.01_margin0.4/sample_embeddings_q0.01_margin0.4.clusters_{}_identifications_analysis_clusters_size.tsv\".format(THRESHOLD)\n",
    "Q01_LSTM40_CLUSTERS_Q2=\"identifications_q0.01_lstm40_3layers/sample_embeddings_q0.01_lstm40_3layers.clusters_{}_identifications_analysis_clusters_size.tsv\".format(THRESHOLD)\n",
    "Q01_BIG_CLUSTERS_Q2=\"identifications_q0.01_big/sample_embeddings_q0.01_big.clusters_{}_identifications_analysis_clusters_size.tsv\".format(THRESHOLD)\n",
    "\n",
    "\n"
   ]
  },
  {
   "cell_type": "code",
   "execution_count": null,
   "metadata": {},
   "outputs": [],
   "source": [
    "maraclusters_q2 = pd.read_csv(os.path.join(BASE_FOLDER, MARACLUSTER_CLUSTERS_Q2), sep='\\t')\n",
    "\n",
    "embeddings_q2 = pd.read_csv(os.path.join(BASE_FOLDER, EMBEDDINGS_CLUSTERS_Q2), sep='\\t')\n",
    "\n",
    "q01_q2 = pd.read_csv(os.path.join(BASE_FOLDER, Q01_CLUSTERS_Q2), sep='\\t')\n",
    "q001_q2 = pd.read_csv(os.path.join(BASE_FOLDER, Q001_CLUSTERS_Q2), sep='\\t')\n",
    "q01_04_q2 = pd.read_csv(os.path.join(BASE_FOLDER, Q01_04_CLUSTERS_Q2), sep='\\t')\n",
    "q01_lstm40_q2 = pd.read_csv(os.path.join(BASE_FOLDER, Q01_LSTM40_CLUSTERS_Q2), sep='\\t')\n",
    "\n",
    "q01_big_q2 = pd.read_csv(os.path.join(BASE_FOLDER, Q01_BIG_CLUSTERS_Q2), sep='\\t')\n"
   ]
  },
  {
   "cell_type": "code",
   "execution_count": null,
   "metadata": {},
   "outputs": [],
   "source": [
    "fig = go.Figure()\n",
    "\n",
    "fig.update_layout(yaxis_title=\"<b>Average purity</b><br>(identified clusters purity) / (# of identified clusters)\",\n",
    "                  xaxis_title=\"<b>Cluster size</b>\")\n",
    "\n",
    "fig.add_trace(go.Scatter(x = maraclusters_q2['size'], \n",
    "                         y = maraclusters_q2['identified clusters mean'], \n",
    "                         opacity=0.5,\n",
    "                         mode=\"markers+lines\",\n",
    "                         name=\"maracluster\"))\n",
    "\n",
    "fig.add_trace(go.Scatter(x = embeddings_q2['size'], \n",
    "                         y = embeddings_q2['identified clusters mean'], \n",
    "                         opacity=0.5,\n",
    "                         mode=\"markers+lines\",\n",
    "                         name=\"embeddings\"))\n",
    "\n",
    "fig.add_trace(go.Scatter(x = q01_q2['size'], \n",
    "                         y = q01_q2['identified clusters mean'], \n",
    "                         opacity=0.5,\n",
    "                         mode=\"markers+lines\",\n",
    "                         name=\"q < 0.01\"))\n",
    "\n",
    "fig.add_trace(go.Scatter(x = q001_q2['size'], \n",
    "                         y = q001_q2['identified clusters mean'], \n",
    "                         opacity=0.5,\n",
    "                         mode=\"markers+lines\", \n",
    "                         name=\"q < 0.001\"))\n",
    "\n",
    "fig.add_trace(go.Scatter(x = q01_04_q2['size'], \n",
    "                         y = q01_04_q2['identified clusters mean'], \n",
    "                         opacity=0.5,\n",
    "                         mode=\"markers+lines\",\n",
    "                         name=\"q < 0.01 margin 0.4\"))\n",
    "\n",
    "fig.add_trace(go.Scatter(x = q01_lstm40_q2['size'], \n",
    "                         y = q01_lstm40_q2['identified clusters mean'], \n",
    "                         opacity=0.5,\n",
    "                         mode=\"markers+lines\",\n",
    "                         name=\"q < 0.01 LSTM 40, 3 layers\"))\n",
    "\n",
    "fig.add_trace(go.Scatter(x = q01_big_q2['size'], \n",
    "                         y = q01_big_q2['identified clusters mean'], \n",
    "                         opacity=0.5,\n",
    "                         mode=\"markers+lines\",\n",
    "                         name=\"q < 0.01 big\"))\n"
   ]
  },
  {
   "cell_type": "code",
   "execution_count": null,
   "metadata": {},
   "outputs": [],
   "source": []
  }
 ],
 "metadata": {
  "kernelspec": {
   "display_name": "Python 3",
   "language": "python",
   "name": "python3"
  },
  "language_info": {
   "codemirror_mode": {
    "name": "ipython",
    "version": 3
   },
   "file_extension": ".py",
   "mimetype": "text/x-python",
   "name": "python",
   "nbconvert_exporter": "python",
   "pygments_lexer": "ipython3",
   "version": "3.6.9"
  }
 },
 "nbformat": 4,
 "nbformat_minor": 2
}
