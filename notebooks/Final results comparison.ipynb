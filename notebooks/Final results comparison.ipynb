{
 "cells": [
  {
   "cell_type": "code",
   "execution_count": 1,
   "metadata": {},
   "outputs": [],
   "source": [
    "import pandas as pd\n",
    "import plotly.graph_objects as go\n",
    "import os"
   ]
  },
  {
   "cell_type": "code",
   "execution_count": 21,
   "metadata": {},
   "outputs": [],
   "source": [
    "EMBEDDINGS_Q001_04 = \"/media/eduseiti/bigdata02/unicamp/doutorado/clustering/linfeng/sample/consensus_sample_0.1_experiments/clusters_sample_0.1_embeddings_q0.01_margin0.4_clusters_quality_20200223.tsv\"\n",
    "EMBEDDINGS_Q0001 = \"/media/eduseiti/Seagate Expansion Drive1/unicamp/clustering/linfeng/sample/clusters_sample_0.1_embeddings_q0.001_clusters_quality_20200219.tsv\"\n",
    "EMBEDDINGS_Q001 = \"/media/eduseiti/Seagate Expansion Drive1/unicamp/clustering/linfeng/sample/clusters_sample_0.1_embeddings_q0.01_clusters_quality_20200219.tsv\"\n",
    "EMBEDDINGS = \"/media/eduseiti/bigdata02/unicamp/doutorado/clustering/linfeng/sample/clusters_sample_0.1_embeddings_clusters_quality_20200226.tsv\"\n",
    "MARACLUSTER = \"/media/eduseiti/Seagate Expansion Drive1/unicamp/clustering/linfeng/sample/clusters_sample_0.1_maracluster_verification_clusters_quality_20200219.tsv\"\n",
    "\n",
    "# EMBEDDINGS_Q0001 = \"/home/eseiti/Documents/unicamp/clustering/files_20200220/clusters_sample_0.1_embeddings_q0.001_clusters_quality_20200219.tsv\"\n",
    "# EMBEDDINGS_Q001 = \"/home/eseiti/Documents/unicamp/clustering/files_20200220/clusters_sample_0.1_embeddings_q0.01_clusters_quality_20200219.tsv\"\n",
    "# MARACLUSTER = \"/home/eseiti/Documents/unicamp/clustering/files_20200220/clusters_sample_0.1_maracluster_verification_clusters_quality_20200219.tsv\""
   ]
  },
  {
   "cell_type": "markdown",
   "metadata": {},
   "source": [
    "#### Need to manually fix the .tsv files to have the proper thresholds order."
   ]
  },
  {
   "cell_type": "code",
   "execution_count": 29,
   "metadata": {},
   "outputs": [],
   "source": [
    "embeddings_q0001 = pd.read_csv(EMBEDDINGS_Q0001, sep='\\t')\n",
    "embeddings_q001 = pd.read_csv(EMBEDDINGS_Q001, sep='\\t')\n",
    "embeddings_q001_04 = pd.read_csv(EMBEDDINGS_Q001_04, sep='\\t')\n",
    "\n",
    "embeddings = pd.read_csv(EMBEDDINGS, sep='\\t')\n",
    "\n",
    "maracluster = pd.read_csv(MARACLUSTER, sep='\\t')"
   ]
  },
  {
   "cell_type": "code",
   "execution_count": 30,
   "metadata": {
    "scrolled": true
   },
   "outputs": [],
   "source": [
    "maracluster['x-axis'] = maracluster['# clusters'] / 912146\n",
    "maracluster['y-axis'] = maracluster['# identified consensus'] / 43087"
   ]
  },
  {
   "cell_type": "code",
   "execution_count": 31,
   "metadata": {},
   "outputs": [],
   "source": [
    "embeddings['x-axis'] = embeddings['# clusters'] / 912146\n",
    "embeddings['y-axis'] = embeddings['# identified consensus'] / 43087\n",
    "\n",
    "embeddings_q0001['x-axis'] = embeddings_q0001['# clusters'] / 912146\n",
    "embeddings_q0001['y-axis'] = embeddings_q0001['# identified consensus'] / 43087\n",
    "\n",
    "embeddings_q001['x-axis'] = embeddings_q001['# clusters'] / 912146\n",
    "embeddings_q001['y-axis'] = embeddings_q001['# identified consensus'] / 43087\n",
    "\n",
    "embeddings_q001_04['x-axis'] = embeddings_q001_04['# clusters'] / 912146\n",
    "embeddings_q001_04['y-axis'] = embeddings_q001_04['# identified consensus'] / 43087"
   ]
  },
  {
   "cell_type": "code",
   "execution_count": 24,
   "metadata": {},
   "outputs": [
    {
     "data": {
      "text/html": [
       "<div>\n",
       "<style scoped>\n",
       "    .dataframe tbody tr th:only-of-type {\n",
       "        vertical-align: middle;\n",
       "    }\n",
       "\n",
       "    .dataframe tbody tr th {\n",
       "        vertical-align: top;\n",
       "    }\n",
       "\n",
       "    .dataframe thead th {\n",
       "        text-align: right;\n",
       "    }\n",
       "</style>\n",
       "<table border=\"1\" class=\"dataframe\">\n",
       "  <thead>\n",
       "    <tr style=\"text-align: right;\">\n",
       "      <th></th>\n",
       "      <th>cluster</th>\n",
       "      <th># clusters</th>\n",
       "      <th># identified consensus</th>\n",
       "      <th>purity_consensus mean</th>\n",
       "      <th>purity_majority mean</th>\n",
       "      <th># clusters purity_consensus &gt; 0.0</th>\n",
       "      <th># clusters purity_consensus == 1.0</th>\n",
       "    </tr>\n",
       "  </thead>\n",
       "  <tbody>\n",
       "    <tr>\n",
       "      <th>0</th>\n",
       "      <td>sample_maracluster.clusters_p5.tsv</td>\n",
       "      <td>205204</td>\n",
       "      <td>38293</td>\n",
       "      <td>0.164273</td>\n",
       "      <td>0.259123</td>\n",
       "      <td>37682</td>\n",
       "      <td>25189</td>\n",
       "    </tr>\n",
       "    <tr>\n",
       "      <th>1</th>\n",
       "      <td>sample_maracluster.clusters_p10.tsv</td>\n",
       "      <td>269953</td>\n",
       "      <td>42323</td>\n",
       "      <td>0.144876</td>\n",
       "      <td>0.238214</td>\n",
       "      <td>41692</td>\n",
       "      <td>33059</td>\n",
       "    </tr>\n",
       "    <tr>\n",
       "      <th>2</th>\n",
       "      <td>sample_maracluster.clusters_p15.tsv</td>\n",
       "      <td>331027</td>\n",
       "      <td>42950</td>\n",
       "      <td>0.122069</td>\n",
       "      <td>0.228829</td>\n",
       "      <td>42286</td>\n",
       "      <td>36028</td>\n",
       "    </tr>\n",
       "    <tr>\n",
       "      <th>3</th>\n",
       "      <td>sample_maracluster.clusters_p20.tsv</td>\n",
       "      <td>407868</td>\n",
       "      <td>43048</td>\n",
       "      <td>0.100777</td>\n",
       "      <td>0.231974</td>\n",
       "      <td>42407</td>\n",
       "      <td>38190</td>\n",
       "    </tr>\n",
       "    <tr>\n",
       "      <th>4</th>\n",
       "      <td>sample_maracluster.clusters_p25.tsv</td>\n",
       "      <td>505100</td>\n",
       "      <td>43051</td>\n",
       "      <td>0.082138</td>\n",
       "      <td>0.243572</td>\n",
       "      <td>42299</td>\n",
       "      <td>39827</td>\n",
       "    </tr>\n",
       "    <tr>\n",
       "      <th>5</th>\n",
       "      <td>sample_maracluster.clusters_p30.tsv</td>\n",
       "      <td>616748</td>\n",
       "      <td>43288</td>\n",
       "      <td>0.067978</td>\n",
       "      <td>0.261884</td>\n",
       "      <td>42405</td>\n",
       "      <td>41060</td>\n",
       "    </tr>\n",
       "    <tr>\n",
       "      <th>6</th>\n",
       "      <td>sample_maracluster.clusters_p35.tsv</td>\n",
       "      <td>727308</td>\n",
       "      <td>43450</td>\n",
       "      <td>0.058077</td>\n",
       "      <td>0.286113</td>\n",
       "      <td>42462</td>\n",
       "      <td>41875</td>\n",
       "    </tr>\n",
       "    <tr>\n",
       "      <th>7</th>\n",
       "      <td>sample_maracluster.clusters_p40.tsv</td>\n",
       "      <td>817187</td>\n",
       "      <td>43339</td>\n",
       "      <td>0.051705</td>\n",
       "      <td>0.310529</td>\n",
       "      <td>42328</td>\n",
       "      <td>42142</td>\n",
       "    </tr>\n",
       "    <tr>\n",
       "      <th>8</th>\n",
       "      <td>sample_maracluster.clusters_p45.tsv</td>\n",
       "      <td>876212</td>\n",
       "      <td>43229</td>\n",
       "      <td>0.048132</td>\n",
       "      <td>0.327773</td>\n",
       "      <td>42193</td>\n",
       "      <td>42144</td>\n",
       "    </tr>\n",
       "    <tr>\n",
       "      <th>9</th>\n",
       "      <td>sample_maracluster.clusters_p50.tsv</td>\n",
       "      <td>903027</td>\n",
       "      <td>43326</td>\n",
       "      <td>0.046827</td>\n",
       "      <td>0.335821</td>\n",
       "      <td>42292</td>\n",
       "      <td>42278</td>\n",
       "    </tr>\n",
       "    <tr>\n",
       "      <th>10</th>\n",
       "      <td>sample_maracluster.clusters_p55.tsv</td>\n",
       "      <td>910250</td>\n",
       "      <td>43301</td>\n",
       "      <td>0.046413</td>\n",
       "      <td>0.337951</td>\n",
       "      <td>42249</td>\n",
       "      <td>42244</td>\n",
       "    </tr>\n",
       "    <tr>\n",
       "      <th>11</th>\n",
       "      <td>sample_maracluster.clusters_p60.tsv</td>\n",
       "      <td>911822</td>\n",
       "      <td>43364</td>\n",
       "      <td>0.046406</td>\n",
       "      <td>0.338504</td>\n",
       "      <td>42314</td>\n",
       "      <td>42314</td>\n",
       "    </tr>\n",
       "  </tbody>\n",
       "</table>\n",
       "</div>"
      ],
      "text/plain": [
       "                                cluster  # clusters  # identified consensus  \\\n",
       "0    sample_maracluster.clusters_p5.tsv      205204                   38293   \n",
       "1   sample_maracluster.clusters_p10.tsv      269953                   42323   \n",
       "2   sample_maracluster.clusters_p15.tsv      331027                   42950   \n",
       "3   sample_maracluster.clusters_p20.tsv      407868                   43048   \n",
       "4   sample_maracluster.clusters_p25.tsv      505100                   43051   \n",
       "5   sample_maracluster.clusters_p30.tsv      616748                   43288   \n",
       "6   sample_maracluster.clusters_p35.tsv      727308                   43450   \n",
       "7   sample_maracluster.clusters_p40.tsv      817187                   43339   \n",
       "8   sample_maracluster.clusters_p45.tsv      876212                   43229   \n",
       "9   sample_maracluster.clusters_p50.tsv      903027                   43326   \n",
       "10  sample_maracluster.clusters_p55.tsv      910250                   43301   \n",
       "11  sample_maracluster.clusters_p60.tsv      911822                   43364   \n",
       "\n",
       "    purity_consensus mean  purity_majority mean  \\\n",
       "0                0.164273              0.259123   \n",
       "1                0.144876              0.238214   \n",
       "2                0.122069              0.228829   \n",
       "3                0.100777              0.231974   \n",
       "4                0.082138              0.243572   \n",
       "5                0.067978              0.261884   \n",
       "6                0.058077              0.286113   \n",
       "7                0.051705              0.310529   \n",
       "8                0.048132              0.327773   \n",
       "9                0.046827              0.335821   \n",
       "10               0.046413              0.337951   \n",
       "11               0.046406              0.338504   \n",
       "\n",
       "    # clusters purity_consensus > 0.0  # clusters purity_consensus == 1.0  \n",
       "0                               37682                               25189  \n",
       "1                               41692                               33059  \n",
       "2                               42286                               36028  \n",
       "3                               42407                               38190  \n",
       "4                               42299                               39827  \n",
       "5                               42405                               41060  \n",
       "6                               42462                               41875  \n",
       "7                               42328                               42142  \n",
       "8                               42193                               42144  \n",
       "9                               42292                               42278  \n",
       "10                              42249                               42244  \n",
       "11                              42314                               42314  "
      ]
     },
     "execution_count": 24,
     "metadata": {},
     "output_type": "execute_result"
    }
   ],
   "source": [
    "maracluster"
   ]
  },
  {
   "cell_type": "code",
   "execution_count": 25,
   "metadata": {},
   "outputs": [
    {
     "data": {
      "text/html": [
       "<div>\n",
       "<style scoped>\n",
       "    .dataframe tbody tr th:only-of-type {\n",
       "        vertical-align: middle;\n",
       "    }\n",
       "\n",
       "    .dataframe tbody tr th {\n",
       "        vertical-align: top;\n",
       "    }\n",
       "\n",
       "    .dataframe thead th {\n",
       "        text-align: right;\n",
       "    }\n",
       "</style>\n",
       "<table border=\"1\" class=\"dataframe\">\n",
       "  <thead>\n",
       "    <tr style=\"text-align: right;\">\n",
       "      <th></th>\n",
       "      <th>cluster</th>\n",
       "      <th># clusters</th>\n",
       "      <th># identified consensus</th>\n",
       "      <th>purity_consensus mean</th>\n",
       "      <th>purity_majority mean</th>\n",
       "      <th># clusters purity_consensus &gt; 0.0</th>\n",
       "      <th># clusters purity_consensus == 1.0</th>\n",
       "      <th>x-axis</th>\n",
       "      <th>y-axis</th>\n",
       "    </tr>\n",
       "  </thead>\n",
       "  <tbody>\n",
       "    <tr>\n",
       "      <th>0</th>\n",
       "      <td>sample_embeddings_q0.01.clusters_p5.000000.tsv</td>\n",
       "      <td>77073</td>\n",
       "      <td>16669</td>\n",
       "      <td>0.127250</td>\n",
       "      <td>0.229996</td>\n",
       "      <td>16449</td>\n",
       "      <td>2430</td>\n",
       "      <td>0.084496</td>\n",
       "      <td>0.386868</td>\n",
       "    </tr>\n",
       "    <tr>\n",
       "      <th>1</th>\n",
       "      <td>sample_embeddings_q0.01.clusters_p37.933100.tsv</td>\n",
       "      <td>94395</td>\n",
       "      <td>19619</td>\n",
       "      <td>0.132273</td>\n",
       "      <td>0.237696</td>\n",
       "      <td>19306</td>\n",
       "      <td>4150</td>\n",
       "      <td>0.103487</td>\n",
       "      <td>0.455335</td>\n",
       "    </tr>\n",
       "    <tr>\n",
       "      <th>2</th>\n",
       "      <td>sample_embeddings_q0.01.clusters_p48.320900.tsv</td>\n",
       "      <td>109714</td>\n",
       "      <td>22105</td>\n",
       "      <td>0.136364</td>\n",
       "      <td>0.246507</td>\n",
       "      <td>21739</td>\n",
       "      <td>5981</td>\n",
       "      <td>0.120281</td>\n",
       "      <td>0.513032</td>\n",
       "    </tr>\n",
       "    <tr>\n",
       "      <th>3</th>\n",
       "      <td>sample_embeddings_q0.01.clusters_p55.133800.tsv</td>\n",
       "      <td>124467</td>\n",
       "      <td>24266</td>\n",
       "      <td>0.138548</td>\n",
       "      <td>0.252726</td>\n",
       "      <td>23870</td>\n",
       "      <td>7894</td>\n",
       "      <td>0.136455</td>\n",
       "      <td>0.563186</td>\n",
       "    </tr>\n",
       "    <tr>\n",
       "      <th>4</th>\n",
       "      <td>sample_embeddings_q0.01.clusters_p60.301700.tsv</td>\n",
       "      <td>138831</td>\n",
       "      <td>25913</td>\n",
       "      <td>0.138045</td>\n",
       "      <td>0.256841</td>\n",
       "      <td>25498</td>\n",
       "      <td>9685</td>\n",
       "      <td>0.152203</td>\n",
       "      <td>0.601411</td>\n",
       "    </tr>\n",
       "    <tr>\n",
       "      <th>5</th>\n",
       "      <td>sample_embeddings_q0.01.clusters_p64.506800.tsv</td>\n",
       "      <td>153183</td>\n",
       "      <td>27637</td>\n",
       "      <td>0.137500</td>\n",
       "      <td>0.261040</td>\n",
       "      <td>27147</td>\n",
       "      <td>11582</td>\n",
       "      <td>0.167937</td>\n",
       "      <td>0.641423</td>\n",
       "    </tr>\n",
       "    <tr>\n",
       "      <th>6</th>\n",
       "      <td>sample_embeddings_q0.01.clusters_p68.077300.tsv</td>\n",
       "      <td>167736</td>\n",
       "      <td>29036</td>\n",
       "      <td>0.135978</td>\n",
       "      <td>0.264498</td>\n",
       "      <td>28509</td>\n",
       "      <td>13570</td>\n",
       "      <td>0.183892</td>\n",
       "      <td>0.673892</td>\n",
       "    </tr>\n",
       "    <tr>\n",
       "      <th>7</th>\n",
       "      <td>sample_embeddings_q0.01.clusters_p71.198300.tsv</td>\n",
       "      <td>182862</td>\n",
       "      <td>30445</td>\n",
       "      <td>0.134377</td>\n",
       "      <td>0.267336</td>\n",
       "      <td>29915</td>\n",
       "      <td>15632</td>\n",
       "      <td>0.200474</td>\n",
       "      <td>0.706594</td>\n",
       "    </tr>\n",
       "    <tr>\n",
       "      <th>8</th>\n",
       "      <td>sample_embeddings_q0.01.clusters_p73.983100.tsv</td>\n",
       "      <td>198626</td>\n",
       "      <td>31882</td>\n",
       "      <td>0.132101</td>\n",
       "      <td>0.269931</td>\n",
       "      <td>31286</td>\n",
       "      <td>17601</td>\n",
       "      <td>0.217757</td>\n",
       "      <td>0.739945</td>\n",
       "    </tr>\n",
       "    <tr>\n",
       "      <th>9</th>\n",
       "      <td>sample_embeddings_q0.01.clusters_p76.505100.tsv</td>\n",
       "      <td>215294</td>\n",
       "      <td>32928</td>\n",
       "      <td>0.128636</td>\n",
       "      <td>0.272014</td>\n",
       "      <td>32299</td>\n",
       "      <td>19638</td>\n",
       "      <td>0.236030</td>\n",
       "      <td>0.764221</td>\n",
       "    </tr>\n",
       "    <tr>\n",
       "      <th>10</th>\n",
       "      <td>sample_embeddings_q0.01.clusters_p78.831000.tsv</td>\n",
       "      <td>233002</td>\n",
       "      <td>34236</td>\n",
       "      <td>0.125846</td>\n",
       "      <td>0.274141</td>\n",
       "      <td>33558</td>\n",
       "      <td>21796</td>\n",
       "      <td>0.255444</td>\n",
       "      <td>0.794578</td>\n",
       "    </tr>\n",
       "    <tr>\n",
       "      <th>11</th>\n",
       "      <td>sample_embeddings_q0.01.clusters_p80.992000.tsv</td>\n",
       "      <td>252294</td>\n",
       "      <td>35442</td>\n",
       "      <td>0.122389</td>\n",
       "      <td>0.275626</td>\n",
       "      <td>34721</td>\n",
       "      <td>23983</td>\n",
       "      <td>0.276594</td>\n",
       "      <td>0.822568</td>\n",
       "    </tr>\n",
       "    <tr>\n",
       "      <th>12</th>\n",
       "      <td>sample_embeddings_q0.01.clusters_p83.022400.tsv</td>\n",
       "      <td>273436</td>\n",
       "      <td>36551</td>\n",
       "      <td>0.118339</td>\n",
       "      <td>0.277452</td>\n",
       "      <td>35812</td>\n",
       "      <td>26145</td>\n",
       "      <td>0.299772</td>\n",
       "      <td>0.848307</td>\n",
       "    </tr>\n",
       "    <tr>\n",
       "      <th>13</th>\n",
       "      <td>sample_embeddings_q0.01.clusters_p84.946300.tsv</td>\n",
       "      <td>297091</td>\n",
       "      <td>37489</td>\n",
       "      <td>0.113623</td>\n",
       "      <td>0.279418</td>\n",
       "      <td>36756</td>\n",
       "      <td>28327</td>\n",
       "      <td>0.325706</td>\n",
       "      <td>0.870077</td>\n",
       "    </tr>\n",
       "    <tr>\n",
       "      <th>14</th>\n",
       "      <td>sample_embeddings_q0.01.clusters_p86.787700.tsv</td>\n",
       "      <td>323514</td>\n",
       "      <td>38392</td>\n",
       "      <td>0.108343</td>\n",
       "      <td>0.281403</td>\n",
       "      <td>37598</td>\n",
       "      <td>30435</td>\n",
       "      <td>0.354673</td>\n",
       "      <td>0.891034</td>\n",
       "    </tr>\n",
       "    <tr>\n",
       "      <th>15</th>\n",
       "      <td>sample_embeddings_q0.01.clusters_p88.570400.tsv</td>\n",
       "      <td>354506</td>\n",
       "      <td>39264</td>\n",
       "      <td>0.102380</td>\n",
       "      <td>0.283825</td>\n",
       "      <td>38415</td>\n",
       "      <td>32514</td>\n",
       "      <td>0.388651</td>\n",
       "      <td>0.911273</td>\n",
       "    </tr>\n",
       "    <tr>\n",
       "      <th>16</th>\n",
       "      <td>sample_embeddings_q0.01.clusters_p90.317000.tsv</td>\n",
       "      <td>390811</td>\n",
       "      <td>40265</td>\n",
       "      <td>0.096260</td>\n",
       "      <td>0.287084</td>\n",
       "      <td>39324</td>\n",
       "      <td>34672</td>\n",
       "      <td>0.428452</td>\n",
       "      <td>0.934505</td>\n",
       "    </tr>\n",
       "    <tr>\n",
       "      <th>17</th>\n",
       "      <td>sample_embeddings_q0.01.clusters_p92.064200.tsv</td>\n",
       "      <td>436079</td>\n",
       "      <td>41122</td>\n",
       "      <td>0.089242</td>\n",
       "      <td>0.291004</td>\n",
       "      <td>40193</td>\n",
       "      <td>36762</td>\n",
       "      <td>0.478080</td>\n",
       "      <td>0.954395</td>\n",
       "    </tr>\n",
       "    <tr>\n",
       "      <th>18</th>\n",
       "      <td>sample_embeddings_q0.01.clusters_p93.873000.tsv</td>\n",
       "      <td>496730</td>\n",
       "      <td>41951</td>\n",
       "      <td>0.080738</td>\n",
       "      <td>0.296785</td>\n",
       "      <td>40940</td>\n",
       "      <td>38763</td>\n",
       "      <td>0.544573</td>\n",
       "      <td>0.973635</td>\n",
       "    </tr>\n",
       "    <tr>\n",
       "      <th>19</th>\n",
       "      <td>sample_embeddings_q0.01.clusters_p95.897800.tsv</td>\n",
       "      <td>590688</td>\n",
       "      <td>42680</td>\n",
       "      <td>0.069833</td>\n",
       "      <td>0.305992</td>\n",
       "      <td>41693</td>\n",
       "      <td>40631</td>\n",
       "      <td>0.647581</td>\n",
       "      <td>0.990554</td>\n",
       "    </tr>\n",
       "  </tbody>\n",
       "</table>\n",
       "</div>"
      ],
      "text/plain": [
       "                                            cluster  # clusters  \\\n",
       "0    sample_embeddings_q0.01.clusters_p5.000000.tsv       77073   \n",
       "1   sample_embeddings_q0.01.clusters_p37.933100.tsv       94395   \n",
       "2   sample_embeddings_q0.01.clusters_p48.320900.tsv      109714   \n",
       "3   sample_embeddings_q0.01.clusters_p55.133800.tsv      124467   \n",
       "4   sample_embeddings_q0.01.clusters_p60.301700.tsv      138831   \n",
       "5   sample_embeddings_q0.01.clusters_p64.506800.tsv      153183   \n",
       "6   sample_embeddings_q0.01.clusters_p68.077300.tsv      167736   \n",
       "7   sample_embeddings_q0.01.clusters_p71.198300.tsv      182862   \n",
       "8   sample_embeddings_q0.01.clusters_p73.983100.tsv      198626   \n",
       "9   sample_embeddings_q0.01.clusters_p76.505100.tsv      215294   \n",
       "10  sample_embeddings_q0.01.clusters_p78.831000.tsv      233002   \n",
       "11  sample_embeddings_q0.01.clusters_p80.992000.tsv      252294   \n",
       "12  sample_embeddings_q0.01.clusters_p83.022400.tsv      273436   \n",
       "13  sample_embeddings_q0.01.clusters_p84.946300.tsv      297091   \n",
       "14  sample_embeddings_q0.01.clusters_p86.787700.tsv      323514   \n",
       "15  sample_embeddings_q0.01.clusters_p88.570400.tsv      354506   \n",
       "16  sample_embeddings_q0.01.clusters_p90.317000.tsv      390811   \n",
       "17  sample_embeddings_q0.01.clusters_p92.064200.tsv      436079   \n",
       "18  sample_embeddings_q0.01.clusters_p93.873000.tsv      496730   \n",
       "19  sample_embeddings_q0.01.clusters_p95.897800.tsv      590688   \n",
       "\n",
       "    # identified consensus  purity_consensus mean  purity_majority mean  \\\n",
       "0                    16669               0.127250              0.229996   \n",
       "1                    19619               0.132273              0.237696   \n",
       "2                    22105               0.136364              0.246507   \n",
       "3                    24266               0.138548              0.252726   \n",
       "4                    25913               0.138045              0.256841   \n",
       "5                    27637               0.137500              0.261040   \n",
       "6                    29036               0.135978              0.264498   \n",
       "7                    30445               0.134377              0.267336   \n",
       "8                    31882               0.132101              0.269931   \n",
       "9                    32928               0.128636              0.272014   \n",
       "10                   34236               0.125846              0.274141   \n",
       "11                   35442               0.122389              0.275626   \n",
       "12                   36551               0.118339              0.277452   \n",
       "13                   37489               0.113623              0.279418   \n",
       "14                   38392               0.108343              0.281403   \n",
       "15                   39264               0.102380              0.283825   \n",
       "16                   40265               0.096260              0.287084   \n",
       "17                   41122               0.089242              0.291004   \n",
       "18                   41951               0.080738              0.296785   \n",
       "19                   42680               0.069833              0.305992   \n",
       "\n",
       "    # clusters purity_consensus > 0.0  # clusters purity_consensus == 1.0  \\\n",
       "0                               16449                                2430   \n",
       "1                               19306                                4150   \n",
       "2                               21739                                5981   \n",
       "3                               23870                                7894   \n",
       "4                               25498                                9685   \n",
       "5                               27147                               11582   \n",
       "6                               28509                               13570   \n",
       "7                               29915                               15632   \n",
       "8                               31286                               17601   \n",
       "9                               32299                               19638   \n",
       "10                              33558                               21796   \n",
       "11                              34721                               23983   \n",
       "12                              35812                               26145   \n",
       "13                              36756                               28327   \n",
       "14                              37598                               30435   \n",
       "15                              38415                               32514   \n",
       "16                              39324                               34672   \n",
       "17                              40193                               36762   \n",
       "18                              40940                               38763   \n",
       "19                              41693                               40631   \n",
       "\n",
       "      x-axis    y-axis  \n",
       "0   0.084496  0.386868  \n",
       "1   0.103487  0.455335  \n",
       "2   0.120281  0.513032  \n",
       "3   0.136455  0.563186  \n",
       "4   0.152203  0.601411  \n",
       "5   0.167937  0.641423  \n",
       "6   0.183892  0.673892  \n",
       "7   0.200474  0.706594  \n",
       "8   0.217757  0.739945  \n",
       "9   0.236030  0.764221  \n",
       "10  0.255444  0.794578  \n",
       "11  0.276594  0.822568  \n",
       "12  0.299772  0.848307  \n",
       "13  0.325706  0.870077  \n",
       "14  0.354673  0.891034  \n",
       "15  0.388651  0.911273  \n",
       "16  0.428452  0.934505  \n",
       "17  0.478080  0.954395  \n",
       "18  0.544573  0.973635  \n",
       "19  0.647581  0.990554  "
      ]
     },
     "execution_count": 25,
     "metadata": {},
     "output_type": "execute_result"
    }
   ],
   "source": [
    "embeddings_q001"
   ]
  },
  {
   "cell_type": "code",
   "execution_count": 26,
   "metadata": {},
   "outputs": [
    {
     "data": {
      "text/html": [
       "<div>\n",
       "<style scoped>\n",
       "    .dataframe tbody tr th:only-of-type {\n",
       "        vertical-align: middle;\n",
       "    }\n",
       "\n",
       "    .dataframe tbody tr th {\n",
       "        vertical-align: top;\n",
       "    }\n",
       "\n",
       "    .dataframe thead th {\n",
       "        text-align: right;\n",
       "    }\n",
       "</style>\n",
       "<table border=\"1\" class=\"dataframe\">\n",
       "  <thead>\n",
       "    <tr style=\"text-align: right;\">\n",
       "      <th></th>\n",
       "      <th>cluster</th>\n",
       "      <th># clusters</th>\n",
       "      <th># identified consensus</th>\n",
       "      <th>purity_consensus mean</th>\n",
       "      <th>purity_majority mean</th>\n",
       "      <th># clusters purity_consensus &gt; 0.0</th>\n",
       "      <th># clusters purity_consensus == 1.0</th>\n",
       "      <th>x-axis</th>\n",
       "      <th>y-axis</th>\n",
       "    </tr>\n",
       "  </thead>\n",
       "  <tbody>\n",
       "    <tr>\n",
       "      <th>0</th>\n",
       "      <td>sample_embeddings_q0.001.clusters_p5.000000.tsv</td>\n",
       "      <td>79162</td>\n",
       "      <td>16427</td>\n",
       "      <td>0.120871</td>\n",
       "      <td>0.227525</td>\n",
       "      <td>16176</td>\n",
       "      <td>2336</td>\n",
       "      <td>0.086787</td>\n",
       "      <td>0.381252</td>\n",
       "    </tr>\n",
       "    <tr>\n",
       "      <th>1</th>\n",
       "      <td>sample_embeddings_q0.001.clusters_p37.933100.tsv</td>\n",
       "      <td>97594</td>\n",
       "      <td>19511</td>\n",
       "      <td>0.127401</td>\n",
       "      <td>0.238446</td>\n",
       "      <td>19196</td>\n",
       "      <td>4305</td>\n",
       "      <td>0.106994</td>\n",
       "      <td>0.452828</td>\n",
       "    </tr>\n",
       "    <tr>\n",
       "      <th>2</th>\n",
       "      <td>sample_embeddings_q0.001.clusters_p48.320900.tsv</td>\n",
       "      <td>111480</td>\n",
       "      <td>21396</td>\n",
       "      <td>0.129322</td>\n",
       "      <td>0.245154</td>\n",
       "      <td>21043</td>\n",
       "      <td>5939</td>\n",
       "      <td>0.122217</td>\n",
       "      <td>0.496577</td>\n",
       "    </tr>\n",
       "    <tr>\n",
       "      <th>3</th>\n",
       "      <td>sample_embeddings_q0.001.clusters_p55.133800.tsv</td>\n",
       "      <td>124338</td>\n",
       "      <td>23020</td>\n",
       "      <td>0.130169</td>\n",
       "      <td>0.250685</td>\n",
       "      <td>22620</td>\n",
       "      <td>7602</td>\n",
       "      <td>0.136314</td>\n",
       "      <td>0.534268</td>\n",
       "    </tr>\n",
       "    <tr>\n",
       "      <th>4</th>\n",
       "      <td>sample_embeddings_q0.001.clusters_p60.301700.tsv</td>\n",
       "      <td>136870</td>\n",
       "      <td>24472</td>\n",
       "      <td>0.130291</td>\n",
       "      <td>0.255738</td>\n",
       "      <td>24025</td>\n",
       "      <td>9251</td>\n",
       "      <td>0.150053</td>\n",
       "      <td>0.567967</td>\n",
       "    </tr>\n",
       "    <tr>\n",
       "      <th>5</th>\n",
       "      <td>sample_embeddings_q0.001.clusters_p64.506800.tsv</td>\n",
       "      <td>149451</td>\n",
       "      <td>25987</td>\n",
       "      <td>0.130327</td>\n",
       "      <td>0.259726</td>\n",
       "      <td>25535</td>\n",
       "      <td>10856</td>\n",
       "      <td>0.163845</td>\n",
       "      <td>0.603129</td>\n",
       "    </tr>\n",
       "    <tr>\n",
       "      <th>6</th>\n",
       "      <td>sample_embeddings_q0.001.clusters_p68.077300.tsv</td>\n",
       "      <td>162380</td>\n",
       "      <td>27300</td>\n",
       "      <td>0.129314</td>\n",
       "      <td>0.263470</td>\n",
       "      <td>26805</td>\n",
       "      <td>12478</td>\n",
       "      <td>0.178020</td>\n",
       "      <td>0.633602</td>\n",
       "    </tr>\n",
       "    <tr>\n",
       "      <th>7</th>\n",
       "      <td>sample_embeddings_q0.001.clusters_p71.198300.tsv</td>\n",
       "      <td>175766</td>\n",
       "      <td>28709</td>\n",
       "      <td>0.128045</td>\n",
       "      <td>0.266995</td>\n",
       "      <td>28156</td>\n",
       "      <td>14095</td>\n",
       "      <td>0.192695</td>\n",
       "      <td>0.666303</td>\n",
       "    </tr>\n",
       "    <tr>\n",
       "      <th>8</th>\n",
       "      <td>sample_embeddings_q0.001.clusters_p73.983100.tsv</td>\n",
       "      <td>189884</td>\n",
       "      <td>29782</td>\n",
       "      <td>0.125549</td>\n",
       "      <td>0.270024</td>\n",
       "      <td>29190</td>\n",
       "      <td>15627</td>\n",
       "      <td>0.208173</td>\n",
       "      <td>0.691206</td>\n",
       "    </tr>\n",
       "    <tr>\n",
       "      <th>9</th>\n",
       "      <td>sample_embeddings_q0.001.clusters_p76.505100.tsv</td>\n",
       "      <td>204987</td>\n",
       "      <td>30884</td>\n",
       "      <td>0.123145</td>\n",
       "      <td>0.273079</td>\n",
       "      <td>30257</td>\n",
       "      <td>17373</td>\n",
       "      <td>0.224730</td>\n",
       "      <td>0.716782</td>\n",
       "    </tr>\n",
       "    <tr>\n",
       "      <th>10</th>\n",
       "      <td>sample_embeddings_q0.001.clusters_p78.831000.tsv</td>\n",
       "      <td>221124</td>\n",
       "      <td>31708</td>\n",
       "      <td>0.119648</td>\n",
       "      <td>0.275696</td>\n",
       "      <td>31053</td>\n",
       "      <td>19035</td>\n",
       "      <td>0.242422</td>\n",
       "      <td>0.735906</td>\n",
       "    </tr>\n",
       "    <tr>\n",
       "      <th>11</th>\n",
       "      <td>sample_embeddings_q0.001.clusters_p80.992000.tsv</td>\n",
       "      <td>238867</td>\n",
       "      <td>32919</td>\n",
       "      <td>0.116635</td>\n",
       "      <td>0.278727</td>\n",
       "      <td>32214</td>\n",
       "      <td>20831</td>\n",
       "      <td>0.261874</td>\n",
       "      <td>0.764012</td>\n",
       "    </tr>\n",
       "    <tr>\n",
       "      <th>12</th>\n",
       "      <td>sample_embeddings_q0.001.clusters_p83.022400.tsv</td>\n",
       "      <td>258418</td>\n",
       "      <td>34040</td>\n",
       "      <td>0.113176</td>\n",
       "      <td>0.281401</td>\n",
       "      <td>33281</td>\n",
       "      <td>22677</td>\n",
       "      <td>0.283308</td>\n",
       "      <td>0.790029</td>\n",
       "    </tr>\n",
       "    <tr>\n",
       "      <th>13</th>\n",
       "      <td>sample_embeddings_q0.001.clusters_p84.946300.tsv</td>\n",
       "      <td>280130</td>\n",
       "      <td>35029</td>\n",
       "      <td>0.109177</td>\n",
       "      <td>0.284363</td>\n",
       "      <td>34235</td>\n",
       "      <td>24591</td>\n",
       "      <td>0.307111</td>\n",
       "      <td>0.812983</td>\n",
       "    </tr>\n",
       "    <tr>\n",
       "      <th>14</th>\n",
       "      <td>sample_embeddings_q0.001.clusters_p86.787700.tsv</td>\n",
       "      <td>305122</td>\n",
       "      <td>36141</td>\n",
       "      <td>0.104898</td>\n",
       "      <td>0.287321</td>\n",
       "      <td>35293</td>\n",
       "      <td>26610</td>\n",
       "      <td>0.334510</td>\n",
       "      <td>0.838791</td>\n",
       "    </tr>\n",
       "    <tr>\n",
       "      <th>15</th>\n",
       "      <td>sample_embeddings_q0.001.clusters_p88.570400.tsv</td>\n",
       "      <td>334134</td>\n",
       "      <td>37257</td>\n",
       "      <td>0.100265</td>\n",
       "      <td>0.290870</td>\n",
       "      <td>36373</td>\n",
       "      <td>28810</td>\n",
       "      <td>0.366316</td>\n",
       "      <td>0.864692</td>\n",
       "    </tr>\n",
       "    <tr>\n",
       "      <th>16</th>\n",
       "      <td>sample_embeddings_q0.001.clusters_p90.317000.tsv</td>\n",
       "      <td>369399</td>\n",
       "      <td>38376</td>\n",
       "      <td>0.094820</td>\n",
       "      <td>0.294874</td>\n",
       "      <td>37458</td>\n",
       "      <td>31086</td>\n",
       "      <td>0.404978</td>\n",
       "      <td>0.890663</td>\n",
       "    </tr>\n",
       "    <tr>\n",
       "      <th>17</th>\n",
       "      <td>sample_embeddings_q0.001.clusters_p92.064200.tsv</td>\n",
       "      <td>413526</td>\n",
       "      <td>39437</td>\n",
       "      <td>0.088657</td>\n",
       "      <td>0.299449</td>\n",
       "      <td>38576</td>\n",
       "      <td>33646</td>\n",
       "      <td>0.453355</td>\n",
       "      <td>0.915288</td>\n",
       "    </tr>\n",
       "    <tr>\n",
       "      <th>18</th>\n",
       "      <td>sample_embeddings_q0.001.clusters_p93.873000.tsv</td>\n",
       "      <td>473621</td>\n",
       "      <td>40748</td>\n",
       "      <td>0.081059</td>\n",
       "      <td>0.305879</td>\n",
       "      <td>39701</td>\n",
       "      <td>36389</td>\n",
       "      <td>0.519238</td>\n",
       "      <td>0.945714</td>\n",
       "    </tr>\n",
       "    <tr>\n",
       "      <th>19</th>\n",
       "      <td>sample_embeddings_q0.001.clusters_p95.897800.tsv</td>\n",
       "      <td>569276</td>\n",
       "      <td>41909</td>\n",
       "      <td>0.070669</td>\n",
       "      <td>0.314990</td>\n",
       "      <td>40918</td>\n",
       "      <td>39276</td>\n",
       "      <td>0.624106</td>\n",
       "      <td>0.972660</td>\n",
       "    </tr>\n",
       "    <tr>\n",
       "      <th>20</th>\n",
       "      <td>sample_embeddings_q0.001.clusters_p99.994800.tsv</td>\n",
       "      <td>912141</td>\n",
       "      <td>43366</td>\n",
       "      <td>0.046403</td>\n",
       "      <td>0.338611</td>\n",
       "      <td>42326</td>\n",
       "      <td>42326</td>\n",
       "      <td>0.999995</td>\n",
       "      <td>1.006475</td>\n",
       "    </tr>\n",
       "  </tbody>\n",
       "</table>\n",
       "</div>"
      ],
      "text/plain": [
       "                                             cluster  # clusters  \\\n",
       "0    sample_embeddings_q0.001.clusters_p5.000000.tsv       79162   \n",
       "1   sample_embeddings_q0.001.clusters_p37.933100.tsv       97594   \n",
       "2   sample_embeddings_q0.001.clusters_p48.320900.tsv      111480   \n",
       "3   sample_embeddings_q0.001.clusters_p55.133800.tsv      124338   \n",
       "4   sample_embeddings_q0.001.clusters_p60.301700.tsv      136870   \n",
       "5   sample_embeddings_q0.001.clusters_p64.506800.tsv      149451   \n",
       "6   sample_embeddings_q0.001.clusters_p68.077300.tsv      162380   \n",
       "7   sample_embeddings_q0.001.clusters_p71.198300.tsv      175766   \n",
       "8   sample_embeddings_q0.001.clusters_p73.983100.tsv      189884   \n",
       "9   sample_embeddings_q0.001.clusters_p76.505100.tsv      204987   \n",
       "10  sample_embeddings_q0.001.clusters_p78.831000.tsv      221124   \n",
       "11  sample_embeddings_q0.001.clusters_p80.992000.tsv      238867   \n",
       "12  sample_embeddings_q0.001.clusters_p83.022400.tsv      258418   \n",
       "13  sample_embeddings_q0.001.clusters_p84.946300.tsv      280130   \n",
       "14  sample_embeddings_q0.001.clusters_p86.787700.tsv      305122   \n",
       "15  sample_embeddings_q0.001.clusters_p88.570400.tsv      334134   \n",
       "16  sample_embeddings_q0.001.clusters_p90.317000.tsv      369399   \n",
       "17  sample_embeddings_q0.001.clusters_p92.064200.tsv      413526   \n",
       "18  sample_embeddings_q0.001.clusters_p93.873000.tsv      473621   \n",
       "19  sample_embeddings_q0.001.clusters_p95.897800.tsv      569276   \n",
       "20  sample_embeddings_q0.001.clusters_p99.994800.tsv      912141   \n",
       "\n",
       "    # identified consensus  purity_consensus mean  purity_majority mean  \\\n",
       "0                    16427               0.120871              0.227525   \n",
       "1                    19511               0.127401              0.238446   \n",
       "2                    21396               0.129322              0.245154   \n",
       "3                    23020               0.130169              0.250685   \n",
       "4                    24472               0.130291              0.255738   \n",
       "5                    25987               0.130327              0.259726   \n",
       "6                    27300               0.129314              0.263470   \n",
       "7                    28709               0.128045              0.266995   \n",
       "8                    29782               0.125549              0.270024   \n",
       "9                    30884               0.123145              0.273079   \n",
       "10                   31708               0.119648              0.275696   \n",
       "11                   32919               0.116635              0.278727   \n",
       "12                   34040               0.113176              0.281401   \n",
       "13                   35029               0.109177              0.284363   \n",
       "14                   36141               0.104898              0.287321   \n",
       "15                   37257               0.100265              0.290870   \n",
       "16                   38376               0.094820              0.294874   \n",
       "17                   39437               0.088657              0.299449   \n",
       "18                   40748               0.081059              0.305879   \n",
       "19                   41909               0.070669              0.314990   \n",
       "20                   43366               0.046403              0.338611   \n",
       "\n",
       "    # clusters purity_consensus > 0.0  # clusters purity_consensus == 1.0  \\\n",
       "0                               16176                                2336   \n",
       "1                               19196                                4305   \n",
       "2                               21043                                5939   \n",
       "3                               22620                                7602   \n",
       "4                               24025                                9251   \n",
       "5                               25535                               10856   \n",
       "6                               26805                               12478   \n",
       "7                               28156                               14095   \n",
       "8                               29190                               15627   \n",
       "9                               30257                               17373   \n",
       "10                              31053                               19035   \n",
       "11                              32214                               20831   \n",
       "12                              33281                               22677   \n",
       "13                              34235                               24591   \n",
       "14                              35293                               26610   \n",
       "15                              36373                               28810   \n",
       "16                              37458                               31086   \n",
       "17                              38576                               33646   \n",
       "18                              39701                               36389   \n",
       "19                              40918                               39276   \n",
       "20                              42326                               42326   \n",
       "\n",
       "      x-axis    y-axis  \n",
       "0   0.086787  0.381252  \n",
       "1   0.106994  0.452828  \n",
       "2   0.122217  0.496577  \n",
       "3   0.136314  0.534268  \n",
       "4   0.150053  0.567967  \n",
       "5   0.163845  0.603129  \n",
       "6   0.178020  0.633602  \n",
       "7   0.192695  0.666303  \n",
       "8   0.208173  0.691206  \n",
       "9   0.224730  0.716782  \n",
       "10  0.242422  0.735906  \n",
       "11  0.261874  0.764012  \n",
       "12  0.283308  0.790029  \n",
       "13  0.307111  0.812983  \n",
       "14  0.334510  0.838791  \n",
       "15  0.366316  0.864692  \n",
       "16  0.404978  0.890663  \n",
       "17  0.453355  0.915288  \n",
       "18  0.519238  0.945714  \n",
       "19  0.624106  0.972660  \n",
       "20  0.999995  1.006475  "
      ]
     },
     "execution_count": 26,
     "metadata": {},
     "output_type": "execute_result"
    }
   ],
   "source": [
    "embeddings_q0001"
   ]
  },
  {
   "cell_type": "code",
   "execution_count": 27,
   "metadata": {},
   "outputs": [
    {
     "data": {
      "text/html": [
       "<div>\n",
       "<style scoped>\n",
       "    .dataframe tbody tr th:only-of-type {\n",
       "        vertical-align: middle;\n",
       "    }\n",
       "\n",
       "    .dataframe tbody tr th {\n",
       "        vertical-align: top;\n",
       "    }\n",
       "\n",
       "    .dataframe thead th {\n",
       "        text-align: right;\n",
       "    }\n",
       "</style>\n",
       "<table border=\"1\" class=\"dataframe\">\n",
       "  <thead>\n",
       "    <tr style=\"text-align: right;\">\n",
       "      <th></th>\n",
       "      <th>cluster</th>\n",
       "      <th># clusters</th>\n",
       "      <th># identified consensus</th>\n",
       "      <th>purity_consensus mean</th>\n",
       "      <th>purity_majority mean</th>\n",
       "      <th># clusters purity_consensus &gt; 0.0</th>\n",
       "      <th># clusters purity_consensus == 1.0</th>\n",
       "      <th>x-axis</th>\n",
       "      <th>y-axis</th>\n",
       "    </tr>\n",
       "  </thead>\n",
       "  <tbody>\n",
       "    <tr>\n",
       "      <th>0</th>\n",
       "      <td>sample_embeddings_q0.01_margin0.4.clusters_p5....</td>\n",
       "      <td>84212</td>\n",
       "      <td>16885</td>\n",
       "      <td>0.115381</td>\n",
       "      <td>0.225327</td>\n",
       "      <td>16618</td>\n",
       "      <td>2370</td>\n",
       "      <td>0.092323</td>\n",
       "      <td>0.391882</td>\n",
       "    </tr>\n",
       "    <tr>\n",
       "      <th>1</th>\n",
       "      <td>sample_embeddings_q0.01_margin0.4.clusters_p37...</td>\n",
       "      <td>107735</td>\n",
       "      <td>19784</td>\n",
       "      <td>0.116706</td>\n",
       "      <td>0.235982</td>\n",
       "      <td>19410</td>\n",
       "      <td>4551</td>\n",
       "      <td>0.118112</td>\n",
       "      <td>0.459164</td>\n",
       "    </tr>\n",
       "    <tr>\n",
       "      <th>2</th>\n",
       "      <td>sample_embeddings_q0.01_margin0.4.clusters_p48...</td>\n",
       "      <td>122267</td>\n",
       "      <td>21414</td>\n",
       "      <td>0.117264</td>\n",
       "      <td>0.242959</td>\n",
       "      <td>20995</td>\n",
       "      <td>6075</td>\n",
       "      <td>0.134043</td>\n",
       "      <td>0.496994</td>\n",
       "    </tr>\n",
       "    <tr>\n",
       "      <th>3</th>\n",
       "      <td>sample_embeddings_q0.01_margin0.4.clusters_p55...</td>\n",
       "      <td>135184</td>\n",
       "      <td>22982</td>\n",
       "      <td>0.117763</td>\n",
       "      <td>0.248390</td>\n",
       "      <td>22521</td>\n",
       "      <td>7436</td>\n",
       "      <td>0.148204</td>\n",
       "      <td>0.533386</td>\n",
       "    </tr>\n",
       "    <tr>\n",
       "      <th>4</th>\n",
       "      <td>sample_embeddings_q0.01_margin0.4.clusters_p60...</td>\n",
       "      <td>147675</td>\n",
       "      <td>24213</td>\n",
       "      <td>0.117286</td>\n",
       "      <td>0.252502</td>\n",
       "      <td>23722</td>\n",
       "      <td>8882</td>\n",
       "      <td>0.161898</td>\n",
       "      <td>0.561956</td>\n",
       "    </tr>\n",
       "    <tr>\n",
       "      <th>5</th>\n",
       "      <td>sample_embeddings_q0.01_margin0.4.clusters_p64...</td>\n",
       "      <td>160136</td>\n",
       "      <td>25317</td>\n",
       "      <td>0.116029</td>\n",
       "      <td>0.255932</td>\n",
       "      <td>24795</td>\n",
       "      <td>10203</td>\n",
       "      <td>0.175560</td>\n",
       "      <td>0.587579</td>\n",
       "    </tr>\n",
       "    <tr>\n",
       "      <th>6</th>\n",
       "      <td>sample_embeddings_q0.01_margin0.4.clusters_p68...</td>\n",
       "      <td>172618</td>\n",
       "      <td>26325</td>\n",
       "      <td>0.114761</td>\n",
       "      <td>0.259455</td>\n",
       "      <td>25787</td>\n",
       "      <td>11549</td>\n",
       "      <td>0.189244</td>\n",
       "      <td>0.610973</td>\n",
       "    </tr>\n",
       "    <tr>\n",
       "      <th>7</th>\n",
       "      <td>sample_embeddings_q0.01_margin0.4.clusters_p71...</td>\n",
       "      <td>185540</td>\n",
       "      <td>27431</td>\n",
       "      <td>0.113376</td>\n",
       "      <td>0.262905</td>\n",
       "      <td>26834</td>\n",
       "      <td>12882</td>\n",
       "      <td>0.203410</td>\n",
       "      <td>0.636642</td>\n",
       "    </tr>\n",
       "    <tr>\n",
       "      <th>8</th>\n",
       "      <td>sample_embeddings_q0.01_margin0.4.clusters_p73...</td>\n",
       "      <td>198879</td>\n",
       "      <td>28318</td>\n",
       "      <td>0.111481</td>\n",
       "      <td>0.266094</td>\n",
       "      <td>27690</td>\n",
       "      <td>14221</td>\n",
       "      <td>0.218034</td>\n",
       "      <td>0.657228</td>\n",
       "    </tr>\n",
       "    <tr>\n",
       "      <th>9</th>\n",
       "      <td>sample_embeddings_q0.01_margin0.4.clusters_p76...</td>\n",
       "      <td>213284</td>\n",
       "      <td>29458</td>\n",
       "      <td>0.110013</td>\n",
       "      <td>0.269027</td>\n",
       "      <td>28782</td>\n",
       "      <td>15696</td>\n",
       "      <td>0.233827</td>\n",
       "      <td>0.683686</td>\n",
       "    </tr>\n",
       "    <tr>\n",
       "      <th>10</th>\n",
       "      <td>sample_embeddings_q0.01_margin0.4.clusters_p78...</td>\n",
       "      <td>228810</td>\n",
       "      <td>30366</td>\n",
       "      <td>0.107741</td>\n",
       "      <td>0.272157</td>\n",
       "      <td>29669</td>\n",
       "      <td>17224</td>\n",
       "      <td>0.250848</td>\n",
       "      <td>0.704760</td>\n",
       "    </tr>\n",
       "    <tr>\n",
       "      <th>11</th>\n",
       "      <td>sample_embeddings_q0.01_margin0.4.clusters_p80...</td>\n",
       "      <td>245491</td>\n",
       "      <td>31361</td>\n",
       "      <td>0.105574</td>\n",
       "      <td>0.275290</td>\n",
       "      <td>30626</td>\n",
       "      <td>18862</td>\n",
       "      <td>0.269136</td>\n",
       "      <td>0.727853</td>\n",
       "    </tr>\n",
       "    <tr>\n",
       "      <th>12</th>\n",
       "      <td>sample_embeddings_q0.01_margin0.4.clusters_p83...</td>\n",
       "      <td>263893</td>\n",
       "      <td>32375</td>\n",
       "      <td>0.102921</td>\n",
       "      <td>0.278561</td>\n",
       "      <td>31588</td>\n",
       "      <td>20496</td>\n",
       "      <td>0.289310</td>\n",
       "      <td>0.751387</td>\n",
       "    </tr>\n",
       "    <tr>\n",
       "      <th>13</th>\n",
       "      <td>sample_embeddings_q0.01_margin0.4.clusters_p84...</td>\n",
       "      <td>284755</td>\n",
       "      <td>33384</td>\n",
       "      <td>0.099928</td>\n",
       "      <td>0.282151</td>\n",
       "      <td>32568</td>\n",
       "      <td>22235</td>\n",
       "      <td>0.312181</td>\n",
       "      <td>0.774804</td>\n",
       "    </tr>\n",
       "    <tr>\n",
       "      <th>14</th>\n",
       "      <td>sample_embeddings_q0.01_margin0.4.clusters_p86...</td>\n",
       "      <td>308372</td>\n",
       "      <td>34565</td>\n",
       "      <td>0.097063</td>\n",
       "      <td>0.285784</td>\n",
       "      <td>33686</td>\n",
       "      <td>24254</td>\n",
       "      <td>0.338073</td>\n",
       "      <td>0.802214</td>\n",
       "    </tr>\n",
       "    <tr>\n",
       "      <th>15</th>\n",
       "      <td>sample_embeddings_q0.01_margin0.4.clusters_p88...</td>\n",
       "      <td>335743</td>\n",
       "      <td>35542</td>\n",
       "      <td>0.093284</td>\n",
       "      <td>0.289778</td>\n",
       "      <td>34644</td>\n",
       "      <td>26300</td>\n",
       "      <td>0.368080</td>\n",
       "      <td>0.824889</td>\n",
       "    </tr>\n",
       "    <tr>\n",
       "      <th>16</th>\n",
       "      <td>sample_embeddings_q0.01_margin0.4.clusters_p90...</td>\n",
       "      <td>368713</td>\n",
       "      <td>36610</td>\n",
       "      <td>0.088994</td>\n",
       "      <td>0.294025</td>\n",
       "      <td>35664</td>\n",
       "      <td>28525</td>\n",
       "      <td>0.404226</td>\n",
       "      <td>0.849676</td>\n",
       "    </tr>\n",
       "    <tr>\n",
       "      <th>17</th>\n",
       "      <td>sample_embeddings_q0.01_margin0.4.clusters_p92...</td>\n",
       "      <td>409681</td>\n",
       "      <td>37797</td>\n",
       "      <td>0.084096</td>\n",
       "      <td>0.298628</td>\n",
       "      <td>36767</td>\n",
       "      <td>31022</td>\n",
       "      <td>0.449140</td>\n",
       "      <td>0.877225</td>\n",
       "    </tr>\n",
       "    <tr>\n",
       "      <th>18</th>\n",
       "      <td>sample_embeddings_q0.01_margin0.4.clusters_p93...</td>\n",
       "      <td>465853</td>\n",
       "      <td>39248</td>\n",
       "      <td>0.078186</td>\n",
       "      <td>0.304564</td>\n",
       "      <td>38155</td>\n",
       "      <td>33917</td>\n",
       "      <td>0.510722</td>\n",
       "      <td>0.910901</td>\n",
       "    </tr>\n",
       "    <tr>\n",
       "      <th>19</th>\n",
       "      <td>sample_embeddings_q0.01_margin0.4.clusters_p95...</td>\n",
       "      <td>555504</td>\n",
       "      <td>40848</td>\n",
       "      <td>0.069619</td>\n",
       "      <td>0.312882</td>\n",
       "      <td>39697</td>\n",
       "      <td>37302</td>\n",
       "      <td>0.609008</td>\n",
       "      <td>0.948035</td>\n",
       "    </tr>\n",
       "    <tr>\n",
       "      <th>20</th>\n",
       "      <td>sample_embeddings_q0.01_margin0.4.clusters_p99...</td>\n",
       "      <td>912108</td>\n",
       "      <td>43385</td>\n",
       "      <td>0.046401</td>\n",
       "      <td>0.338612</td>\n",
       "      <td>42323</td>\n",
       "      <td>42323</td>\n",
       "      <td>0.999958</td>\n",
       "      <td>1.006916</td>\n",
       "    </tr>\n",
       "    <tr>\n",
       "      <th>21</th>\n",
       "      <td>sample_embeddings_q0.01_margin0.4.clusters_p10...</td>\n",
       "      <td>912144</td>\n",
       "      <td>43272</td>\n",
       "      <td>0.046307</td>\n",
       "      <td>0.338613</td>\n",
       "      <td>42239</td>\n",
       "      <td>42239</td>\n",
       "      <td>0.999998</td>\n",
       "      <td>1.004294</td>\n",
       "    </tr>\n",
       "  </tbody>\n",
       "</table>\n",
       "</div>"
      ],
      "text/plain": [
       "                                              cluster  # clusters  \\\n",
       "0   sample_embeddings_q0.01_margin0.4.clusters_p5....       84212   \n",
       "1   sample_embeddings_q0.01_margin0.4.clusters_p37...      107735   \n",
       "2   sample_embeddings_q0.01_margin0.4.clusters_p48...      122267   \n",
       "3   sample_embeddings_q0.01_margin0.4.clusters_p55...      135184   \n",
       "4   sample_embeddings_q0.01_margin0.4.clusters_p60...      147675   \n",
       "5   sample_embeddings_q0.01_margin0.4.clusters_p64...      160136   \n",
       "6   sample_embeddings_q0.01_margin0.4.clusters_p68...      172618   \n",
       "7   sample_embeddings_q0.01_margin0.4.clusters_p71...      185540   \n",
       "8   sample_embeddings_q0.01_margin0.4.clusters_p73...      198879   \n",
       "9   sample_embeddings_q0.01_margin0.4.clusters_p76...      213284   \n",
       "10  sample_embeddings_q0.01_margin0.4.clusters_p78...      228810   \n",
       "11  sample_embeddings_q0.01_margin0.4.clusters_p80...      245491   \n",
       "12  sample_embeddings_q0.01_margin0.4.clusters_p83...      263893   \n",
       "13  sample_embeddings_q0.01_margin0.4.clusters_p84...      284755   \n",
       "14  sample_embeddings_q0.01_margin0.4.clusters_p86...      308372   \n",
       "15  sample_embeddings_q0.01_margin0.4.clusters_p88...      335743   \n",
       "16  sample_embeddings_q0.01_margin0.4.clusters_p90...      368713   \n",
       "17  sample_embeddings_q0.01_margin0.4.clusters_p92...      409681   \n",
       "18  sample_embeddings_q0.01_margin0.4.clusters_p93...      465853   \n",
       "19  sample_embeddings_q0.01_margin0.4.clusters_p95...      555504   \n",
       "20  sample_embeddings_q0.01_margin0.4.clusters_p99...      912108   \n",
       "21  sample_embeddings_q0.01_margin0.4.clusters_p10...      912144   \n",
       "\n",
       "    # identified consensus  purity_consensus mean  purity_majority mean  \\\n",
       "0                    16885               0.115381              0.225327   \n",
       "1                    19784               0.116706              0.235982   \n",
       "2                    21414               0.117264              0.242959   \n",
       "3                    22982               0.117763              0.248390   \n",
       "4                    24213               0.117286              0.252502   \n",
       "5                    25317               0.116029              0.255932   \n",
       "6                    26325               0.114761              0.259455   \n",
       "7                    27431               0.113376              0.262905   \n",
       "8                    28318               0.111481              0.266094   \n",
       "9                    29458               0.110013              0.269027   \n",
       "10                   30366               0.107741              0.272157   \n",
       "11                   31361               0.105574              0.275290   \n",
       "12                   32375               0.102921              0.278561   \n",
       "13                   33384               0.099928              0.282151   \n",
       "14                   34565               0.097063              0.285784   \n",
       "15                   35542               0.093284              0.289778   \n",
       "16                   36610               0.088994              0.294025   \n",
       "17                   37797               0.084096              0.298628   \n",
       "18                   39248               0.078186              0.304564   \n",
       "19                   40848               0.069619              0.312882   \n",
       "20                   43385               0.046401              0.338612   \n",
       "21                   43272               0.046307              0.338613   \n",
       "\n",
       "    # clusters purity_consensus > 0.0  # clusters purity_consensus == 1.0  \\\n",
       "0                               16618                                2370   \n",
       "1                               19410                                4551   \n",
       "2                               20995                                6075   \n",
       "3                               22521                                7436   \n",
       "4                               23722                                8882   \n",
       "5                               24795                               10203   \n",
       "6                               25787                               11549   \n",
       "7                               26834                               12882   \n",
       "8                               27690                               14221   \n",
       "9                               28782                               15696   \n",
       "10                              29669                               17224   \n",
       "11                              30626                               18862   \n",
       "12                              31588                               20496   \n",
       "13                              32568                               22235   \n",
       "14                              33686                               24254   \n",
       "15                              34644                               26300   \n",
       "16                              35664                               28525   \n",
       "17                              36767                               31022   \n",
       "18                              38155                               33917   \n",
       "19                              39697                               37302   \n",
       "20                              42323                               42323   \n",
       "21                              42239                               42239   \n",
       "\n",
       "      x-axis    y-axis  \n",
       "0   0.092323  0.391882  \n",
       "1   0.118112  0.459164  \n",
       "2   0.134043  0.496994  \n",
       "3   0.148204  0.533386  \n",
       "4   0.161898  0.561956  \n",
       "5   0.175560  0.587579  \n",
       "6   0.189244  0.610973  \n",
       "7   0.203410  0.636642  \n",
       "8   0.218034  0.657228  \n",
       "9   0.233827  0.683686  \n",
       "10  0.250848  0.704760  \n",
       "11  0.269136  0.727853  \n",
       "12  0.289310  0.751387  \n",
       "13  0.312181  0.774804  \n",
       "14  0.338073  0.802214  \n",
       "15  0.368080  0.824889  \n",
       "16  0.404226  0.849676  \n",
       "17  0.449140  0.877225  \n",
       "18  0.510722  0.910901  \n",
       "19  0.609008  0.948035  \n",
       "20  0.999958  1.006916  \n",
       "21  0.999998  1.004294  "
      ]
     },
     "execution_count": 27,
     "metadata": {},
     "output_type": "execute_result"
    }
   ],
   "source": [
    "embeddings_q001_04"
   ]
  },
  {
   "cell_type": "code",
   "execution_count": 32,
   "metadata": {},
   "outputs": [
    {
     "data": {
      "text/html": [
       "<div>\n",
       "<style scoped>\n",
       "    .dataframe tbody tr th:only-of-type {\n",
       "        vertical-align: middle;\n",
       "    }\n",
       "\n",
       "    .dataframe tbody tr th {\n",
       "        vertical-align: top;\n",
       "    }\n",
       "\n",
       "    .dataframe thead th {\n",
       "        text-align: right;\n",
       "    }\n",
       "</style>\n",
       "<table border=\"1\" class=\"dataframe\">\n",
       "  <thead>\n",
       "    <tr style=\"text-align: right;\">\n",
       "      <th></th>\n",
       "      <th>cluster</th>\n",
       "      <th># clusters</th>\n",
       "      <th># identified consensus</th>\n",
       "      <th>purity_consensus mean</th>\n",
       "      <th>purity_majority mean</th>\n",
       "      <th># clusters purity_consensus &gt; 0.0</th>\n",
       "      <th># clusters purity_consensus == 1.0</th>\n",
       "      <th>x-axis</th>\n",
       "      <th>y-axis</th>\n",
       "    </tr>\n",
       "  </thead>\n",
       "  <tbody>\n",
       "    <tr>\n",
       "      <th>0</th>\n",
       "      <td>sample_embeddings.clusters_p5.000000.tsv</td>\n",
       "      <td>82682</td>\n",
       "      <td>16162</td>\n",
       "      <td>0.110819</td>\n",
       "      <td>0.224459</td>\n",
       "      <td>15910</td>\n",
       "      <td>2197</td>\n",
       "      <td>0.090646</td>\n",
       "      <td>0.375102</td>\n",
       "    </tr>\n",
       "    <tr>\n",
       "      <th>1</th>\n",
       "      <td>sample_embeddings.clusters_p37.933100.tsv</td>\n",
       "      <td>104999</td>\n",
       "      <td>18652</td>\n",
       "      <td>0.111387</td>\n",
       "      <td>0.237107</td>\n",
       "      <td>18338</td>\n",
       "      <td>4151</td>\n",
       "      <td>0.115112</td>\n",
       "      <td>0.432892</td>\n",
       "    </tr>\n",
       "    <tr>\n",
       "      <th>2</th>\n",
       "      <td>sample_embeddings.clusters_p48.320900.tsv</td>\n",
       "      <td>120717</td>\n",
       "      <td>20379</td>\n",
       "      <td>0.112101</td>\n",
       "      <td>0.244790</td>\n",
       "      <td>20024</td>\n",
       "      <td>5842</td>\n",
       "      <td>0.132344</td>\n",
       "      <td>0.472973</td>\n",
       "    </tr>\n",
       "    <tr>\n",
       "      <th>3</th>\n",
       "      <td>sample_embeddings.clusters_p55.133800.tsv</td>\n",
       "      <td>135078</td>\n",
       "      <td>21926</td>\n",
       "      <td>0.112095</td>\n",
       "      <td>0.251053</td>\n",
       "      <td>21528</td>\n",
       "      <td>7367</td>\n",
       "      <td>0.148088</td>\n",
       "      <td>0.508877</td>\n",
       "    </tr>\n",
       "    <tr>\n",
       "      <th>4</th>\n",
       "      <td>sample_embeddings.clusters_p60.301700.tsv</td>\n",
       "      <td>149204</td>\n",
       "      <td>23219</td>\n",
       "      <td>0.111036</td>\n",
       "      <td>0.256189</td>\n",
       "      <td>22763</td>\n",
       "      <td>8867</td>\n",
       "      <td>0.163575</td>\n",
       "      <td>0.538886</td>\n",
       "    </tr>\n",
       "    <tr>\n",
       "      <th>5</th>\n",
       "      <td>sample_embeddings.clusters_p64.506800.tsv</td>\n",
       "      <td>163240</td>\n",
       "      <td>24315</td>\n",
       "      <td>0.109483</td>\n",
       "      <td>0.261001</td>\n",
       "      <td>23834</td>\n",
       "      <td>10301</td>\n",
       "      <td>0.178963</td>\n",
       "      <td>0.564323</td>\n",
       "    </tr>\n",
       "    <tr>\n",
       "      <th>6</th>\n",
       "      <td>sample_embeddings.clusters_p68.077300.tsv</td>\n",
       "      <td>177796</td>\n",
       "      <td>25518</td>\n",
       "      <td>0.108145</td>\n",
       "      <td>0.265159</td>\n",
       "      <td>24995</td>\n",
       "      <td>11792</td>\n",
       "      <td>0.194921</td>\n",
       "      <td>0.592244</td>\n",
       "    </tr>\n",
       "    <tr>\n",
       "      <th>7</th>\n",
       "      <td>sample_embeddings.clusters_p71.198300.tsv</td>\n",
       "      <td>193041</td>\n",
       "      <td>26383</td>\n",
       "      <td>0.105286</td>\n",
       "      <td>0.268492</td>\n",
       "      <td>25824</td>\n",
       "      <td>13117</td>\n",
       "      <td>0.211634</td>\n",
       "      <td>0.612319</td>\n",
       "    </tr>\n",
       "    <tr>\n",
       "      <th>8</th>\n",
       "      <td>sample_embeddings.clusters_p73.983100.tsv</td>\n",
       "      <td>208993</td>\n",
       "      <td>27335</td>\n",
       "      <td>0.103037</td>\n",
       "      <td>0.272134</td>\n",
       "      <td>26758</td>\n",
       "      <td>14556</td>\n",
       "      <td>0.229122</td>\n",
       "      <td>0.634414</td>\n",
       "    </tr>\n",
       "    <tr>\n",
       "      <th>9</th>\n",
       "      <td>sample_embeddings.clusters_p76.505100.tsv</td>\n",
       "      <td>226083</td>\n",
       "      <td>28454</td>\n",
       "      <td>0.100999</td>\n",
       "      <td>0.275762</td>\n",
       "      <td>27845</td>\n",
       "      <td>16052</td>\n",
       "      <td>0.247858</td>\n",
       "      <td>0.660385</td>\n",
       "    </tr>\n",
       "    <tr>\n",
       "      <th>10</th>\n",
       "      <td>sample_embeddings.clusters_p78.831000.tsv</td>\n",
       "      <td>244769</td>\n",
       "      <td>29600</td>\n",
       "      <td>0.098622</td>\n",
       "      <td>0.279073</td>\n",
       "      <td>28929</td>\n",
       "      <td>17603</td>\n",
       "      <td>0.268344</td>\n",
       "      <td>0.686982</td>\n",
       "    </tr>\n",
       "    <tr>\n",
       "      <th>11</th>\n",
       "      <td>sample_embeddings.clusters_p80.992000.tsv</td>\n",
       "      <td>265113</td>\n",
       "      <td>30623</td>\n",
       "      <td>0.096097</td>\n",
       "      <td>0.282696</td>\n",
       "      <td>29916</td>\n",
       "      <td>19317</td>\n",
       "      <td>0.290648</td>\n",
       "      <td>0.710725</td>\n",
       "    </tr>\n",
       "    <tr>\n",
       "      <th>12</th>\n",
       "      <td>sample_embeddings.clusters_p83.022400.tsv</td>\n",
       "      <td>287511</td>\n",
       "      <td>31887</td>\n",
       "      <td>0.093797</td>\n",
       "      <td>0.286434</td>\n",
       "      <td>31139</td>\n",
       "      <td>21142</td>\n",
       "      <td>0.315203</td>\n",
       "      <td>0.740061</td>\n",
       "    </tr>\n",
       "    <tr>\n",
       "      <th>13</th>\n",
       "      <td>sample_embeddings.clusters_p84.946300.tsv</td>\n",
       "      <td>312437</td>\n",
       "      <td>32740</td>\n",
       "      <td>0.090271</td>\n",
       "      <td>0.289767</td>\n",
       "      <td>31971</td>\n",
       "      <td>22868</td>\n",
       "      <td>0.342530</td>\n",
       "      <td>0.759858</td>\n",
       "    </tr>\n",
       "    <tr>\n",
       "      <th>14</th>\n",
       "      <td>sample_embeddings.clusters_p86.787700.tsv</td>\n",
       "      <td>341151</td>\n",
       "      <td>33998</td>\n",
       "      <td>0.087045</td>\n",
       "      <td>0.293309</td>\n",
       "      <td>33157</td>\n",
       "      <td>24793</td>\n",
       "      <td>0.374009</td>\n",
       "      <td>0.789055</td>\n",
       "    </tr>\n",
       "    <tr>\n",
       "      <th>15</th>\n",
       "      <td>sample_embeddings.clusters_p88.570400.tsv</td>\n",
       "      <td>374734</td>\n",
       "      <td>35202</td>\n",
       "      <td>0.083367</td>\n",
       "      <td>0.297415</td>\n",
       "      <td>34283</td>\n",
       "      <td>26906</td>\n",
       "      <td>0.410827</td>\n",
       "      <td>0.816998</td>\n",
       "    </tr>\n",
       "    <tr>\n",
       "      <th>16</th>\n",
       "      <td>sample_embeddings.clusters_p90.317000.tsv</td>\n",
       "      <td>414578</td>\n",
       "      <td>36534</td>\n",
       "      <td>0.079481</td>\n",
       "      <td>0.302011</td>\n",
       "      <td>35572</td>\n",
       "      <td>29219</td>\n",
       "      <td>0.454508</td>\n",
       "      <td>0.847912</td>\n",
       "    </tr>\n",
       "    <tr>\n",
       "      <th>17</th>\n",
       "      <td>sample_embeddings.clusters_p92.064200.tsv</td>\n",
       "      <td>463847</td>\n",
       "      <td>37819</td>\n",
       "      <td>0.074742</td>\n",
       "      <td>0.307058</td>\n",
       "      <td>36762</td>\n",
       "      <td>31712</td>\n",
       "      <td>0.508523</td>\n",
       "      <td>0.877736</td>\n",
       "    </tr>\n",
       "    <tr>\n",
       "      <th>18</th>\n",
       "      <td>sample_embeddings.clusters_p93.873000.tsv</td>\n",
       "      <td>530213</td>\n",
       "      <td>39422</td>\n",
       "      <td>0.069438</td>\n",
       "      <td>0.313092</td>\n",
       "      <td>38315</td>\n",
       "      <td>34754</td>\n",
       "      <td>0.581281</td>\n",
       "      <td>0.914940</td>\n",
       "    </tr>\n",
       "    <tr>\n",
       "      <th>19</th>\n",
       "      <td>sample_embeddings.clusters_p95.897800.tsv</td>\n",
       "      <td>630734</td>\n",
       "      <td>41290</td>\n",
       "      <td>0.062310</td>\n",
       "      <td>0.321552</td>\n",
       "      <td>40104</td>\n",
       "      <td>38243</td>\n",
       "      <td>0.691484</td>\n",
       "      <td>0.958294</td>\n",
       "    </tr>\n",
       "    <tr>\n",
       "      <th>20</th>\n",
       "      <td>sample_embeddings.clusters_p99.994800.tsv</td>\n",
       "      <td>912146</td>\n",
       "      <td>43307</td>\n",
       "      <td>0.046342</td>\n",
       "      <td>0.338612</td>\n",
       "      <td>42271</td>\n",
       "      <td>42271</td>\n",
       "      <td>1.000000</td>\n",
       "      <td>1.005106</td>\n",
       "    </tr>\n",
       "    <tr>\n",
       "      <th>21</th>\n",
       "      <td>sample_embeddings.clusters_p100.000000.tsv</td>\n",
       "      <td>912146</td>\n",
       "      <td>43307</td>\n",
       "      <td>0.046342</td>\n",
       "      <td>0.338612</td>\n",
       "      <td>42271</td>\n",
       "      <td>42271</td>\n",
       "      <td>1.000000</td>\n",
       "      <td>1.005106</td>\n",
       "    </tr>\n",
       "  </tbody>\n",
       "</table>\n",
       "</div>"
      ],
      "text/plain": [
       "                                       cluster  # clusters  \\\n",
       "0     sample_embeddings.clusters_p5.000000.tsv       82682   \n",
       "1    sample_embeddings.clusters_p37.933100.tsv      104999   \n",
       "2    sample_embeddings.clusters_p48.320900.tsv      120717   \n",
       "3    sample_embeddings.clusters_p55.133800.tsv      135078   \n",
       "4    sample_embeddings.clusters_p60.301700.tsv      149204   \n",
       "5    sample_embeddings.clusters_p64.506800.tsv      163240   \n",
       "6    sample_embeddings.clusters_p68.077300.tsv      177796   \n",
       "7    sample_embeddings.clusters_p71.198300.tsv      193041   \n",
       "8    sample_embeddings.clusters_p73.983100.tsv      208993   \n",
       "9    sample_embeddings.clusters_p76.505100.tsv      226083   \n",
       "10   sample_embeddings.clusters_p78.831000.tsv      244769   \n",
       "11   sample_embeddings.clusters_p80.992000.tsv      265113   \n",
       "12   sample_embeddings.clusters_p83.022400.tsv      287511   \n",
       "13   sample_embeddings.clusters_p84.946300.tsv      312437   \n",
       "14   sample_embeddings.clusters_p86.787700.tsv      341151   \n",
       "15   sample_embeddings.clusters_p88.570400.tsv      374734   \n",
       "16   sample_embeddings.clusters_p90.317000.tsv      414578   \n",
       "17   sample_embeddings.clusters_p92.064200.tsv      463847   \n",
       "18   sample_embeddings.clusters_p93.873000.tsv      530213   \n",
       "19   sample_embeddings.clusters_p95.897800.tsv      630734   \n",
       "20   sample_embeddings.clusters_p99.994800.tsv      912146   \n",
       "21  sample_embeddings.clusters_p100.000000.tsv      912146   \n",
       "\n",
       "    # identified consensus  purity_consensus mean  purity_majority mean  \\\n",
       "0                    16162               0.110819              0.224459   \n",
       "1                    18652               0.111387              0.237107   \n",
       "2                    20379               0.112101              0.244790   \n",
       "3                    21926               0.112095              0.251053   \n",
       "4                    23219               0.111036              0.256189   \n",
       "5                    24315               0.109483              0.261001   \n",
       "6                    25518               0.108145              0.265159   \n",
       "7                    26383               0.105286              0.268492   \n",
       "8                    27335               0.103037              0.272134   \n",
       "9                    28454               0.100999              0.275762   \n",
       "10                   29600               0.098622              0.279073   \n",
       "11                   30623               0.096097              0.282696   \n",
       "12                   31887               0.093797              0.286434   \n",
       "13                   32740               0.090271              0.289767   \n",
       "14                   33998               0.087045              0.293309   \n",
       "15                   35202               0.083367              0.297415   \n",
       "16                   36534               0.079481              0.302011   \n",
       "17                   37819               0.074742              0.307058   \n",
       "18                   39422               0.069438              0.313092   \n",
       "19                   41290               0.062310              0.321552   \n",
       "20                   43307               0.046342              0.338612   \n",
       "21                   43307               0.046342              0.338612   \n",
       "\n",
       "    # clusters purity_consensus > 0.0  # clusters purity_consensus == 1.0  \\\n",
       "0                               15910                                2197   \n",
       "1                               18338                                4151   \n",
       "2                               20024                                5842   \n",
       "3                               21528                                7367   \n",
       "4                               22763                                8867   \n",
       "5                               23834                               10301   \n",
       "6                               24995                               11792   \n",
       "7                               25824                               13117   \n",
       "8                               26758                               14556   \n",
       "9                               27845                               16052   \n",
       "10                              28929                               17603   \n",
       "11                              29916                               19317   \n",
       "12                              31139                               21142   \n",
       "13                              31971                               22868   \n",
       "14                              33157                               24793   \n",
       "15                              34283                               26906   \n",
       "16                              35572                               29219   \n",
       "17                              36762                               31712   \n",
       "18                              38315                               34754   \n",
       "19                              40104                               38243   \n",
       "20                              42271                               42271   \n",
       "21                              42271                               42271   \n",
       "\n",
       "      x-axis    y-axis  \n",
       "0   0.090646  0.375102  \n",
       "1   0.115112  0.432892  \n",
       "2   0.132344  0.472973  \n",
       "3   0.148088  0.508877  \n",
       "4   0.163575  0.538886  \n",
       "5   0.178963  0.564323  \n",
       "6   0.194921  0.592244  \n",
       "7   0.211634  0.612319  \n",
       "8   0.229122  0.634414  \n",
       "9   0.247858  0.660385  \n",
       "10  0.268344  0.686982  \n",
       "11  0.290648  0.710725  \n",
       "12  0.315203  0.740061  \n",
       "13  0.342530  0.759858  \n",
       "14  0.374009  0.789055  \n",
       "15  0.410827  0.816998  \n",
       "16  0.454508  0.847912  \n",
       "17  0.508523  0.877736  \n",
       "18  0.581281  0.914940  \n",
       "19  0.691484  0.958294  \n",
       "20  1.000000  1.005106  \n",
       "21  1.000000  1.005106  "
      ]
     },
     "execution_count": 32,
     "metadata": {},
     "output_type": "execute_result"
    }
   ],
   "source": [
    "embeddings"
   ]
  },
  {
   "cell_type": "code",
   "execution_count": 33,
   "metadata": {},
   "outputs": [
    {
     "data": {
      "application/vnd.plotly.v1+json": {
       "config": {
        "plotlyServerURL": "https://plot.ly"
       },
       "data": [
        {
         "mode": "lines",
         "name": "maracluster",
         "type": "scatter",
         "x": [
          0.22496837129143799,
          0.29595371793550596,
          0.36291010430347775,
          0.4471521006505538,
          0.5537490708724261,
          0.6761505285338093,
          0.7973591946903237,
          0.8958949554128396,
          0.96060499086769,
          0.9900026969366746,
          0.9979213853922508,
          0.9996447937062707
         ],
         "y": [
          0.8887367419407246,
          0.9822684336342749,
          0.9968203866595493,
          0.999094854596514,
          0.999164481166013,
          1.0046649801564278,
          1.0084248149093693,
          1.0058486318379094,
          1.0032956576229488,
          1.0055469167034141,
          1.004966695290923,
          1.0064288532504004
         ]
        },
        {
         "mode": "lines",
         "name": "embeddings",
         "type": "scatter",
         "x": [
          0.09064557647569578,
          0.11511205442988294,
          0.1323439449386392,
          0.14808813501347373,
          0.16357469089378235,
          0.17896257835916618,
          0.1949205499996711,
          0.21163388317221146,
          0.22912231155977222,
          0.24785834723827108,
          0.2683441028081031,
          0.29064754984399427,
          0.31520282937161376,
          0.3425295950428988,
          0.37400920466679677,
          0.4108267755381266,
          0.45450837914105857,
          0.5085227584180603,
          0.5812808475836105,
          0.6914836002131238,
          1,
          1
         ],
         "y": [
          0.37510153874718594,
          0.4328915914312902,
          0.47297328660616894,
          0.5088773876111125,
          0.5388864390651472,
          0.564323345788753,
          0.5922436001578202,
          0.612319261030009,
          0.6344140924176666,
          0.6603848028407641,
          0.6869821523893518,
          0.7107248125884837,
          0.740060807204029,
          0.7598579617982222,
          0.7890547032747697,
          0.8169981665003365,
          0.8479123633578574,
          0.8777357439598951,
          0.9149395409288185,
          0.9582936848701464,
          1.005105948429921,
          1.005105948429921
         ]
        },
        {
         "mode": "lines",
         "name": "embeddings q < 0.01",
         "type": "scatter",
         "x": [
          0.08449634159443774,
          0.10348672252029828,
          0.12028118305622126,
          0.13645512889383937,
          0.15220260791583803,
          0.16793693114918007,
          0.1838916138425208,
          0.20047448544421617,
          0.21775680647615622,
          0.23603019692022986,
          0.2554437557145457,
          0.27659387861153806,
          0.2997721855930958,
          0.3257055339824984,
          0.3546734842886994,
          0.38865050112591626,
          0.4284522433908607,
          0.47808026346659416,
          0.5445729082844194,
          0.6475805408344717
         ],
         "y": [
          0.38686842899250357,
          0.4553345556664423,
          0.513031772924548,
          0.5631861118202706,
          0.6014110984751782,
          0.6414231670805579,
          0.6738923573235547,
          0.7065936361315478,
          0.7399447629215309,
          0.7642212268201546,
          0.794578411121684,
          0.8225682920602502,
          0.8483069139183512,
          0.8700768213150138,
          0.891034418734189,
          0.9112725416018753,
          0.9345046069580152,
          0.9543945969782068,
          0.9736347390164086,
          0.9905539954046464
         ]
        },
        {
         "mode": "lines",
         "name": "embeddings q < 0.001",
         "type": "scatter",
         "x": [
          0.08678654513641457,
          0.10699383651301436,
          0.12221727662019019,
          0.13631370416578048,
          0.1500527327861987,
          0.16384548087696488,
          0.1780197468387736,
          0.1926950290852561,
          0.20817281443979363,
          0.22473047077989708,
          0.24242171757591438,
          0.26187364742047875,
          0.28330771608931027,
          0.30711092303205845,
          0.3345100455409551,
          0.36631635724982625,
          0.40497793116452846,
          0.4533550550021597,
          0.5192381482788939,
          0.6241062286081395,
          0.9999945184213931
         ],
         "y": [
          0.3812518857195906,
          0.4528279991644812,
          0.4965766936663031,
          0.5342678766217188,
          0.5679671362591965,
          0.6031285538561515,
          0.6336017824401792,
          0.6663030612481723,
          0.6912061642722863,
          0.7167823241348898,
          0.7359064218905934,
          0.7640123471116578,
          0.7900294752477546,
          0.8129830343258988,
          0.8387912827534988,
          0.8646923666070973,
          0.8906630770301948,
          0.915287673776313,
          0.9457144846473414,
          0.9726599670434237,
          1.0064752709633997
         ]
        },
        {
         "mode": "lines",
         "name": "embeddings q < 0.01 margin 0.4",
         "type": "scatter",
         "x": [
          0.09232293952941743,
          0.11811157424359697,
          0.1340432343067886,
          0.14820434447994071,
          0.16189842415578207,
          0.17555961435998185,
          0.18924382719433072,
          0.20341041894608977,
          0.21803417435366707,
          0.2338266023202426,
          0.25084800021049264,
          0.2691356427589443,
          0.2893100446639025,
          0.312181383243472,
          0.33807307163546185,
          0.36808032924553746,
          0.4042258585796572,
          0.44913972105342787,
          0.510721967755162,
          0.6090077684932017,
          0.9999583400025873,
          0.9999978073685573
         ],
         "y": [
          0.39188154199642583,
          0.459164016988883,
          0.4969944530832966,
          0.5333859400747325,
          0.5619560424257897,
          0.5875786200013925,
          0.6109731473530299,
          0.636642142641632,
          0.657228398356813,
          0.6836864947664029,
          0.7047601364680762,
          0.7278529486852183,
          0.7513867291758535,
          0.7748044653839905,
          0.8022141249100657,
          0.8248891777102142,
          0.84967623645183,
          0.877225149116903,
          0.910901199897881,
          0.9480353702973054,
          1.0069162392368929,
          1.0042936384524335
         ]
        }
       ],
       "layout": {
        "template": {
         "data": {
          "bar": [
           {
            "error_x": {
             "color": "#2a3f5f"
            },
            "error_y": {
             "color": "#2a3f5f"
            },
            "marker": {
             "line": {
              "color": "#E5ECF6",
              "width": 0.5
             }
            },
            "type": "bar"
           }
          ],
          "barpolar": [
           {
            "marker": {
             "line": {
              "color": "#E5ECF6",
              "width": 0.5
             }
            },
            "type": "barpolar"
           }
          ],
          "carpet": [
           {
            "aaxis": {
             "endlinecolor": "#2a3f5f",
             "gridcolor": "white",
             "linecolor": "white",
             "minorgridcolor": "white",
             "startlinecolor": "#2a3f5f"
            },
            "baxis": {
             "endlinecolor": "#2a3f5f",
             "gridcolor": "white",
             "linecolor": "white",
             "minorgridcolor": "white",
             "startlinecolor": "#2a3f5f"
            },
            "type": "carpet"
           }
          ],
          "choropleth": [
           {
            "colorbar": {
             "outlinewidth": 0,
             "ticks": ""
            },
            "type": "choropleth"
           }
          ],
          "contour": [
           {
            "colorbar": {
             "outlinewidth": 0,
             "ticks": ""
            },
            "colorscale": [
             [
              0,
              "#0d0887"
             ],
             [
              0.1111111111111111,
              "#46039f"
             ],
             [
              0.2222222222222222,
              "#7201a8"
             ],
             [
              0.3333333333333333,
              "#9c179e"
             ],
             [
              0.4444444444444444,
              "#bd3786"
             ],
             [
              0.5555555555555556,
              "#d8576b"
             ],
             [
              0.6666666666666666,
              "#ed7953"
             ],
             [
              0.7777777777777778,
              "#fb9f3a"
             ],
             [
              0.8888888888888888,
              "#fdca26"
             ],
             [
              1,
              "#f0f921"
             ]
            ],
            "type": "contour"
           }
          ],
          "contourcarpet": [
           {
            "colorbar": {
             "outlinewidth": 0,
             "ticks": ""
            },
            "type": "contourcarpet"
           }
          ],
          "heatmap": [
           {
            "colorbar": {
             "outlinewidth": 0,
             "ticks": ""
            },
            "colorscale": [
             [
              0,
              "#0d0887"
             ],
             [
              0.1111111111111111,
              "#46039f"
             ],
             [
              0.2222222222222222,
              "#7201a8"
             ],
             [
              0.3333333333333333,
              "#9c179e"
             ],
             [
              0.4444444444444444,
              "#bd3786"
             ],
             [
              0.5555555555555556,
              "#d8576b"
             ],
             [
              0.6666666666666666,
              "#ed7953"
             ],
             [
              0.7777777777777778,
              "#fb9f3a"
             ],
             [
              0.8888888888888888,
              "#fdca26"
             ],
             [
              1,
              "#f0f921"
             ]
            ],
            "type": "heatmap"
           }
          ],
          "heatmapgl": [
           {
            "colorbar": {
             "outlinewidth": 0,
             "ticks": ""
            },
            "colorscale": [
             [
              0,
              "#0d0887"
             ],
             [
              0.1111111111111111,
              "#46039f"
             ],
             [
              0.2222222222222222,
              "#7201a8"
             ],
             [
              0.3333333333333333,
              "#9c179e"
             ],
             [
              0.4444444444444444,
              "#bd3786"
             ],
             [
              0.5555555555555556,
              "#d8576b"
             ],
             [
              0.6666666666666666,
              "#ed7953"
             ],
             [
              0.7777777777777778,
              "#fb9f3a"
             ],
             [
              0.8888888888888888,
              "#fdca26"
             ],
             [
              1,
              "#f0f921"
             ]
            ],
            "type": "heatmapgl"
           }
          ],
          "histogram": [
           {
            "marker": {
             "colorbar": {
              "outlinewidth": 0,
              "ticks": ""
             }
            },
            "type": "histogram"
           }
          ],
          "histogram2d": [
           {
            "colorbar": {
             "outlinewidth": 0,
             "ticks": ""
            },
            "colorscale": [
             [
              0,
              "#0d0887"
             ],
             [
              0.1111111111111111,
              "#46039f"
             ],
             [
              0.2222222222222222,
              "#7201a8"
             ],
             [
              0.3333333333333333,
              "#9c179e"
             ],
             [
              0.4444444444444444,
              "#bd3786"
             ],
             [
              0.5555555555555556,
              "#d8576b"
             ],
             [
              0.6666666666666666,
              "#ed7953"
             ],
             [
              0.7777777777777778,
              "#fb9f3a"
             ],
             [
              0.8888888888888888,
              "#fdca26"
             ],
             [
              1,
              "#f0f921"
             ]
            ],
            "type": "histogram2d"
           }
          ],
          "histogram2dcontour": [
           {
            "colorbar": {
             "outlinewidth": 0,
             "ticks": ""
            },
            "colorscale": [
             [
              0,
              "#0d0887"
             ],
             [
              0.1111111111111111,
              "#46039f"
             ],
             [
              0.2222222222222222,
              "#7201a8"
             ],
             [
              0.3333333333333333,
              "#9c179e"
             ],
             [
              0.4444444444444444,
              "#bd3786"
             ],
             [
              0.5555555555555556,
              "#d8576b"
             ],
             [
              0.6666666666666666,
              "#ed7953"
             ],
             [
              0.7777777777777778,
              "#fb9f3a"
             ],
             [
              0.8888888888888888,
              "#fdca26"
             ],
             [
              1,
              "#f0f921"
             ]
            ],
            "type": "histogram2dcontour"
           }
          ],
          "mesh3d": [
           {
            "colorbar": {
             "outlinewidth": 0,
             "ticks": ""
            },
            "type": "mesh3d"
           }
          ],
          "parcoords": [
           {
            "line": {
             "colorbar": {
              "outlinewidth": 0,
              "ticks": ""
             }
            },
            "type": "parcoords"
           }
          ],
          "pie": [
           {
            "automargin": true,
            "type": "pie"
           }
          ],
          "scatter": [
           {
            "marker": {
             "colorbar": {
              "outlinewidth": 0,
              "ticks": ""
             }
            },
            "type": "scatter"
           }
          ],
          "scatter3d": [
           {
            "line": {
             "colorbar": {
              "outlinewidth": 0,
              "ticks": ""
             }
            },
            "marker": {
             "colorbar": {
              "outlinewidth": 0,
              "ticks": ""
             }
            },
            "type": "scatter3d"
           }
          ],
          "scattercarpet": [
           {
            "marker": {
             "colorbar": {
              "outlinewidth": 0,
              "ticks": ""
             }
            },
            "type": "scattercarpet"
           }
          ],
          "scattergeo": [
           {
            "marker": {
             "colorbar": {
              "outlinewidth": 0,
              "ticks": ""
             }
            },
            "type": "scattergeo"
           }
          ],
          "scattergl": [
           {
            "marker": {
             "colorbar": {
              "outlinewidth": 0,
              "ticks": ""
             }
            },
            "type": "scattergl"
           }
          ],
          "scattermapbox": [
           {
            "marker": {
             "colorbar": {
              "outlinewidth": 0,
              "ticks": ""
             }
            },
            "type": "scattermapbox"
           }
          ],
          "scatterpolar": [
           {
            "marker": {
             "colorbar": {
              "outlinewidth": 0,
              "ticks": ""
             }
            },
            "type": "scatterpolar"
           }
          ],
          "scatterpolargl": [
           {
            "marker": {
             "colorbar": {
              "outlinewidth": 0,
              "ticks": ""
             }
            },
            "type": "scatterpolargl"
           }
          ],
          "scatterternary": [
           {
            "marker": {
             "colorbar": {
              "outlinewidth": 0,
              "ticks": ""
             }
            },
            "type": "scatterternary"
           }
          ],
          "surface": [
           {
            "colorbar": {
             "outlinewidth": 0,
             "ticks": ""
            },
            "colorscale": [
             [
              0,
              "#0d0887"
             ],
             [
              0.1111111111111111,
              "#46039f"
             ],
             [
              0.2222222222222222,
              "#7201a8"
             ],
             [
              0.3333333333333333,
              "#9c179e"
             ],
             [
              0.4444444444444444,
              "#bd3786"
             ],
             [
              0.5555555555555556,
              "#d8576b"
             ],
             [
              0.6666666666666666,
              "#ed7953"
             ],
             [
              0.7777777777777778,
              "#fb9f3a"
             ],
             [
              0.8888888888888888,
              "#fdca26"
             ],
             [
              1,
              "#f0f921"
             ]
            ],
            "type": "surface"
           }
          ],
          "table": [
           {
            "cells": {
             "fill": {
              "color": "#EBF0F8"
             },
             "line": {
              "color": "white"
             }
            },
            "header": {
             "fill": {
              "color": "#C8D4E3"
             },
             "line": {
              "color": "white"
             }
            },
            "type": "table"
           }
          ]
         },
         "layout": {
          "annotationdefaults": {
           "arrowcolor": "#2a3f5f",
           "arrowhead": 0,
           "arrowwidth": 1
          },
          "coloraxis": {
           "colorbar": {
            "outlinewidth": 0,
            "ticks": ""
           }
          },
          "colorscale": {
           "diverging": [
            [
             0,
             "#8e0152"
            ],
            [
             0.1,
             "#c51b7d"
            ],
            [
             0.2,
             "#de77ae"
            ],
            [
             0.3,
             "#f1b6da"
            ],
            [
             0.4,
             "#fde0ef"
            ],
            [
             0.5,
             "#f7f7f7"
            ],
            [
             0.6,
             "#e6f5d0"
            ],
            [
             0.7,
             "#b8e186"
            ],
            [
             0.8,
             "#7fbc41"
            ],
            [
             0.9,
             "#4d9221"
            ],
            [
             1,
             "#276419"
            ]
           ],
           "sequential": [
            [
             0,
             "#0d0887"
            ],
            [
             0.1111111111111111,
             "#46039f"
            ],
            [
             0.2222222222222222,
             "#7201a8"
            ],
            [
             0.3333333333333333,
             "#9c179e"
            ],
            [
             0.4444444444444444,
             "#bd3786"
            ],
            [
             0.5555555555555556,
             "#d8576b"
            ],
            [
             0.6666666666666666,
             "#ed7953"
            ],
            [
             0.7777777777777778,
             "#fb9f3a"
            ],
            [
             0.8888888888888888,
             "#fdca26"
            ],
            [
             1,
             "#f0f921"
            ]
           ],
           "sequentialminus": [
            [
             0,
             "#0d0887"
            ],
            [
             0.1111111111111111,
             "#46039f"
            ],
            [
             0.2222222222222222,
             "#7201a8"
            ],
            [
             0.3333333333333333,
             "#9c179e"
            ],
            [
             0.4444444444444444,
             "#bd3786"
            ],
            [
             0.5555555555555556,
             "#d8576b"
            ],
            [
             0.6666666666666666,
             "#ed7953"
            ],
            [
             0.7777777777777778,
             "#fb9f3a"
            ],
            [
             0.8888888888888888,
             "#fdca26"
            ],
            [
             1,
             "#f0f921"
            ]
           ]
          },
          "colorway": [
           "#636efa",
           "#EF553B",
           "#00cc96",
           "#ab63fa",
           "#FFA15A",
           "#19d3f3",
           "#FF6692",
           "#B6E880",
           "#FF97FF",
           "#FECB52"
          ],
          "font": {
           "color": "#2a3f5f"
          },
          "geo": {
           "bgcolor": "white",
           "lakecolor": "white",
           "landcolor": "#E5ECF6",
           "showlakes": true,
           "showland": true,
           "subunitcolor": "white"
          },
          "hoverlabel": {
           "align": "left"
          },
          "hovermode": "closest",
          "mapbox": {
           "style": "light"
          },
          "paper_bgcolor": "white",
          "plot_bgcolor": "#E5ECF6",
          "polar": {
           "angularaxis": {
            "gridcolor": "white",
            "linecolor": "white",
            "ticks": ""
           },
           "bgcolor": "#E5ECF6",
           "radialaxis": {
            "gridcolor": "white",
            "linecolor": "white",
            "ticks": ""
           }
          },
          "scene": {
           "xaxis": {
            "backgroundcolor": "#E5ECF6",
            "gridcolor": "white",
            "gridwidth": 2,
            "linecolor": "white",
            "showbackground": true,
            "ticks": "",
            "zerolinecolor": "white"
           },
           "yaxis": {
            "backgroundcolor": "#E5ECF6",
            "gridcolor": "white",
            "gridwidth": 2,
            "linecolor": "white",
            "showbackground": true,
            "ticks": "",
            "zerolinecolor": "white"
           },
           "zaxis": {
            "backgroundcolor": "#E5ECF6",
            "gridcolor": "white",
            "gridwidth": 2,
            "linecolor": "white",
            "showbackground": true,
            "ticks": "",
            "zerolinecolor": "white"
           }
          },
          "shapedefaults": {
           "line": {
            "color": "#2a3f5f"
           }
          },
          "ternary": {
           "aaxis": {
            "gridcolor": "white",
            "linecolor": "white",
            "ticks": ""
           },
           "baxis": {
            "gridcolor": "white",
            "linecolor": "white",
            "ticks": ""
           },
           "bgcolor": "#E5ECF6",
           "caxis": {
            "gridcolor": "white",
            "linecolor": "white",
            "ticks": ""
           }
          },
          "title": {
           "x": 0.05
          },
          "xaxis": {
           "automargin": true,
           "gridcolor": "white",
           "linecolor": "white",
           "ticks": "",
           "title": {
            "standoff": 15
           },
           "zerolinecolor": "white",
           "zerolinewidth": 2
          },
          "yaxis": {
           "automargin": true,
           "gridcolor": "white",
           "linecolor": "white",
           "ticks": "",
           "title": {
            "standoff": 15
           },
           "zerolinecolor": "white",
           "zerolinewidth": 2
          }
         }
        },
        "xaxis": {
         "title": {
          "text": "<b>Proportion of spectra remaining</b><br>(num of clusters) / (num of spectra)"
         }
        },
        "yaxis": {
         "title": {
          "text": "<b>Retainment of identified peptides</b><br>(identified clusters) / (total spectra identified)"
         }
        }
       }
      },
      "text/html": [
       "<div>\n",
       "        \n",
       "        \n",
       "            <div id=\"05d9e203-fb99-4ca8-bb66-0c3bfc6e46b3\" class=\"plotly-graph-div\" style=\"height:525px; width:100%;\"></div>\n",
       "            <script type=\"text/javascript\">\n",
       "                require([\"plotly\"], function(Plotly) {\n",
       "                    window.PLOTLYENV=window.PLOTLYENV || {};\n",
       "                    \n",
       "                if (document.getElementById(\"05d9e203-fb99-4ca8-bb66-0c3bfc6e46b3\")) {\n",
       "                    Plotly.newPlot(\n",
       "                        '05d9e203-fb99-4ca8-bb66-0c3bfc6e46b3',\n",
       "                        [{\"mode\": \"lines\", \"name\": \"maracluster\", \"type\": \"scatter\", \"x\": [0.22496837129143799, 0.29595371793550596, 0.36291010430347775, 0.4471521006505538, 0.5537490708724261, 0.6761505285338093, 0.7973591946903237, 0.8958949554128396, 0.96060499086769, 0.9900026969366746, 0.9979213853922508, 0.9996447937062707], \"y\": [0.8887367419407246, 0.9822684336342749, 0.9968203866595493, 0.999094854596514, 0.999164481166013, 1.0046649801564278, 1.0084248149093693, 1.0058486318379094, 1.0032956576229488, 1.0055469167034141, 1.004966695290923, 1.0064288532504004]}, {\"mode\": \"lines\", \"name\": \"embeddings\", \"type\": \"scatter\", \"x\": [0.09064557647569578, 0.11511205442988294, 0.1323439449386392, 0.14808813501347373, 0.16357469089378235, 0.17896257835916618, 0.1949205499996711, 0.21163388317221146, 0.22912231155977222, 0.24785834723827108, 0.2683441028081031, 0.29064754984399427, 0.31520282937161376, 0.3425295950428988, 0.37400920466679677, 0.4108267755381266, 0.45450837914105857, 0.5085227584180603, 0.5812808475836105, 0.6914836002131238, 1.0, 1.0], \"y\": [0.37510153874718594, 0.4328915914312902, 0.47297328660616894, 0.5088773876111125, 0.5388864390651472, 0.564323345788753, 0.5922436001578202, 0.612319261030009, 0.6344140924176666, 0.6603848028407641, 0.6869821523893518, 0.7107248125884837, 0.740060807204029, 0.7598579617982222, 0.7890547032747697, 0.8169981665003365, 0.8479123633578574, 0.8777357439598951, 0.9149395409288185, 0.9582936848701464, 1.005105948429921, 1.005105948429921]}, {\"mode\": \"lines\", \"name\": \"embeddings q < 0.01\", \"type\": \"scatter\", \"x\": [0.08449634159443774, 0.10348672252029828, 0.12028118305622126, 0.13645512889383937, 0.15220260791583803, 0.16793693114918007, 0.1838916138425208, 0.20047448544421617, 0.21775680647615622, 0.23603019692022986, 0.2554437557145457, 0.27659387861153806, 0.2997721855930958, 0.3257055339824984, 0.3546734842886994, 0.38865050112591626, 0.4284522433908607, 0.47808026346659416, 0.5445729082844194, 0.6475805408344717], \"y\": [0.38686842899250357, 0.4553345556664423, 0.513031772924548, 0.5631861118202706, 0.6014110984751782, 0.6414231670805579, 0.6738923573235547, 0.7065936361315478, 0.7399447629215309, 0.7642212268201546, 0.794578411121684, 0.8225682920602502, 0.8483069139183512, 0.8700768213150138, 0.891034418734189, 0.9112725416018753, 0.9345046069580152, 0.9543945969782068, 0.9736347390164086, 0.9905539954046464]}, {\"mode\": \"lines\", \"name\": \"embeddings q < 0.001\", \"type\": \"scatter\", \"x\": [0.08678654513641457, 0.10699383651301436, 0.12221727662019019, 0.13631370416578048, 0.1500527327861987, 0.16384548087696488, 0.1780197468387736, 0.1926950290852561, 0.20817281443979363, 0.22473047077989708, 0.24242171757591438, 0.26187364742047875, 0.28330771608931027, 0.30711092303205845, 0.3345100455409551, 0.36631635724982625, 0.40497793116452846, 0.4533550550021597, 0.5192381482788939, 0.6241062286081395, 0.9999945184213931], \"y\": [0.3812518857195906, 0.4528279991644812, 0.4965766936663031, 0.5342678766217188, 0.5679671362591965, 0.6031285538561515, 0.6336017824401792, 0.6663030612481723, 0.6912061642722863, 0.7167823241348898, 0.7359064218905934, 0.7640123471116578, 0.7900294752477546, 0.8129830343258988, 0.8387912827534988, 0.8646923666070973, 0.8906630770301948, 0.915287673776313, 0.9457144846473414, 0.9726599670434237, 1.0064752709633997]}, {\"mode\": \"lines\", \"name\": \"embeddings q < 0.01 margin 0.4\", \"type\": \"scatter\", \"x\": [0.09232293952941743, 0.11811157424359697, 0.1340432343067886, 0.14820434447994071, 0.16189842415578207, 0.17555961435998185, 0.18924382719433072, 0.20341041894608977, 0.21803417435366707, 0.2338266023202426, 0.25084800021049264, 0.2691356427589443, 0.2893100446639025, 0.312181383243472, 0.33807307163546185, 0.36808032924553746, 0.4042258585796572, 0.44913972105342787, 0.510721967755162, 0.6090077684932017, 0.9999583400025873, 0.9999978073685573], \"y\": [0.39188154199642583, 0.459164016988883, 0.4969944530832966, 0.5333859400747325, 0.5619560424257897, 0.5875786200013925, 0.6109731473530299, 0.636642142641632, 0.657228398356813, 0.6836864947664029, 0.7047601364680762, 0.7278529486852183, 0.7513867291758535, 0.7748044653839905, 0.8022141249100657, 0.8248891777102142, 0.84967623645183, 0.877225149116903, 0.910901199897881, 0.9480353702973054, 1.0069162392368929, 1.0042936384524335]}],\n",
       "                        {\"template\": {\"data\": {\"bar\": [{\"error_x\": {\"color\": \"#2a3f5f\"}, \"error_y\": {\"color\": \"#2a3f5f\"}, \"marker\": {\"line\": {\"color\": \"#E5ECF6\", \"width\": 0.5}}, \"type\": \"bar\"}], \"barpolar\": [{\"marker\": {\"line\": {\"color\": \"#E5ECF6\", \"width\": 0.5}}, \"type\": \"barpolar\"}], \"carpet\": [{\"aaxis\": {\"endlinecolor\": \"#2a3f5f\", \"gridcolor\": \"white\", \"linecolor\": \"white\", \"minorgridcolor\": \"white\", \"startlinecolor\": \"#2a3f5f\"}, \"baxis\": {\"endlinecolor\": \"#2a3f5f\", \"gridcolor\": \"white\", \"linecolor\": \"white\", \"minorgridcolor\": \"white\", \"startlinecolor\": \"#2a3f5f\"}, \"type\": \"carpet\"}], \"choropleth\": [{\"colorbar\": {\"outlinewidth\": 0, \"ticks\": \"\"}, \"type\": \"choropleth\"}], \"contour\": [{\"colorbar\": {\"outlinewidth\": 0, \"ticks\": \"\"}, \"colorscale\": [[0.0, \"#0d0887\"], [0.1111111111111111, \"#46039f\"], [0.2222222222222222, \"#7201a8\"], [0.3333333333333333, \"#9c179e\"], [0.4444444444444444, \"#bd3786\"], [0.5555555555555556, \"#d8576b\"], [0.6666666666666666, \"#ed7953\"], [0.7777777777777778, \"#fb9f3a\"], [0.8888888888888888, \"#fdca26\"], [1.0, \"#f0f921\"]], \"type\": \"contour\"}], \"contourcarpet\": [{\"colorbar\": {\"outlinewidth\": 0, \"ticks\": \"\"}, \"type\": \"contourcarpet\"}], \"heatmap\": [{\"colorbar\": {\"outlinewidth\": 0, \"ticks\": \"\"}, \"colorscale\": [[0.0, \"#0d0887\"], [0.1111111111111111, \"#46039f\"], [0.2222222222222222, \"#7201a8\"], [0.3333333333333333, \"#9c179e\"], [0.4444444444444444, \"#bd3786\"], [0.5555555555555556, \"#d8576b\"], [0.6666666666666666, \"#ed7953\"], [0.7777777777777778, \"#fb9f3a\"], [0.8888888888888888, \"#fdca26\"], [1.0, \"#f0f921\"]], \"type\": \"heatmap\"}], \"heatmapgl\": [{\"colorbar\": {\"outlinewidth\": 0, \"ticks\": \"\"}, \"colorscale\": [[0.0, \"#0d0887\"], [0.1111111111111111, \"#46039f\"], [0.2222222222222222, \"#7201a8\"], [0.3333333333333333, \"#9c179e\"], [0.4444444444444444, \"#bd3786\"], [0.5555555555555556, \"#d8576b\"], [0.6666666666666666, \"#ed7953\"], [0.7777777777777778, \"#fb9f3a\"], [0.8888888888888888, \"#fdca26\"], [1.0, \"#f0f921\"]], \"type\": \"heatmapgl\"}], \"histogram\": [{\"marker\": {\"colorbar\": {\"outlinewidth\": 0, \"ticks\": \"\"}}, \"type\": \"histogram\"}], \"histogram2d\": [{\"colorbar\": {\"outlinewidth\": 0, \"ticks\": \"\"}, \"colorscale\": [[0.0, \"#0d0887\"], [0.1111111111111111, \"#46039f\"], [0.2222222222222222, \"#7201a8\"], [0.3333333333333333, \"#9c179e\"], [0.4444444444444444, \"#bd3786\"], [0.5555555555555556, \"#d8576b\"], [0.6666666666666666, \"#ed7953\"], [0.7777777777777778, \"#fb9f3a\"], [0.8888888888888888, \"#fdca26\"], [1.0, \"#f0f921\"]], \"type\": \"histogram2d\"}], \"histogram2dcontour\": [{\"colorbar\": {\"outlinewidth\": 0, \"ticks\": \"\"}, \"colorscale\": [[0.0, \"#0d0887\"], [0.1111111111111111, \"#46039f\"], [0.2222222222222222, \"#7201a8\"], [0.3333333333333333, \"#9c179e\"], [0.4444444444444444, \"#bd3786\"], [0.5555555555555556, \"#d8576b\"], [0.6666666666666666, \"#ed7953\"], [0.7777777777777778, \"#fb9f3a\"], [0.8888888888888888, \"#fdca26\"], [1.0, \"#f0f921\"]], \"type\": \"histogram2dcontour\"}], \"mesh3d\": [{\"colorbar\": {\"outlinewidth\": 0, \"ticks\": \"\"}, \"type\": \"mesh3d\"}], \"parcoords\": [{\"line\": {\"colorbar\": {\"outlinewidth\": 0, \"ticks\": \"\"}}, \"type\": \"parcoords\"}], \"pie\": [{\"automargin\": true, \"type\": \"pie\"}], \"scatter\": [{\"marker\": {\"colorbar\": {\"outlinewidth\": 0, \"ticks\": \"\"}}, \"type\": \"scatter\"}], \"scatter3d\": [{\"line\": {\"colorbar\": {\"outlinewidth\": 0, \"ticks\": \"\"}}, \"marker\": {\"colorbar\": {\"outlinewidth\": 0, \"ticks\": \"\"}}, \"type\": \"scatter3d\"}], \"scattercarpet\": [{\"marker\": {\"colorbar\": {\"outlinewidth\": 0, \"ticks\": \"\"}}, \"type\": \"scattercarpet\"}], \"scattergeo\": [{\"marker\": {\"colorbar\": {\"outlinewidth\": 0, \"ticks\": \"\"}}, \"type\": \"scattergeo\"}], \"scattergl\": [{\"marker\": {\"colorbar\": {\"outlinewidth\": 0, \"ticks\": \"\"}}, \"type\": \"scattergl\"}], \"scattermapbox\": [{\"marker\": {\"colorbar\": {\"outlinewidth\": 0, \"ticks\": \"\"}}, \"type\": \"scattermapbox\"}], \"scatterpolar\": [{\"marker\": {\"colorbar\": {\"outlinewidth\": 0, \"ticks\": \"\"}}, \"type\": \"scatterpolar\"}], \"scatterpolargl\": [{\"marker\": {\"colorbar\": {\"outlinewidth\": 0, \"ticks\": \"\"}}, \"type\": \"scatterpolargl\"}], \"scatterternary\": [{\"marker\": {\"colorbar\": {\"outlinewidth\": 0, \"ticks\": \"\"}}, \"type\": \"scatterternary\"}], \"surface\": [{\"colorbar\": {\"outlinewidth\": 0, \"ticks\": \"\"}, \"colorscale\": [[0.0, \"#0d0887\"], [0.1111111111111111, \"#46039f\"], [0.2222222222222222, \"#7201a8\"], [0.3333333333333333, \"#9c179e\"], [0.4444444444444444, \"#bd3786\"], [0.5555555555555556, \"#d8576b\"], [0.6666666666666666, \"#ed7953\"], [0.7777777777777778, \"#fb9f3a\"], [0.8888888888888888, \"#fdca26\"], [1.0, \"#f0f921\"]], \"type\": \"surface\"}], \"table\": [{\"cells\": {\"fill\": {\"color\": \"#EBF0F8\"}, \"line\": {\"color\": \"white\"}}, \"header\": {\"fill\": {\"color\": \"#C8D4E3\"}, \"line\": {\"color\": \"white\"}}, \"type\": \"table\"}]}, \"layout\": {\"annotationdefaults\": {\"arrowcolor\": \"#2a3f5f\", \"arrowhead\": 0, \"arrowwidth\": 1}, \"coloraxis\": {\"colorbar\": {\"outlinewidth\": 0, \"ticks\": \"\"}}, \"colorscale\": {\"diverging\": [[0, \"#8e0152\"], [0.1, \"#c51b7d\"], [0.2, \"#de77ae\"], [0.3, \"#f1b6da\"], [0.4, \"#fde0ef\"], [0.5, \"#f7f7f7\"], [0.6, \"#e6f5d0\"], [0.7, \"#b8e186\"], [0.8, \"#7fbc41\"], [0.9, \"#4d9221\"], [1, \"#276419\"]], \"sequential\": [[0.0, \"#0d0887\"], [0.1111111111111111, \"#46039f\"], [0.2222222222222222, \"#7201a8\"], [0.3333333333333333, \"#9c179e\"], [0.4444444444444444, \"#bd3786\"], [0.5555555555555556, \"#d8576b\"], [0.6666666666666666, \"#ed7953\"], [0.7777777777777778, \"#fb9f3a\"], [0.8888888888888888, \"#fdca26\"], [1.0, \"#f0f921\"]], \"sequentialminus\": [[0.0, \"#0d0887\"], [0.1111111111111111, \"#46039f\"], [0.2222222222222222, \"#7201a8\"], [0.3333333333333333, \"#9c179e\"], [0.4444444444444444, \"#bd3786\"], [0.5555555555555556, \"#d8576b\"], [0.6666666666666666, \"#ed7953\"], [0.7777777777777778, \"#fb9f3a\"], [0.8888888888888888, \"#fdca26\"], [1.0, \"#f0f921\"]]}, \"colorway\": [\"#636efa\", \"#EF553B\", \"#00cc96\", \"#ab63fa\", \"#FFA15A\", \"#19d3f3\", \"#FF6692\", \"#B6E880\", \"#FF97FF\", \"#FECB52\"], \"font\": {\"color\": \"#2a3f5f\"}, \"geo\": {\"bgcolor\": \"white\", \"lakecolor\": \"white\", \"landcolor\": \"#E5ECF6\", \"showlakes\": true, \"showland\": true, \"subunitcolor\": \"white\"}, \"hoverlabel\": {\"align\": \"left\"}, \"hovermode\": \"closest\", \"mapbox\": {\"style\": \"light\"}, \"paper_bgcolor\": \"white\", \"plot_bgcolor\": \"#E5ECF6\", \"polar\": {\"angularaxis\": {\"gridcolor\": \"white\", \"linecolor\": \"white\", \"ticks\": \"\"}, \"bgcolor\": \"#E5ECF6\", \"radialaxis\": {\"gridcolor\": \"white\", \"linecolor\": \"white\", \"ticks\": \"\"}}, \"scene\": {\"xaxis\": {\"backgroundcolor\": \"#E5ECF6\", \"gridcolor\": \"white\", \"gridwidth\": 2, \"linecolor\": \"white\", \"showbackground\": true, \"ticks\": \"\", \"zerolinecolor\": \"white\"}, \"yaxis\": {\"backgroundcolor\": \"#E5ECF6\", \"gridcolor\": \"white\", \"gridwidth\": 2, \"linecolor\": \"white\", \"showbackground\": true, \"ticks\": \"\", \"zerolinecolor\": \"white\"}, \"zaxis\": {\"backgroundcolor\": \"#E5ECF6\", \"gridcolor\": \"white\", \"gridwidth\": 2, \"linecolor\": \"white\", \"showbackground\": true, \"ticks\": \"\", \"zerolinecolor\": \"white\"}}, \"shapedefaults\": {\"line\": {\"color\": \"#2a3f5f\"}}, \"ternary\": {\"aaxis\": {\"gridcolor\": \"white\", \"linecolor\": \"white\", \"ticks\": \"\"}, \"baxis\": {\"gridcolor\": \"white\", \"linecolor\": \"white\", \"ticks\": \"\"}, \"bgcolor\": \"#E5ECF6\", \"caxis\": {\"gridcolor\": \"white\", \"linecolor\": \"white\", \"ticks\": \"\"}}, \"title\": {\"x\": 0.05}, \"xaxis\": {\"automargin\": true, \"gridcolor\": \"white\", \"linecolor\": \"white\", \"ticks\": \"\", \"title\": {\"standoff\": 15}, \"zerolinecolor\": \"white\", \"zerolinewidth\": 2}, \"yaxis\": {\"automargin\": true, \"gridcolor\": \"white\", \"linecolor\": \"white\", \"ticks\": \"\", \"title\": {\"standoff\": 15}, \"zerolinecolor\": \"white\", \"zerolinewidth\": 2}}}, \"xaxis\": {\"title\": {\"text\": \"<b>Proportion of spectra remaining</b><br>(num of clusters) / (num of spectra)\"}}, \"yaxis\": {\"title\": {\"text\": \"<b>Retainment of identified peptides</b><br>(identified clusters) / (total spectra identified)\"}}},\n",
       "                        {\"responsive\": true}\n",
       "                    ).then(function(){\n",
       "                            \n",
       "var gd = document.getElementById('05d9e203-fb99-4ca8-bb66-0c3bfc6e46b3');\n",
       "var x = new MutationObserver(function (mutations, observer) {{\n",
       "        var display = window.getComputedStyle(gd).display;\n",
       "        if (!display || display === 'none') {{\n",
       "            console.log([gd, 'removed!']);\n",
       "            Plotly.purge(gd);\n",
       "            observer.disconnect();\n",
       "        }}\n",
       "}});\n",
       "\n",
       "// Listen for the removal of the full notebook cells\n",
       "var notebookContainer = gd.closest('#notebook-container');\n",
       "if (notebookContainer) {{\n",
       "    x.observe(notebookContainer, {childList: true});\n",
       "}}\n",
       "\n",
       "// Listen for the clearing of the current output cell\n",
       "var outputEl = gd.closest('.output');\n",
       "if (outputEl) {{\n",
       "    x.observe(outputEl, {childList: true});\n",
       "}}\n",
       "\n",
       "                        })\n",
       "                };\n",
       "                });\n",
       "            </script>\n",
       "        </div>"
      ]
     },
     "metadata": {},
     "output_type": "display_data"
    }
   ],
   "source": [
    "fig = go.Figure()\n",
    "\n",
    "fig.update_layout(yaxis_title=\"<b>Retainment of identified peptides</b><br>(identified clusters) / (total spectra identified)\",\n",
    "                  xaxis_title=\"<b>Proportion of spectra remaining</b><br>(num of clusters) / (num of spectra)\")\n",
    "\n",
    "fig.add_trace(go.Scatter(x = maracluster['x-axis'], \n",
    "                         y = maracluster['y-axis'], \n",
    "                         mode=\"lines\",\n",
    "                         name=\"maracluster\"))\n",
    "\n",
    "fig.add_trace(go.Scatter(x = embeddings['x-axis'], \n",
    "                         y = embeddings['y-axis'], \n",
    "                         mode=\"lines\",\n",
    "                         name=\"embeddings\"))\n",
    "\n",
    "fig.add_trace(go.Scatter(x = embeddings_q001['x-axis'], \n",
    "                         y = embeddings_q001['y-axis'], \n",
    "                         mode=\"lines\",\n",
    "                         name=\"embeddings q < 0.01\"))\n",
    "\n",
    "fig.add_trace(go.Scatter(x = embeddings_q0001['x-axis'], \n",
    "                         y = embeddings_q0001['y-axis'], \n",
    "                         mode=\"lines\", \n",
    "                         name=\"embeddings q < 0.001\"))\n",
    "\n",
    "fig.add_trace(go.Scatter(x = embeddings_q001_04['x-axis'], \n",
    "                         y = embeddings_q001_04['y-axis'], \n",
    "                         mode=\"lines\",\n",
    "                         name=\"embeddings q < 0.01 margin 0.4\"))\n"
   ]
  },
  {
   "cell_type": "markdown",
   "metadata": {},
   "source": [
    "## Second evaluation criteria: clusters quality\n",
    "\n",
    "Original MaRaCluster work reported the clusters quality for 19% of the original spectra; current experiments start with ~22% of the spectra. Use that as the threshold selection parameter.\n",
    "\n",
    "For maracluster, get the p5; for q < 0.01 embeddings, get the p73.983100; for q < 0.001 embeddings, get the p76.505100; for q < 0.01 margin 0.4, get p73.983100."
   ]
  },
  {
   "cell_type": "code",
   "execution_count": 34,
   "metadata": {},
   "outputs": [],
   "source": [
    "# MARACLUSTER_CLUSTERS_QUALITY=\"/home/eseiti/Documents/unicamp/clustering/files_20200220/sample_maracluster.clusters_analysis/sample_maracluster.clusters_p5_identifications_analysis.tsv_clusters_size.tsv\"\n",
    "# Q01_CLUSTERS_QUALITY=\"/home/eseiti/Documents/unicamp/clustering/files_20200220/sample_embeddings_q0.01.clusters_analysis/sample_embeddings_q0.01.clusters_p73.983100_identifications_analysis.tsv_clusters_size.tsv\"\n",
    "# Q001_CLUSTERS_QUALITY=\"/home/eseiti/Documents/unicamp/clustering/files_20200220/sample_embeddings_q0.001.cluster_analysis/sample_embeddings_q0.001.clusters_p76.505100_identifications_analysis.tsv_clusters_size.tsv\"\n",
    "\n",
    "MARACLUSTER_CLUSTERS_QUALITY=\"/media/eduseiti/bigdata01/unicamp/doutorado/clustering/linfeng/sample/identifications_maracluster/sample_maracluster.clusters_p5_identifications_analysis.tsv_clusters_size.tsv\"\n",
    "Q01_CLUSTERS_QUALITY=\"/media/eduseiti/bigdata01/unicamp/doutorado/clustering/linfeng/sample/identifications_q0.01/sample_embeddings_q0.01.clusters_p73.983100_identifications_analysis.tsv_clusters_size.tsv\"\n",
    "Q001_CLUSTERS_QUALITY=\"/media/eduseiti/bigdata01/unicamp/doutorado/clustering/linfeng/sample/identifications_q0.001/sample_embeddings_q0.001.clusters_p76.505100_identifications_analysis.tsv_clusters_size.tsv\"\n",
    "Q01_04_CLUSTERS_QUALITY=\"/media/eduseiti/bigdata01/unicamp/doutorado/clustering/linfeng/sample/identifications_q0.01_margin0.4/sample_embeddings_q0.01_margin0.4.clusters_p73.983100_identifications_analysis_clusters_size.tsv\"\n",
    "\n",
    "EMBEDDINGS_CLUSTERS_QUALITY=\"/media/eduseiti/bigdata01/unicamp/doutorado/clustering/linfeng/sample/identifications_embeddings/sample_embeddings.clusters_p73.983100_identifications_analysis_clusters_size.tsv\""
   ]
  },
  {
   "cell_type": "code",
   "execution_count": 35,
   "metadata": {},
   "outputs": [],
   "source": [
    "maraclusters_quality = pd.read_csv(MARACLUSTER_CLUSTERS_QUALITY, sep='\\t')\n",
    "q01_quality = pd.read_csv(Q01_CLUSTERS_QUALITY, sep='\\t')\n",
    "q001_quality = pd.read_csv(Q001_CLUSTERS_QUALITY, sep='\\t')\n",
    "q01_quality_04 = pd.read_csv(Q01_04_CLUSTERS_QUALITY, sep='\\t')\n",
    "\n",
    "embeddings_quality = pd.read_csv(EMBEDDINGS_CLUSTERS_QUALITY, sep='\\t')"
   ]
  },
  {
   "cell_type": "code",
   "execution_count": 36,
   "metadata": {
    "scrolled": true
   },
   "outputs": [
    {
     "data": {
      "text/html": [
       "<div>\n",
       "<style scoped>\n",
       "    .dataframe tbody tr th:only-of-type {\n",
       "        vertical-align: middle;\n",
       "    }\n",
       "\n",
       "    .dataframe tbody tr th {\n",
       "        vertical-align: top;\n",
       "    }\n",
       "\n",
       "    .dataframe thead th {\n",
       "        text-align: right;\n",
       "    }\n",
       "</style>\n",
       "<table border=\"1\" class=\"dataframe\">\n",
       "  <thead>\n",
       "    <tr style=\"text-align: right;\">\n",
       "      <th></th>\n",
       "      <th>size</th>\n",
       "      <th>clusters</th>\n",
       "      <th>all clusters mean</th>\n",
       "      <th>identified clusters</th>\n",
       "      <th>identified clusters mean</th>\n",
       "    </tr>\n",
       "  </thead>\n",
       "  <tbody>\n",
       "    <tr>\n",
       "      <th>0</th>\n",
       "      <td>[0, 1]</td>\n",
       "      <td>67806</td>\n",
       "      <td>0.112394</td>\n",
       "      <td>7909</td>\n",
       "      <td>0.963586</td>\n",
       "    </tr>\n",
       "    <tr>\n",
       "      <th>1</th>\n",
       "      <td>[2, 3]</td>\n",
       "      <td>65268</td>\n",
       "      <td>0.143304</td>\n",
       "      <td>10947</td>\n",
       "      <td>0.854405</td>\n",
       "    </tr>\n",
       "    <tr>\n",
       "      <th>2</th>\n",
       "      <td>[4, 7]</td>\n",
       "      <td>41860</td>\n",
       "      <td>0.218340</td>\n",
       "      <td>10673</td>\n",
       "      <td>0.856338</td>\n",
       "    </tr>\n",
       "    <tr>\n",
       "      <th>3</th>\n",
       "      <td>[8, 15]</td>\n",
       "      <td>21621</td>\n",
       "      <td>0.268083</td>\n",
       "      <td>6678</td>\n",
       "      <td>0.867957</td>\n",
       "    </tr>\n",
       "    <tr>\n",
       "      <th>4</th>\n",
       "      <td>[16, 31]</td>\n",
       "      <td>6753</td>\n",
       "      <td>0.222192</td>\n",
       "      <td>1748</td>\n",
       "      <td>0.858389</td>\n",
       "    </tr>\n",
       "    <tr>\n",
       "      <th>5</th>\n",
       "      <td>[32, 63]</td>\n",
       "      <td>1512</td>\n",
       "      <td>0.155152</td>\n",
       "      <td>266</td>\n",
       "      <td>0.881917</td>\n",
       "    </tr>\n",
       "    <tr>\n",
       "      <th>6</th>\n",
       "      <td>[64, 127]</td>\n",
       "      <td>298</td>\n",
       "      <td>0.166815</td>\n",
       "      <td>57</td>\n",
       "      <td>0.872122</td>\n",
       "    </tr>\n",
       "    <tr>\n",
       "      <th>7</th>\n",
       "      <td>[128, 255]</td>\n",
       "      <td>66</td>\n",
       "      <td>0.163172</td>\n",
       "      <td>11</td>\n",
       "      <td>0.979033</td>\n",
       "    </tr>\n",
       "    <tr>\n",
       "      <th>8</th>\n",
       "      <td>[256, 511]</td>\n",
       "      <td>19</td>\n",
       "      <td>0.201927</td>\n",
       "      <td>4</td>\n",
       "      <td>0.959152</td>\n",
       "    </tr>\n",
       "    <tr>\n",
       "      <th>9</th>\n",
       "      <td>[512, 9223372036854775807]</td>\n",
       "      <td>1</td>\n",
       "      <td>0.000000</td>\n",
       "      <td>0</td>\n",
       "      <td>NaN</td>\n",
       "    </tr>\n",
       "  </tbody>\n",
       "</table>\n",
       "</div>"
      ],
      "text/plain": [
       "                         size  clusters  all clusters mean  \\\n",
       "0                      [0, 1]     67806           0.112394   \n",
       "1                      [2, 3]     65268           0.143304   \n",
       "2                      [4, 7]     41860           0.218340   \n",
       "3                     [8, 15]     21621           0.268083   \n",
       "4                    [16, 31]      6753           0.222192   \n",
       "5                    [32, 63]      1512           0.155152   \n",
       "6                   [64, 127]       298           0.166815   \n",
       "7                  [128, 255]        66           0.163172   \n",
       "8                  [256, 511]        19           0.201927   \n",
       "9  [512, 9223372036854775807]         1           0.000000   \n",
       "\n",
       "   identified clusters  identified clusters mean  \n",
       "0                 7909                  0.963586  \n",
       "1                10947                  0.854405  \n",
       "2                10673                  0.856338  \n",
       "3                 6678                  0.867957  \n",
       "4                 1748                  0.858389  \n",
       "5                  266                  0.881917  \n",
       "6                   57                  0.872122  \n",
       "7                   11                  0.979033  \n",
       "8                    4                  0.959152  \n",
       "9                    0                       NaN  "
      ]
     },
     "execution_count": 36,
     "metadata": {},
     "output_type": "execute_result"
    }
   ],
   "source": [
    "maraclusters_quality"
   ]
  },
  {
   "cell_type": "code",
   "execution_count": 37,
   "metadata": {},
   "outputs": [
    {
     "data": {
      "text/html": [
       "<div>\n",
       "<style scoped>\n",
       "    .dataframe tbody tr th:only-of-type {\n",
       "        vertical-align: middle;\n",
       "    }\n",
       "\n",
       "    .dataframe tbody tr th {\n",
       "        vertical-align: top;\n",
       "    }\n",
       "\n",
       "    .dataframe thead th {\n",
       "        text-align: right;\n",
       "    }\n",
       "</style>\n",
       "<table border=\"1\" class=\"dataframe\">\n",
       "  <thead>\n",
       "    <tr style=\"text-align: right;\">\n",
       "      <th></th>\n",
       "      <th>size</th>\n",
       "      <th>clusters</th>\n",
       "      <th>all clusters mean</th>\n",
       "      <th>identified clusters</th>\n",
       "      <th>identified clusters mean</th>\n",
       "    </tr>\n",
       "  </thead>\n",
       "  <tbody>\n",
       "    <tr>\n",
       "      <th>0</th>\n",
       "      <td>[0, 1]</td>\n",
       "      <td>51006</td>\n",
       "      <td>0.104301</td>\n",
       "      <td>5556</td>\n",
       "      <td>0.957523</td>\n",
       "    </tr>\n",
       "    <tr>\n",
       "      <th>1</th>\n",
       "      <td>[2, 3]</td>\n",
       "      <td>65337</td>\n",
       "      <td>0.116287</td>\n",
       "      <td>9429</td>\n",
       "      <td>0.805794</td>\n",
       "    </tr>\n",
       "    <tr>\n",
       "      <th>2</th>\n",
       "      <td>[4, 7]</td>\n",
       "      <td>50835</td>\n",
       "      <td>0.155683</td>\n",
       "      <td>10071</td>\n",
       "      <td>0.785836</td>\n",
       "    </tr>\n",
       "    <tr>\n",
       "      <th>3</th>\n",
       "      <td>[8, 15]</td>\n",
       "      <td>23768</td>\n",
       "      <td>0.183246</td>\n",
       "      <td>5501</td>\n",
       "      <td>0.791743</td>\n",
       "    </tr>\n",
       "    <tr>\n",
       "      <th>4</th>\n",
       "      <td>[16, 31]</td>\n",
       "      <td>6387</td>\n",
       "      <td>0.147339</td>\n",
       "      <td>1196</td>\n",
       "      <td>0.786833</td>\n",
       "    </tr>\n",
       "    <tr>\n",
       "      <th>5</th>\n",
       "      <td>[32, 63]</td>\n",
       "      <td>1089</td>\n",
       "      <td>0.088581</td>\n",
       "      <td>115</td>\n",
       "      <td>0.838827</td>\n",
       "    </tr>\n",
       "    <tr>\n",
       "      <th>6</th>\n",
       "      <td>[64, 127]</td>\n",
       "      <td>173</td>\n",
       "      <td>0.062452</td>\n",
       "      <td>11</td>\n",
       "      <td>0.982192</td>\n",
       "    </tr>\n",
       "    <tr>\n",
       "      <th>7</th>\n",
       "      <td>[128, 255]</td>\n",
       "      <td>25</td>\n",
       "      <td>0.079424</td>\n",
       "      <td>2</td>\n",
       "      <td>0.992806</td>\n",
       "    </tr>\n",
       "    <tr>\n",
       "      <th>8</th>\n",
       "      <td>[256, 511]</td>\n",
       "      <td>5</td>\n",
       "      <td>0.000000</td>\n",
       "      <td>0</td>\n",
       "      <td>NaN</td>\n",
       "    </tr>\n",
       "    <tr>\n",
       "      <th>9</th>\n",
       "      <td>[512, 9223372036854775807]</td>\n",
       "      <td>1</td>\n",
       "      <td>0.996310</td>\n",
       "      <td>1</td>\n",
       "      <td>0.996310</td>\n",
       "    </tr>\n",
       "  </tbody>\n",
       "</table>\n",
       "</div>"
      ],
      "text/plain": [
       "                         size  clusters  all clusters mean  \\\n",
       "0                      [0, 1]     51006           0.104301   \n",
       "1                      [2, 3]     65337           0.116287   \n",
       "2                      [4, 7]     50835           0.155683   \n",
       "3                     [8, 15]     23768           0.183246   \n",
       "4                    [16, 31]      6387           0.147339   \n",
       "5                    [32, 63]      1089           0.088581   \n",
       "6                   [64, 127]       173           0.062452   \n",
       "7                  [128, 255]        25           0.079424   \n",
       "8                  [256, 511]         5           0.000000   \n",
       "9  [512, 9223372036854775807]         1           0.996310   \n",
       "\n",
       "   identified clusters  identified clusters mean  \n",
       "0                 5556                  0.957523  \n",
       "1                 9429                  0.805794  \n",
       "2                10071                  0.785836  \n",
       "3                 5501                  0.791743  \n",
       "4                 1196                  0.786833  \n",
       "5                  115                  0.838827  \n",
       "6                   11                  0.982192  \n",
       "7                    2                  0.992806  \n",
       "8                    0                       NaN  \n",
       "9                    1                  0.996310  "
      ]
     },
     "execution_count": 37,
     "metadata": {},
     "output_type": "execute_result"
    }
   ],
   "source": [
    "q01_quality"
   ]
  },
  {
   "cell_type": "code",
   "execution_count": 38,
   "metadata": {},
   "outputs": [
    {
     "data": {
      "text/html": [
       "<div>\n",
       "<style scoped>\n",
       "    .dataframe tbody tr th:only-of-type {\n",
       "        vertical-align: middle;\n",
       "    }\n",
       "\n",
       "    .dataframe tbody tr th {\n",
       "        vertical-align: top;\n",
       "    }\n",
       "\n",
       "    .dataframe thead th {\n",
       "        text-align: right;\n",
       "    }\n",
       "</style>\n",
       "<table border=\"1\" class=\"dataframe\">\n",
       "  <thead>\n",
       "    <tr style=\"text-align: right;\">\n",
       "      <th></th>\n",
       "      <th>size</th>\n",
       "      <th>clusters</th>\n",
       "      <th>all clusters mean</th>\n",
       "      <th>identified clusters</th>\n",
       "      <th>identified clusters mean</th>\n",
       "    </tr>\n",
       "  </thead>\n",
       "  <tbody>\n",
       "    <tr>\n",
       "      <th>0</th>\n",
       "      <td>[0, 1]</td>\n",
       "      <td>56690</td>\n",
       "      <td>0.100000</td>\n",
       "      <td>5935</td>\n",
       "      <td>0.955181</td>\n",
       "    </tr>\n",
       "    <tr>\n",
       "      <th>1</th>\n",
       "      <td>[2, 3]</td>\n",
       "      <td>66490</td>\n",
       "      <td>0.117461</td>\n",
       "      <td>9579</td>\n",
       "      <td>0.815325</td>\n",
       "    </tr>\n",
       "    <tr>\n",
       "      <th>2</th>\n",
       "      <td>[4, 7]</td>\n",
       "      <td>50173</td>\n",
       "      <td>0.143539</td>\n",
       "      <td>9262</td>\n",
       "      <td>0.777562</td>\n",
       "    </tr>\n",
       "    <tr>\n",
       "      <th>3</th>\n",
       "      <td>[8, 15]</td>\n",
       "      <td>24203</td>\n",
       "      <td>0.156053</td>\n",
       "      <td>5024</td>\n",
       "      <td>0.751781</td>\n",
       "    </tr>\n",
       "    <tr>\n",
       "      <th>4</th>\n",
       "      <td>[16, 31]</td>\n",
       "      <td>6311</td>\n",
       "      <td>0.114925</td>\n",
       "      <td>1010</td>\n",
       "      <td>0.718109</td>\n",
       "    </tr>\n",
       "    <tr>\n",
       "      <th>5</th>\n",
       "      <td>[32, 63]</td>\n",
       "      <td>971</td>\n",
       "      <td>0.054890</td>\n",
       "      <td>67</td>\n",
       "      <td>0.795500</td>\n",
       "    </tr>\n",
       "    <tr>\n",
       "      <th>6</th>\n",
       "      <td>[64, 127]</td>\n",
       "      <td>118</td>\n",
       "      <td>0.049501</td>\n",
       "      <td>6</td>\n",
       "      <td>0.973519</td>\n",
       "    </tr>\n",
       "    <tr>\n",
       "      <th>7</th>\n",
       "      <td>[128, 255]</td>\n",
       "      <td>22</td>\n",
       "      <td>0.000000</td>\n",
       "      <td>0</td>\n",
       "      <td>NaN</td>\n",
       "    </tr>\n",
       "    <tr>\n",
       "      <th>8</th>\n",
       "      <td>[256, 511]</td>\n",
       "      <td>9</td>\n",
       "      <td>0.110316</td>\n",
       "      <td>1</td>\n",
       "      <td>0.992840</td>\n",
       "    </tr>\n",
       "    <tr>\n",
       "      <th>9</th>\n",
       "      <td>[512, 9223372036854775807]</td>\n",
       "      <td>0</td>\n",
       "      <td>NaN</td>\n",
       "      <td>0</td>\n",
       "      <td>NaN</td>\n",
       "    </tr>\n",
       "  </tbody>\n",
       "</table>\n",
       "</div>"
      ],
      "text/plain": [
       "                         size  clusters  all clusters mean  \\\n",
       "0                      [0, 1]     56690           0.100000   \n",
       "1                      [2, 3]     66490           0.117461   \n",
       "2                      [4, 7]     50173           0.143539   \n",
       "3                     [8, 15]     24203           0.156053   \n",
       "4                    [16, 31]      6311           0.114925   \n",
       "5                    [32, 63]       971           0.054890   \n",
       "6                   [64, 127]       118           0.049501   \n",
       "7                  [128, 255]        22           0.000000   \n",
       "8                  [256, 511]         9           0.110316   \n",
       "9  [512, 9223372036854775807]         0                NaN   \n",
       "\n",
       "   identified clusters  identified clusters mean  \n",
       "0                 5935                  0.955181  \n",
       "1                 9579                  0.815325  \n",
       "2                 9262                  0.777562  \n",
       "3                 5024                  0.751781  \n",
       "4                 1010                  0.718109  \n",
       "5                   67                  0.795500  \n",
       "6                    6                  0.973519  \n",
       "7                    0                       NaN  \n",
       "8                    1                  0.992840  \n",
       "9                    0                       NaN  "
      ]
     },
     "execution_count": 38,
     "metadata": {},
     "output_type": "execute_result"
    }
   ],
   "source": [
    "q001_quality"
   ]
  },
  {
   "cell_type": "code",
   "execution_count": 39,
   "metadata": {},
   "outputs": [
    {
     "data": {
      "text/html": [
       "<div>\n",
       "<style scoped>\n",
       "    .dataframe tbody tr th:only-of-type {\n",
       "        vertical-align: middle;\n",
       "    }\n",
       "\n",
       "    .dataframe tbody tr th {\n",
       "        vertical-align: top;\n",
       "    }\n",
       "\n",
       "    .dataframe thead th {\n",
       "        text-align: right;\n",
       "    }\n",
       "</style>\n",
       "<table border=\"1\" class=\"dataframe\">\n",
       "  <thead>\n",
       "    <tr style=\"text-align: right;\">\n",
       "      <th></th>\n",
       "      <th>size</th>\n",
       "      <th>clusters</th>\n",
       "      <th>all clusters mean</th>\n",
       "      <th>identified clusters</th>\n",
       "      <th>identified clusters mean</th>\n",
       "    </tr>\n",
       "  </thead>\n",
       "  <tbody>\n",
       "    <tr>\n",
       "      <th>0</th>\n",
       "      <td>[0, 1]</td>\n",
       "      <td>50864</td>\n",
       "      <td>0.100955</td>\n",
       "      <td>5397</td>\n",
       "      <td>0.951455</td>\n",
       "    </tr>\n",
       "    <tr>\n",
       "      <th>1</th>\n",
       "      <td>[2, 3]</td>\n",
       "      <td>63621</td>\n",
       "      <td>0.108596</td>\n",
       "      <td>8896</td>\n",
       "      <td>0.776641</td>\n",
       "    </tr>\n",
       "    <tr>\n",
       "      <th>2</th>\n",
       "      <td>[4, 7]</td>\n",
       "      <td>51714</td>\n",
       "      <td>0.122539</td>\n",
       "      <td>8604</td>\n",
       "      <td>0.736515</td>\n",
       "    </tr>\n",
       "    <tr>\n",
       "      <th>3</th>\n",
       "      <td>[8, 15]</td>\n",
       "      <td>25274</td>\n",
       "      <td>0.123049</td>\n",
       "      <td>4447</td>\n",
       "      <td>0.699337</td>\n",
       "    </tr>\n",
       "    <tr>\n",
       "      <th>4</th>\n",
       "      <td>[16, 31]</td>\n",
       "      <td>6392</td>\n",
       "      <td>0.097689</td>\n",
       "      <td>904</td>\n",
       "      <td>0.690739</td>\n",
       "    </tr>\n",
       "    <tr>\n",
       "      <th>5</th>\n",
       "      <td>[32, 63]</td>\n",
       "      <td>876</td>\n",
       "      <td>0.055789</td>\n",
       "      <td>63</td>\n",
       "      <td>0.775732</td>\n",
       "    </tr>\n",
       "    <tr>\n",
       "      <th>6</th>\n",
       "      <td>[64, 127]</td>\n",
       "      <td>114</td>\n",
       "      <td>0.043666</td>\n",
       "      <td>5</td>\n",
       "      <td>0.995594</td>\n",
       "    </tr>\n",
       "    <tr>\n",
       "      <th>7</th>\n",
       "      <td>[128, 255]</td>\n",
       "      <td>19</td>\n",
       "      <td>0.102399</td>\n",
       "      <td>2</td>\n",
       "      <td>0.972789</td>\n",
       "    </tr>\n",
       "    <tr>\n",
       "      <th>8</th>\n",
       "      <td>[256, 511]</td>\n",
       "      <td>4</td>\n",
       "      <td>0.000000</td>\n",
       "      <td>0</td>\n",
       "      <td>NaN</td>\n",
       "    </tr>\n",
       "    <tr>\n",
       "      <th>9</th>\n",
       "      <td>[512, 9223372036854775807]</td>\n",
       "      <td>1</td>\n",
       "      <td>0.000000</td>\n",
       "      <td>0</td>\n",
       "      <td>NaN</td>\n",
       "    </tr>\n",
       "  </tbody>\n",
       "</table>\n",
       "</div>"
      ],
      "text/plain": [
       "                         size  clusters  all clusters mean  \\\n",
       "0                      [0, 1]     50864           0.100955   \n",
       "1                      [2, 3]     63621           0.108596   \n",
       "2                      [4, 7]     51714           0.122539   \n",
       "3                     [8, 15]     25274           0.123049   \n",
       "4                    [16, 31]      6392           0.097689   \n",
       "5                    [32, 63]       876           0.055789   \n",
       "6                   [64, 127]       114           0.043666   \n",
       "7                  [128, 255]        19           0.102399   \n",
       "8                  [256, 511]         4           0.000000   \n",
       "9  [512, 9223372036854775807]         1           0.000000   \n",
       "\n",
       "   identified clusters  identified clusters mean  \n",
       "0                 5397                  0.951455  \n",
       "1                 8896                  0.776641  \n",
       "2                 8604                  0.736515  \n",
       "3                 4447                  0.699337  \n",
       "4                  904                  0.690739  \n",
       "5                   63                  0.775732  \n",
       "6                    5                  0.995594  \n",
       "7                    2                  0.972789  \n",
       "8                    0                       NaN  \n",
       "9                    0                       NaN  "
      ]
     },
     "execution_count": 39,
     "metadata": {},
     "output_type": "execute_result"
    }
   ],
   "source": [
    "q01_quality_04"
   ]
  },
  {
   "cell_type": "code",
   "execution_count": 40,
   "metadata": {},
   "outputs": [
    {
     "data": {
      "text/html": [
       "<div>\n",
       "<style scoped>\n",
       "    .dataframe tbody tr th:only-of-type {\n",
       "        vertical-align: middle;\n",
       "    }\n",
       "\n",
       "    .dataframe tbody tr th {\n",
       "        vertical-align: top;\n",
       "    }\n",
       "\n",
       "    .dataframe thead th {\n",
       "        text-align: right;\n",
       "    }\n",
       "</style>\n",
       "<table border=\"1\" class=\"dataframe\">\n",
       "  <thead>\n",
       "    <tr style=\"text-align: right;\">\n",
       "      <th></th>\n",
       "      <th>size</th>\n",
       "      <th>clusters</th>\n",
       "      <th>all clusters mean</th>\n",
       "      <th>identified clusters</th>\n",
       "      <th>identified clusters mean</th>\n",
       "    </tr>\n",
       "  </thead>\n",
       "  <tbody>\n",
       "    <tr>\n",
       "      <th>0</th>\n",
       "      <td>[0, 1]</td>\n",
       "      <td>55401</td>\n",
       "      <td>0.098554</td>\n",
       "      <td>5720</td>\n",
       "      <td>0.954545</td>\n",
       "    </tr>\n",
       "    <tr>\n",
       "      <th>1</th>\n",
       "      <td>[2, 3]</td>\n",
       "      <td>70474</td>\n",
       "      <td>0.104353</td>\n",
       "      <td>9203</td>\n",
       "      <td>0.799105</td>\n",
       "    </tr>\n",
       "    <tr>\n",
       "      <th>2</th>\n",
       "      <td>[4, 7]</td>\n",
       "      <td>52615</td>\n",
       "      <td>0.108174</td>\n",
       "      <td>7802</td>\n",
       "      <td>0.729505</td>\n",
       "    </tr>\n",
       "    <tr>\n",
       "      <th>3</th>\n",
       "      <td>[8, 15]</td>\n",
       "      <td>23488</td>\n",
       "      <td>0.107263</td>\n",
       "      <td>3800</td>\n",
       "      <td>0.663000</td>\n",
       "    </tr>\n",
       "    <tr>\n",
       "      <th>4</th>\n",
       "      <td>[16, 31]</td>\n",
       "      <td>5925</td>\n",
       "      <td>0.079301</td>\n",
       "      <td>757</td>\n",
       "      <td>0.620684</td>\n",
       "    </tr>\n",
       "    <tr>\n",
       "      <th>5</th>\n",
       "      <td>[32, 63]</td>\n",
       "      <td>924</td>\n",
       "      <td>0.039749</td>\n",
       "      <td>50</td>\n",
       "      <td>0.734554</td>\n",
       "    </tr>\n",
       "    <tr>\n",
       "      <th>6</th>\n",
       "      <td>[64, 127]</td>\n",
       "      <td>141</td>\n",
       "      <td>0.010162</td>\n",
       "      <td>2</td>\n",
       "      <td>0.716418</td>\n",
       "    </tr>\n",
       "    <tr>\n",
       "      <th>7</th>\n",
       "      <td>[128, 255]</td>\n",
       "      <td>22</td>\n",
       "      <td>0.040909</td>\n",
       "      <td>1</td>\n",
       "      <td>0.900000</td>\n",
       "    </tr>\n",
       "    <tr>\n",
       "      <th>8</th>\n",
       "      <td>[256, 511]</td>\n",
       "      <td>2</td>\n",
       "      <td>0.000000</td>\n",
       "      <td>0</td>\n",
       "      <td>NaN</td>\n",
       "    </tr>\n",
       "    <tr>\n",
       "      <th>9</th>\n",
       "      <td>[512, 9223372036854775807]</td>\n",
       "      <td>1</td>\n",
       "      <td>0.000000</td>\n",
       "      <td>0</td>\n",
       "      <td>NaN</td>\n",
       "    </tr>\n",
       "  </tbody>\n",
       "</table>\n",
       "</div>"
      ],
      "text/plain": [
       "                         size  clusters  all clusters mean  \\\n",
       "0                      [0, 1]     55401           0.098554   \n",
       "1                      [2, 3]     70474           0.104353   \n",
       "2                      [4, 7]     52615           0.108174   \n",
       "3                     [8, 15]     23488           0.107263   \n",
       "4                    [16, 31]      5925           0.079301   \n",
       "5                    [32, 63]       924           0.039749   \n",
       "6                   [64, 127]       141           0.010162   \n",
       "7                  [128, 255]        22           0.040909   \n",
       "8                  [256, 511]         2           0.000000   \n",
       "9  [512, 9223372036854775807]         1           0.000000   \n",
       "\n",
       "   identified clusters  identified clusters mean  \n",
       "0                 5720                  0.954545  \n",
       "1                 9203                  0.799105  \n",
       "2                 7802                  0.729505  \n",
       "3                 3800                  0.663000  \n",
       "4                  757                  0.620684  \n",
       "5                   50                  0.734554  \n",
       "6                    2                  0.716418  \n",
       "7                    1                  0.900000  \n",
       "8                    0                       NaN  \n",
       "9                    0                       NaN  "
      ]
     },
     "execution_count": 40,
     "metadata": {},
     "output_type": "execute_result"
    }
   ],
   "source": [
    "embeddings_quality"
   ]
  },
  {
   "cell_type": "code",
   "execution_count": 41,
   "metadata": {},
   "outputs": [
    {
     "data": {
      "application/vnd.plotly.v1+json": {
       "config": {
        "plotlyServerURL": "https://plot.ly"
       },
       "data": [
        {
         "mode": "markers+lines",
         "name": "maracluster",
         "type": "scatter",
         "x": [
          "[0, 1]",
          "[2, 3]",
          "[4, 7]",
          "[8, 15]",
          "[16, 31]",
          "[32, 63]",
          "[64, 127]",
          "[128, 255]",
          "[256, 511]",
          "[512, 9223372036854775807]"
         ],
         "y": [
          0.9635857883423948,
          0.8544045552815078,
          0.8563384240607141,
          0.867957428166323,
          0.858389030026438,
          0.8819171070590726,
          0.8721217246642993,
          0.9790328552787824,
          0.959151879572786,
          null
         ]
        },
        {
         "mode": "markers+lines",
         "name": "embeddings",
         "type": "scatter",
         "x": [
          "[0, 1]",
          "[2, 3]",
          "[4, 7]",
          "[8, 15]",
          "[16, 31]",
          "[32, 63]",
          "[64, 127]",
          "[128, 255]",
          "[256, 511]",
          "[512, 9223372036854775807]"
         ],
         "y": [
          0.9545454545454546,
          0.7991053641928356,
          0.7295049498907484,
          0.6630003045200413,
          0.6206843270704879,
          0.7345541308246853,
          0.7164179104477612,
          0.9,
          null,
          null
         ]
        },
        {
         "mode": "markers+lines",
         "name": "embeddings q < 0.01",
         "type": "scatter",
         "x": [
          "[0, 1]",
          "[2, 3]",
          "[4, 7]",
          "[8, 15]",
          "[16, 31]",
          "[32, 63]",
          "[64, 127]",
          "[128, 255]",
          "[256, 511]",
          "[512, 9223372036854775807]"
         ],
         "y": [
          0.9575233981281498,
          0.8057941810725774,
          0.7858362767209952,
          0.7917433497646187,
          0.7868333146824533,
          0.8388266059662567,
          0.9821923484496801,
          0.9928057553956836,
          null,
          0.9963099630996309
         ]
        },
        {
         "mode": "markers+lines",
         "name": "embeddings q < 0.001",
         "type": "scatter",
         "x": [
          "[0, 1]",
          "[2, 3]",
          "[4, 7]",
          "[8, 15]",
          "[16, 31]",
          "[32, 63]",
          "[64, 127]",
          "[128, 255]",
          "[256, 511]",
          "[512, 9223372036854775807]"
         ],
         "y": [
          0.9551811288963774,
          0.8153251905209313,
          0.77756192738378,
          0.7517805818562188,
          0.7181085745057263,
          0.7954997378427072,
          0.9735192061199631,
          null,
          0.9928400954653938,
          null
         ]
        },
        {
         "mode": "markers+lines",
         "name": "embeddings q < 0.01 margin 0.4",
         "type": "scatter",
         "x": [
          "[0, 1]",
          "[2, 3]",
          "[4, 7]",
          "[8, 15]",
          "[16, 31]",
          "[32, 63]",
          "[64, 127]",
          "[128, 255]",
          "[256, 511]",
          "[512, 9223372036854775807]"
         ],
         "y": [
          0.9514545117657958,
          0.7766411870503596,
          0.7365154081158265,
          0.6993365677872088,
          0.6907389044639956,
          0.7757319008925349,
          0.9955936073059359,
          0.9727891156462584,
          null,
          null
         ]
        }
       ],
       "layout": {
        "template": {
         "data": {
          "bar": [
           {
            "error_x": {
             "color": "#2a3f5f"
            },
            "error_y": {
             "color": "#2a3f5f"
            },
            "marker": {
             "line": {
              "color": "#E5ECF6",
              "width": 0.5
             }
            },
            "type": "bar"
           }
          ],
          "barpolar": [
           {
            "marker": {
             "line": {
              "color": "#E5ECF6",
              "width": 0.5
             }
            },
            "type": "barpolar"
           }
          ],
          "carpet": [
           {
            "aaxis": {
             "endlinecolor": "#2a3f5f",
             "gridcolor": "white",
             "linecolor": "white",
             "minorgridcolor": "white",
             "startlinecolor": "#2a3f5f"
            },
            "baxis": {
             "endlinecolor": "#2a3f5f",
             "gridcolor": "white",
             "linecolor": "white",
             "minorgridcolor": "white",
             "startlinecolor": "#2a3f5f"
            },
            "type": "carpet"
           }
          ],
          "choropleth": [
           {
            "colorbar": {
             "outlinewidth": 0,
             "ticks": ""
            },
            "type": "choropleth"
           }
          ],
          "contour": [
           {
            "colorbar": {
             "outlinewidth": 0,
             "ticks": ""
            },
            "colorscale": [
             [
              0,
              "#0d0887"
             ],
             [
              0.1111111111111111,
              "#46039f"
             ],
             [
              0.2222222222222222,
              "#7201a8"
             ],
             [
              0.3333333333333333,
              "#9c179e"
             ],
             [
              0.4444444444444444,
              "#bd3786"
             ],
             [
              0.5555555555555556,
              "#d8576b"
             ],
             [
              0.6666666666666666,
              "#ed7953"
             ],
             [
              0.7777777777777778,
              "#fb9f3a"
             ],
             [
              0.8888888888888888,
              "#fdca26"
             ],
             [
              1,
              "#f0f921"
             ]
            ],
            "type": "contour"
           }
          ],
          "contourcarpet": [
           {
            "colorbar": {
             "outlinewidth": 0,
             "ticks": ""
            },
            "type": "contourcarpet"
           }
          ],
          "heatmap": [
           {
            "colorbar": {
             "outlinewidth": 0,
             "ticks": ""
            },
            "colorscale": [
             [
              0,
              "#0d0887"
             ],
             [
              0.1111111111111111,
              "#46039f"
             ],
             [
              0.2222222222222222,
              "#7201a8"
             ],
             [
              0.3333333333333333,
              "#9c179e"
             ],
             [
              0.4444444444444444,
              "#bd3786"
             ],
             [
              0.5555555555555556,
              "#d8576b"
             ],
             [
              0.6666666666666666,
              "#ed7953"
             ],
             [
              0.7777777777777778,
              "#fb9f3a"
             ],
             [
              0.8888888888888888,
              "#fdca26"
             ],
             [
              1,
              "#f0f921"
             ]
            ],
            "type": "heatmap"
           }
          ],
          "heatmapgl": [
           {
            "colorbar": {
             "outlinewidth": 0,
             "ticks": ""
            },
            "colorscale": [
             [
              0,
              "#0d0887"
             ],
             [
              0.1111111111111111,
              "#46039f"
             ],
             [
              0.2222222222222222,
              "#7201a8"
             ],
             [
              0.3333333333333333,
              "#9c179e"
             ],
             [
              0.4444444444444444,
              "#bd3786"
             ],
             [
              0.5555555555555556,
              "#d8576b"
             ],
             [
              0.6666666666666666,
              "#ed7953"
             ],
             [
              0.7777777777777778,
              "#fb9f3a"
             ],
             [
              0.8888888888888888,
              "#fdca26"
             ],
             [
              1,
              "#f0f921"
             ]
            ],
            "type": "heatmapgl"
           }
          ],
          "histogram": [
           {
            "marker": {
             "colorbar": {
              "outlinewidth": 0,
              "ticks": ""
             }
            },
            "type": "histogram"
           }
          ],
          "histogram2d": [
           {
            "colorbar": {
             "outlinewidth": 0,
             "ticks": ""
            },
            "colorscale": [
             [
              0,
              "#0d0887"
             ],
             [
              0.1111111111111111,
              "#46039f"
             ],
             [
              0.2222222222222222,
              "#7201a8"
             ],
             [
              0.3333333333333333,
              "#9c179e"
             ],
             [
              0.4444444444444444,
              "#bd3786"
             ],
             [
              0.5555555555555556,
              "#d8576b"
             ],
             [
              0.6666666666666666,
              "#ed7953"
             ],
             [
              0.7777777777777778,
              "#fb9f3a"
             ],
             [
              0.8888888888888888,
              "#fdca26"
             ],
             [
              1,
              "#f0f921"
             ]
            ],
            "type": "histogram2d"
           }
          ],
          "histogram2dcontour": [
           {
            "colorbar": {
             "outlinewidth": 0,
             "ticks": ""
            },
            "colorscale": [
             [
              0,
              "#0d0887"
             ],
             [
              0.1111111111111111,
              "#46039f"
             ],
             [
              0.2222222222222222,
              "#7201a8"
             ],
             [
              0.3333333333333333,
              "#9c179e"
             ],
             [
              0.4444444444444444,
              "#bd3786"
             ],
             [
              0.5555555555555556,
              "#d8576b"
             ],
             [
              0.6666666666666666,
              "#ed7953"
             ],
             [
              0.7777777777777778,
              "#fb9f3a"
             ],
             [
              0.8888888888888888,
              "#fdca26"
             ],
             [
              1,
              "#f0f921"
             ]
            ],
            "type": "histogram2dcontour"
           }
          ],
          "mesh3d": [
           {
            "colorbar": {
             "outlinewidth": 0,
             "ticks": ""
            },
            "type": "mesh3d"
           }
          ],
          "parcoords": [
           {
            "line": {
             "colorbar": {
              "outlinewidth": 0,
              "ticks": ""
             }
            },
            "type": "parcoords"
           }
          ],
          "pie": [
           {
            "automargin": true,
            "type": "pie"
           }
          ],
          "scatter": [
           {
            "marker": {
             "colorbar": {
              "outlinewidth": 0,
              "ticks": ""
             }
            },
            "type": "scatter"
           }
          ],
          "scatter3d": [
           {
            "line": {
             "colorbar": {
              "outlinewidth": 0,
              "ticks": ""
             }
            },
            "marker": {
             "colorbar": {
              "outlinewidth": 0,
              "ticks": ""
             }
            },
            "type": "scatter3d"
           }
          ],
          "scattercarpet": [
           {
            "marker": {
             "colorbar": {
              "outlinewidth": 0,
              "ticks": ""
             }
            },
            "type": "scattercarpet"
           }
          ],
          "scattergeo": [
           {
            "marker": {
             "colorbar": {
              "outlinewidth": 0,
              "ticks": ""
             }
            },
            "type": "scattergeo"
           }
          ],
          "scattergl": [
           {
            "marker": {
             "colorbar": {
              "outlinewidth": 0,
              "ticks": ""
             }
            },
            "type": "scattergl"
           }
          ],
          "scattermapbox": [
           {
            "marker": {
             "colorbar": {
              "outlinewidth": 0,
              "ticks": ""
             }
            },
            "type": "scattermapbox"
           }
          ],
          "scatterpolar": [
           {
            "marker": {
             "colorbar": {
              "outlinewidth": 0,
              "ticks": ""
             }
            },
            "type": "scatterpolar"
           }
          ],
          "scatterpolargl": [
           {
            "marker": {
             "colorbar": {
              "outlinewidth": 0,
              "ticks": ""
             }
            },
            "type": "scatterpolargl"
           }
          ],
          "scatterternary": [
           {
            "marker": {
             "colorbar": {
              "outlinewidth": 0,
              "ticks": ""
             }
            },
            "type": "scatterternary"
           }
          ],
          "surface": [
           {
            "colorbar": {
             "outlinewidth": 0,
             "ticks": ""
            },
            "colorscale": [
             [
              0,
              "#0d0887"
             ],
             [
              0.1111111111111111,
              "#46039f"
             ],
             [
              0.2222222222222222,
              "#7201a8"
             ],
             [
              0.3333333333333333,
              "#9c179e"
             ],
             [
              0.4444444444444444,
              "#bd3786"
             ],
             [
              0.5555555555555556,
              "#d8576b"
             ],
             [
              0.6666666666666666,
              "#ed7953"
             ],
             [
              0.7777777777777778,
              "#fb9f3a"
             ],
             [
              0.8888888888888888,
              "#fdca26"
             ],
             [
              1,
              "#f0f921"
             ]
            ],
            "type": "surface"
           }
          ],
          "table": [
           {
            "cells": {
             "fill": {
              "color": "#EBF0F8"
             },
             "line": {
              "color": "white"
             }
            },
            "header": {
             "fill": {
              "color": "#C8D4E3"
             },
             "line": {
              "color": "white"
             }
            },
            "type": "table"
           }
          ]
         },
         "layout": {
          "annotationdefaults": {
           "arrowcolor": "#2a3f5f",
           "arrowhead": 0,
           "arrowwidth": 1
          },
          "coloraxis": {
           "colorbar": {
            "outlinewidth": 0,
            "ticks": ""
           }
          },
          "colorscale": {
           "diverging": [
            [
             0,
             "#8e0152"
            ],
            [
             0.1,
             "#c51b7d"
            ],
            [
             0.2,
             "#de77ae"
            ],
            [
             0.3,
             "#f1b6da"
            ],
            [
             0.4,
             "#fde0ef"
            ],
            [
             0.5,
             "#f7f7f7"
            ],
            [
             0.6,
             "#e6f5d0"
            ],
            [
             0.7,
             "#b8e186"
            ],
            [
             0.8,
             "#7fbc41"
            ],
            [
             0.9,
             "#4d9221"
            ],
            [
             1,
             "#276419"
            ]
           ],
           "sequential": [
            [
             0,
             "#0d0887"
            ],
            [
             0.1111111111111111,
             "#46039f"
            ],
            [
             0.2222222222222222,
             "#7201a8"
            ],
            [
             0.3333333333333333,
             "#9c179e"
            ],
            [
             0.4444444444444444,
             "#bd3786"
            ],
            [
             0.5555555555555556,
             "#d8576b"
            ],
            [
             0.6666666666666666,
             "#ed7953"
            ],
            [
             0.7777777777777778,
             "#fb9f3a"
            ],
            [
             0.8888888888888888,
             "#fdca26"
            ],
            [
             1,
             "#f0f921"
            ]
           ],
           "sequentialminus": [
            [
             0,
             "#0d0887"
            ],
            [
             0.1111111111111111,
             "#46039f"
            ],
            [
             0.2222222222222222,
             "#7201a8"
            ],
            [
             0.3333333333333333,
             "#9c179e"
            ],
            [
             0.4444444444444444,
             "#bd3786"
            ],
            [
             0.5555555555555556,
             "#d8576b"
            ],
            [
             0.6666666666666666,
             "#ed7953"
            ],
            [
             0.7777777777777778,
             "#fb9f3a"
            ],
            [
             0.8888888888888888,
             "#fdca26"
            ],
            [
             1,
             "#f0f921"
            ]
           ]
          },
          "colorway": [
           "#636efa",
           "#EF553B",
           "#00cc96",
           "#ab63fa",
           "#FFA15A",
           "#19d3f3",
           "#FF6692",
           "#B6E880",
           "#FF97FF",
           "#FECB52"
          ],
          "font": {
           "color": "#2a3f5f"
          },
          "geo": {
           "bgcolor": "white",
           "lakecolor": "white",
           "landcolor": "#E5ECF6",
           "showlakes": true,
           "showland": true,
           "subunitcolor": "white"
          },
          "hoverlabel": {
           "align": "left"
          },
          "hovermode": "closest",
          "mapbox": {
           "style": "light"
          },
          "paper_bgcolor": "white",
          "plot_bgcolor": "#E5ECF6",
          "polar": {
           "angularaxis": {
            "gridcolor": "white",
            "linecolor": "white",
            "ticks": ""
           },
           "bgcolor": "#E5ECF6",
           "radialaxis": {
            "gridcolor": "white",
            "linecolor": "white",
            "ticks": ""
           }
          },
          "scene": {
           "xaxis": {
            "backgroundcolor": "#E5ECF6",
            "gridcolor": "white",
            "gridwidth": 2,
            "linecolor": "white",
            "showbackground": true,
            "ticks": "",
            "zerolinecolor": "white"
           },
           "yaxis": {
            "backgroundcolor": "#E5ECF6",
            "gridcolor": "white",
            "gridwidth": 2,
            "linecolor": "white",
            "showbackground": true,
            "ticks": "",
            "zerolinecolor": "white"
           },
           "zaxis": {
            "backgroundcolor": "#E5ECF6",
            "gridcolor": "white",
            "gridwidth": 2,
            "linecolor": "white",
            "showbackground": true,
            "ticks": "",
            "zerolinecolor": "white"
           }
          },
          "shapedefaults": {
           "line": {
            "color": "#2a3f5f"
           }
          },
          "ternary": {
           "aaxis": {
            "gridcolor": "white",
            "linecolor": "white",
            "ticks": ""
           },
           "baxis": {
            "gridcolor": "white",
            "linecolor": "white",
            "ticks": ""
           },
           "bgcolor": "#E5ECF6",
           "caxis": {
            "gridcolor": "white",
            "linecolor": "white",
            "ticks": ""
           }
          },
          "title": {
           "x": 0.05
          },
          "xaxis": {
           "automargin": true,
           "gridcolor": "white",
           "linecolor": "white",
           "ticks": "",
           "title": {
            "standoff": 15
           },
           "zerolinecolor": "white",
           "zerolinewidth": 2
          },
          "yaxis": {
           "automargin": true,
           "gridcolor": "white",
           "linecolor": "white",
           "ticks": "",
           "title": {
            "standoff": 15
           },
           "zerolinecolor": "white",
           "zerolinewidth": 2
          }
         }
        },
        "xaxis": {
         "title": {
          "text": "<b>Cluster size</b>"
         }
        },
        "yaxis": {
         "title": {
          "text": "<b>Average purity</b><br>(identified clusters purity) / (# of identified clusters)"
         }
        }
       }
      },
      "text/html": [
       "<div>\n",
       "        \n",
       "        \n",
       "            <div id=\"835b54ce-cb1d-4e0d-9856-f1d7b1a54173\" class=\"plotly-graph-div\" style=\"height:525px; width:100%;\"></div>\n",
       "            <script type=\"text/javascript\">\n",
       "                require([\"plotly\"], function(Plotly) {\n",
       "                    window.PLOTLYENV=window.PLOTLYENV || {};\n",
       "                    \n",
       "                if (document.getElementById(\"835b54ce-cb1d-4e0d-9856-f1d7b1a54173\")) {\n",
       "                    Plotly.newPlot(\n",
       "                        '835b54ce-cb1d-4e0d-9856-f1d7b1a54173',\n",
       "                        [{\"mode\": \"markers+lines\", \"name\": \"maracluster\", \"type\": \"scatter\", \"x\": [\"[0, 1]\", \"[2, 3]\", \"[4, 7]\", \"[8, 15]\", \"[16, 31]\", \"[32, 63]\", \"[64, 127]\", \"[128, 255]\", \"[256, 511]\", \"[512, 9223372036854775807]\"], \"y\": [0.9635857883423948, 0.8544045552815078, 0.8563384240607141, 0.867957428166323, 0.858389030026438, 0.8819171070590726, 0.8721217246642993, 0.9790328552787824, 0.959151879572786, null]}, {\"mode\": \"markers+lines\", \"name\": \"embeddings\", \"type\": \"scatter\", \"x\": [\"[0, 1]\", \"[2, 3]\", \"[4, 7]\", \"[8, 15]\", \"[16, 31]\", \"[32, 63]\", \"[64, 127]\", \"[128, 255]\", \"[256, 511]\", \"[512, 9223372036854775807]\"], \"y\": [0.9545454545454546, 0.7991053641928356, 0.7295049498907484, 0.6630003045200413, 0.6206843270704879, 0.7345541308246853, 0.7164179104477612, 0.9, null, null]}, {\"mode\": \"markers+lines\", \"name\": \"embeddings q < 0.01\", \"type\": \"scatter\", \"x\": [\"[0, 1]\", \"[2, 3]\", \"[4, 7]\", \"[8, 15]\", \"[16, 31]\", \"[32, 63]\", \"[64, 127]\", \"[128, 255]\", \"[256, 511]\", \"[512, 9223372036854775807]\"], \"y\": [0.9575233981281498, 0.8057941810725774, 0.7858362767209952, 0.7917433497646187, 0.7868333146824533, 0.8388266059662567, 0.9821923484496801, 0.9928057553956836, null, 0.9963099630996309]}, {\"mode\": \"markers+lines\", \"name\": \"embeddings q < 0.001\", \"type\": \"scatter\", \"x\": [\"[0, 1]\", \"[2, 3]\", \"[4, 7]\", \"[8, 15]\", \"[16, 31]\", \"[32, 63]\", \"[64, 127]\", \"[128, 255]\", \"[256, 511]\", \"[512, 9223372036854775807]\"], \"y\": [0.9551811288963774, 0.8153251905209313, 0.77756192738378, 0.7517805818562188, 0.7181085745057263, 0.7954997378427072, 0.9735192061199631, null, 0.9928400954653938, null]}, {\"mode\": \"markers+lines\", \"name\": \"embeddings q < 0.01 margin 0.4\", \"type\": \"scatter\", \"x\": [\"[0, 1]\", \"[2, 3]\", \"[4, 7]\", \"[8, 15]\", \"[16, 31]\", \"[32, 63]\", \"[64, 127]\", \"[128, 255]\", \"[256, 511]\", \"[512, 9223372036854775807]\"], \"y\": [0.9514545117657958, 0.7766411870503596, 0.7365154081158265, 0.6993365677872088, 0.6907389044639956, 0.7757319008925349, 0.9955936073059359, 0.9727891156462584, null, null]}],\n",
       "                        {\"template\": {\"data\": {\"bar\": [{\"error_x\": {\"color\": \"#2a3f5f\"}, \"error_y\": {\"color\": \"#2a3f5f\"}, \"marker\": {\"line\": {\"color\": \"#E5ECF6\", \"width\": 0.5}}, \"type\": \"bar\"}], \"barpolar\": [{\"marker\": {\"line\": {\"color\": \"#E5ECF6\", \"width\": 0.5}}, \"type\": \"barpolar\"}], \"carpet\": [{\"aaxis\": {\"endlinecolor\": \"#2a3f5f\", \"gridcolor\": \"white\", \"linecolor\": \"white\", \"minorgridcolor\": \"white\", \"startlinecolor\": \"#2a3f5f\"}, \"baxis\": {\"endlinecolor\": \"#2a3f5f\", \"gridcolor\": \"white\", \"linecolor\": \"white\", \"minorgridcolor\": \"white\", \"startlinecolor\": \"#2a3f5f\"}, \"type\": \"carpet\"}], \"choropleth\": [{\"colorbar\": {\"outlinewidth\": 0, \"ticks\": \"\"}, \"type\": \"choropleth\"}], \"contour\": [{\"colorbar\": {\"outlinewidth\": 0, \"ticks\": \"\"}, \"colorscale\": [[0.0, \"#0d0887\"], [0.1111111111111111, \"#46039f\"], [0.2222222222222222, \"#7201a8\"], [0.3333333333333333, \"#9c179e\"], [0.4444444444444444, \"#bd3786\"], [0.5555555555555556, \"#d8576b\"], [0.6666666666666666, \"#ed7953\"], [0.7777777777777778, \"#fb9f3a\"], [0.8888888888888888, \"#fdca26\"], [1.0, \"#f0f921\"]], \"type\": \"contour\"}], \"contourcarpet\": [{\"colorbar\": {\"outlinewidth\": 0, \"ticks\": \"\"}, \"type\": \"contourcarpet\"}], \"heatmap\": [{\"colorbar\": {\"outlinewidth\": 0, \"ticks\": \"\"}, \"colorscale\": [[0.0, \"#0d0887\"], [0.1111111111111111, \"#46039f\"], [0.2222222222222222, \"#7201a8\"], [0.3333333333333333, \"#9c179e\"], [0.4444444444444444, \"#bd3786\"], [0.5555555555555556, \"#d8576b\"], [0.6666666666666666, \"#ed7953\"], [0.7777777777777778, \"#fb9f3a\"], [0.8888888888888888, \"#fdca26\"], [1.0, \"#f0f921\"]], \"type\": \"heatmap\"}], \"heatmapgl\": [{\"colorbar\": {\"outlinewidth\": 0, \"ticks\": \"\"}, \"colorscale\": [[0.0, \"#0d0887\"], [0.1111111111111111, \"#46039f\"], [0.2222222222222222, \"#7201a8\"], [0.3333333333333333, \"#9c179e\"], [0.4444444444444444, \"#bd3786\"], [0.5555555555555556, \"#d8576b\"], [0.6666666666666666, \"#ed7953\"], [0.7777777777777778, \"#fb9f3a\"], [0.8888888888888888, \"#fdca26\"], [1.0, \"#f0f921\"]], \"type\": \"heatmapgl\"}], \"histogram\": [{\"marker\": {\"colorbar\": {\"outlinewidth\": 0, \"ticks\": \"\"}}, \"type\": \"histogram\"}], \"histogram2d\": [{\"colorbar\": {\"outlinewidth\": 0, \"ticks\": \"\"}, \"colorscale\": [[0.0, \"#0d0887\"], [0.1111111111111111, \"#46039f\"], [0.2222222222222222, \"#7201a8\"], [0.3333333333333333, \"#9c179e\"], [0.4444444444444444, \"#bd3786\"], [0.5555555555555556, \"#d8576b\"], [0.6666666666666666, \"#ed7953\"], [0.7777777777777778, \"#fb9f3a\"], [0.8888888888888888, \"#fdca26\"], [1.0, \"#f0f921\"]], \"type\": \"histogram2d\"}], \"histogram2dcontour\": [{\"colorbar\": {\"outlinewidth\": 0, \"ticks\": \"\"}, \"colorscale\": [[0.0, \"#0d0887\"], [0.1111111111111111, \"#46039f\"], [0.2222222222222222, \"#7201a8\"], [0.3333333333333333, \"#9c179e\"], [0.4444444444444444, \"#bd3786\"], [0.5555555555555556, \"#d8576b\"], [0.6666666666666666, \"#ed7953\"], [0.7777777777777778, \"#fb9f3a\"], [0.8888888888888888, \"#fdca26\"], [1.0, \"#f0f921\"]], \"type\": \"histogram2dcontour\"}], \"mesh3d\": [{\"colorbar\": {\"outlinewidth\": 0, \"ticks\": \"\"}, \"type\": \"mesh3d\"}], \"parcoords\": [{\"line\": {\"colorbar\": {\"outlinewidth\": 0, \"ticks\": \"\"}}, \"type\": \"parcoords\"}], \"pie\": [{\"automargin\": true, \"type\": \"pie\"}], \"scatter\": [{\"marker\": {\"colorbar\": {\"outlinewidth\": 0, \"ticks\": \"\"}}, \"type\": \"scatter\"}], \"scatter3d\": [{\"line\": {\"colorbar\": {\"outlinewidth\": 0, \"ticks\": \"\"}}, \"marker\": {\"colorbar\": {\"outlinewidth\": 0, \"ticks\": \"\"}}, \"type\": \"scatter3d\"}], \"scattercarpet\": [{\"marker\": {\"colorbar\": {\"outlinewidth\": 0, \"ticks\": \"\"}}, \"type\": \"scattercarpet\"}], \"scattergeo\": [{\"marker\": {\"colorbar\": {\"outlinewidth\": 0, \"ticks\": \"\"}}, \"type\": \"scattergeo\"}], \"scattergl\": [{\"marker\": {\"colorbar\": {\"outlinewidth\": 0, \"ticks\": \"\"}}, \"type\": \"scattergl\"}], \"scattermapbox\": [{\"marker\": {\"colorbar\": {\"outlinewidth\": 0, \"ticks\": \"\"}}, \"type\": \"scattermapbox\"}], \"scatterpolar\": [{\"marker\": {\"colorbar\": {\"outlinewidth\": 0, \"ticks\": \"\"}}, \"type\": \"scatterpolar\"}], \"scatterpolargl\": [{\"marker\": {\"colorbar\": {\"outlinewidth\": 0, \"ticks\": \"\"}}, \"type\": \"scatterpolargl\"}], \"scatterternary\": [{\"marker\": {\"colorbar\": {\"outlinewidth\": 0, \"ticks\": \"\"}}, \"type\": \"scatterternary\"}], \"surface\": [{\"colorbar\": {\"outlinewidth\": 0, \"ticks\": \"\"}, \"colorscale\": [[0.0, \"#0d0887\"], [0.1111111111111111, \"#46039f\"], [0.2222222222222222, \"#7201a8\"], [0.3333333333333333, \"#9c179e\"], [0.4444444444444444, \"#bd3786\"], [0.5555555555555556, \"#d8576b\"], [0.6666666666666666, \"#ed7953\"], [0.7777777777777778, \"#fb9f3a\"], [0.8888888888888888, \"#fdca26\"], [1.0, \"#f0f921\"]], \"type\": \"surface\"}], \"table\": [{\"cells\": {\"fill\": {\"color\": \"#EBF0F8\"}, \"line\": {\"color\": \"white\"}}, \"header\": {\"fill\": {\"color\": \"#C8D4E3\"}, \"line\": {\"color\": \"white\"}}, \"type\": \"table\"}]}, \"layout\": {\"annotationdefaults\": {\"arrowcolor\": \"#2a3f5f\", \"arrowhead\": 0, \"arrowwidth\": 1}, \"coloraxis\": {\"colorbar\": {\"outlinewidth\": 0, \"ticks\": \"\"}}, \"colorscale\": {\"diverging\": [[0, \"#8e0152\"], [0.1, \"#c51b7d\"], [0.2, \"#de77ae\"], [0.3, \"#f1b6da\"], [0.4, \"#fde0ef\"], [0.5, \"#f7f7f7\"], [0.6, \"#e6f5d0\"], [0.7, \"#b8e186\"], [0.8, \"#7fbc41\"], [0.9, \"#4d9221\"], [1, \"#276419\"]], \"sequential\": [[0.0, \"#0d0887\"], [0.1111111111111111, \"#46039f\"], [0.2222222222222222, \"#7201a8\"], [0.3333333333333333, \"#9c179e\"], [0.4444444444444444, \"#bd3786\"], [0.5555555555555556, \"#d8576b\"], [0.6666666666666666, \"#ed7953\"], [0.7777777777777778, \"#fb9f3a\"], [0.8888888888888888, \"#fdca26\"], [1.0, \"#f0f921\"]], \"sequentialminus\": [[0.0, \"#0d0887\"], [0.1111111111111111, \"#46039f\"], [0.2222222222222222, \"#7201a8\"], [0.3333333333333333, \"#9c179e\"], [0.4444444444444444, \"#bd3786\"], [0.5555555555555556, \"#d8576b\"], [0.6666666666666666, \"#ed7953\"], [0.7777777777777778, \"#fb9f3a\"], [0.8888888888888888, \"#fdca26\"], [1.0, \"#f0f921\"]]}, \"colorway\": [\"#636efa\", \"#EF553B\", \"#00cc96\", \"#ab63fa\", \"#FFA15A\", \"#19d3f3\", \"#FF6692\", \"#B6E880\", \"#FF97FF\", \"#FECB52\"], \"font\": {\"color\": \"#2a3f5f\"}, \"geo\": {\"bgcolor\": \"white\", \"lakecolor\": \"white\", \"landcolor\": \"#E5ECF6\", \"showlakes\": true, \"showland\": true, \"subunitcolor\": \"white\"}, \"hoverlabel\": {\"align\": \"left\"}, \"hovermode\": \"closest\", \"mapbox\": {\"style\": \"light\"}, \"paper_bgcolor\": \"white\", \"plot_bgcolor\": \"#E5ECF6\", \"polar\": {\"angularaxis\": {\"gridcolor\": \"white\", \"linecolor\": \"white\", \"ticks\": \"\"}, \"bgcolor\": \"#E5ECF6\", \"radialaxis\": {\"gridcolor\": \"white\", \"linecolor\": \"white\", \"ticks\": \"\"}}, \"scene\": {\"xaxis\": {\"backgroundcolor\": \"#E5ECF6\", \"gridcolor\": \"white\", \"gridwidth\": 2, \"linecolor\": \"white\", \"showbackground\": true, \"ticks\": \"\", \"zerolinecolor\": \"white\"}, \"yaxis\": {\"backgroundcolor\": \"#E5ECF6\", \"gridcolor\": \"white\", \"gridwidth\": 2, \"linecolor\": \"white\", \"showbackground\": true, \"ticks\": \"\", \"zerolinecolor\": \"white\"}, \"zaxis\": {\"backgroundcolor\": \"#E5ECF6\", \"gridcolor\": \"white\", \"gridwidth\": 2, \"linecolor\": \"white\", \"showbackground\": true, \"ticks\": \"\", \"zerolinecolor\": \"white\"}}, \"shapedefaults\": {\"line\": {\"color\": \"#2a3f5f\"}}, \"ternary\": {\"aaxis\": {\"gridcolor\": \"white\", \"linecolor\": \"white\", \"ticks\": \"\"}, \"baxis\": {\"gridcolor\": \"white\", \"linecolor\": \"white\", \"ticks\": \"\"}, \"bgcolor\": \"#E5ECF6\", \"caxis\": {\"gridcolor\": \"white\", \"linecolor\": \"white\", \"ticks\": \"\"}}, \"title\": {\"x\": 0.05}, \"xaxis\": {\"automargin\": true, \"gridcolor\": \"white\", \"linecolor\": \"white\", \"ticks\": \"\", \"title\": {\"standoff\": 15}, \"zerolinecolor\": \"white\", \"zerolinewidth\": 2}, \"yaxis\": {\"automargin\": true, \"gridcolor\": \"white\", \"linecolor\": \"white\", \"ticks\": \"\", \"title\": {\"standoff\": 15}, \"zerolinecolor\": \"white\", \"zerolinewidth\": 2}}}, \"xaxis\": {\"title\": {\"text\": \"<b>Cluster size</b>\"}}, \"yaxis\": {\"title\": {\"text\": \"<b>Average purity</b><br>(identified clusters purity) / (# of identified clusters)\"}}},\n",
       "                        {\"responsive\": true}\n",
       "                    ).then(function(){\n",
       "                            \n",
       "var gd = document.getElementById('835b54ce-cb1d-4e0d-9856-f1d7b1a54173');\n",
       "var x = new MutationObserver(function (mutations, observer) {{\n",
       "        var display = window.getComputedStyle(gd).display;\n",
       "        if (!display || display === 'none') {{\n",
       "            console.log([gd, 'removed!']);\n",
       "            Plotly.purge(gd);\n",
       "            observer.disconnect();\n",
       "        }}\n",
       "}});\n",
       "\n",
       "// Listen for the removal of the full notebook cells\n",
       "var notebookContainer = gd.closest('#notebook-container');\n",
       "if (notebookContainer) {{\n",
       "    x.observe(notebookContainer, {childList: true});\n",
       "}}\n",
       "\n",
       "// Listen for the clearing of the current output cell\n",
       "var outputEl = gd.closest('.output');\n",
       "if (outputEl) {{\n",
       "    x.observe(outputEl, {childList: true});\n",
       "}}\n",
       "\n",
       "                        })\n",
       "                };\n",
       "                });\n",
       "            </script>\n",
       "        </div>"
      ]
     },
     "metadata": {},
     "output_type": "display_data"
    }
   ],
   "source": [
    "fig = go.Figure()\n",
    "\n",
    "fig.update_layout(yaxis_title=\"<b>Average purity</b><br>(identified clusters purity) / (# of identified clusters)\",\n",
    "                  xaxis_title=\"<b>Cluster size</b>\")\n",
    "\n",
    "fig.add_trace(go.Scatter(x = maraclusters_quality['size'], \n",
    "                         y = maraclusters_quality['identified clusters mean'], \n",
    "                         mode=\"markers+lines\",\n",
    "                         name=\"maracluster\"))\n",
    "\n",
    "fig.add_trace(go.Scatter(x = embeddings_quality['size'], \n",
    "                         y = embeddings_quality['identified clusters mean'], \n",
    "                         mode=\"markers+lines\",\n",
    "                         name=\"embeddings\"))\n",
    "\n",
    "fig.add_trace(go.Scatter(x = q01_quality['size'], \n",
    "                         y = q01_quality['identified clusters mean'], \n",
    "                         mode=\"markers+lines\",\n",
    "                         name=\"embeddings q < 0.01\"))\n",
    "\n",
    "fig.add_trace(go.Scatter(x = q001_quality['size'], \n",
    "                         y = q001_quality['identified clusters mean'], \n",
    "                         mode=\"markers+lines\", \n",
    "                         name=\"embeddings q < 0.001\"))\n",
    "\n",
    "fig.add_trace(go.Scatter(x = q01_quality_04['size'], \n",
    "                         y = q01_quality_04['identified clusters mean'], \n",
    "                         mode=\"markers+lines\",\n",
    "                         name=\"embeddings q < 0.01 margin 0.4\"))\n",
    "\n"
   ]
  },
  {
   "cell_type": "code",
   "execution_count": 42,
   "metadata": {
    "scrolled": false
   },
   "outputs": [
    {
     "data": {
      "application/vnd.plotly.v1+json": {
       "config": {
        "plotlyServerURL": "https://plot.ly"
       },
       "data": [
        {
         "line": {
          "color": "red",
          "width": 3
         },
         "mode": "markers+lines",
         "name": "maracluster",
         "opacity": 0.5,
         "type": "scatter",
         "x": [
          "[0, 1]",
          "[2, 3]",
          "[4, 7]",
          "[8, 15]",
          "[16, 31]",
          "[32, 63]",
          "[64, 127]",
          "[128, 255]",
          "[256, 511]",
          "[512, 9223372036854775807]"
         ],
         "y": [
          67806,
          65268,
          41860,
          21621,
          6753,
          1512,
          298,
          66,
          19,
          1
         ]
        },
        {
         "line": {
          "color": "black",
          "width": 3
         },
         "mode": "markers+lines",
         "name": "embeddings",
         "opacity": 0.5,
         "type": "scatter",
         "x": [
          "[0, 1]",
          "[2, 3]",
          "[4, 7]",
          "[8, 15]",
          "[16, 31]",
          "[32, 63]",
          "[64, 127]",
          "[128, 255]",
          "[256, 511]",
          "[512, 9223372036854775807]"
         ],
         "y": [
          55401,
          70474,
          52615,
          23488,
          5925,
          924,
          141,
          22,
          2,
          1
         ]
        },
        {
         "line": {
          "color": "blue",
          "width": 3
         },
         "mode": "markers+lines",
         "name": "embeddings q < 0.01",
         "opacity": 0.5,
         "type": "scatter",
         "x": [
          "[0, 1]",
          "[2, 3]",
          "[4, 7]",
          "[8, 15]",
          "[16, 31]",
          "[32, 63]",
          "[64, 127]",
          "[128, 255]",
          "[256, 511]",
          "[512, 9223372036854775807]"
         ],
         "y": [
          51006,
          65337,
          50835,
          23768,
          6387,
          1089,
          173,
          25,
          5,
          1
         ]
        },
        {
         "line": {
          "color": "green",
          "width": 3
         },
         "mode": "markers+lines",
         "name": "embeddings q < 0.001",
         "opacity": 0.5,
         "type": "scatter",
         "x": [
          "[0, 1]",
          "[2, 3]",
          "[4, 7]",
          "[8, 15]",
          "[16, 31]",
          "[32, 63]",
          "[64, 127]",
          "[128, 255]",
          "[256, 511]",
          "[512, 9223372036854775807]"
         ],
         "y": [
          56690,
          66490,
          50173,
          24203,
          6311,
          971,
          118,
          22,
          9,
          0
         ]
        },
        {
         "line": {
          "color": "orange",
          "width": 3
         },
         "mode": "markers+lines",
         "name": "embeddings q < 0.01 margin 0.4",
         "opacity": 0.5,
         "type": "scatter",
         "x": [
          "[0, 1]",
          "[2, 3]",
          "[4, 7]",
          "[8, 15]",
          "[16, 31]",
          "[32, 63]",
          "[64, 127]",
          "[128, 255]",
          "[256, 511]",
          "[512, 9223372036854775807]"
         ],
         "y": [
          50864,
          63621,
          51714,
          25274,
          6392,
          876,
          114,
          19,
          4,
          1
         ]
        },
        {
         "line": {
          "color": "red",
          "dash": "dash",
          "width": 3
         },
         "mode": "markers+lines",
         "name": "identified maracluster",
         "opacity": 0.5,
         "type": "scatter",
         "x": [
          "[0, 1]",
          "[2, 3]",
          "[4, 7]",
          "[8, 15]",
          "[16, 31]",
          "[32, 63]",
          "[64, 127]",
          "[128, 255]",
          "[256, 511]",
          "[512, 9223372036854775807]"
         ],
         "y": [
          7909,
          10947,
          10673,
          6678,
          1748,
          266,
          57,
          11,
          4,
          0
         ]
        },
        {
         "line": {
          "color": "black",
          "dash": "dash",
          "width": 3
         },
         "mode": "markers+lines",
         "name": "identified embeddings",
         "opacity": 0.5,
         "type": "scatter",
         "x": [
          "[0, 1]",
          "[2, 3]",
          "[4, 7]",
          "[8, 15]",
          "[16, 31]",
          "[32, 63]",
          "[64, 127]",
          "[128, 255]",
          "[256, 511]",
          "[512, 9223372036854775807]"
         ],
         "y": [
          5720,
          9203,
          7802,
          3800,
          757,
          50,
          2,
          1,
          0,
          0
         ]
        },
        {
         "line": {
          "color": "blue",
          "dash": "dash",
          "width": 3
         },
         "mode": "markers+lines",
         "name": "identified embeddings q < 0.01",
         "opacity": 0.5,
         "type": "scatter",
         "x": [
          "[0, 1]",
          "[2, 3]",
          "[4, 7]",
          "[8, 15]",
          "[16, 31]",
          "[32, 63]",
          "[64, 127]",
          "[128, 255]",
          "[256, 511]",
          "[512, 9223372036854775807]"
         ],
         "y": [
          5556,
          9429,
          10071,
          5501,
          1196,
          115,
          11,
          2,
          0,
          1
         ]
        },
        {
         "line": {
          "color": "green",
          "dash": "dash",
          "width": 3
         },
         "mode": "markers+lines",
         "name": "identified embeddings q < 0.001",
         "opacity": 0.5,
         "type": "scatter",
         "x": [
          "[0, 1]",
          "[2, 3]",
          "[4, 7]",
          "[8, 15]",
          "[16, 31]",
          "[32, 63]",
          "[64, 127]",
          "[128, 255]",
          "[256, 511]",
          "[512, 9223372036854775807]"
         ],
         "y": [
          5935,
          9579,
          9262,
          5024,
          1010,
          67,
          6,
          0,
          1,
          0
         ]
        },
        {
         "line": {
          "color": "orange",
          "dash": "dash",
          "width": 3
         },
         "mode": "markers+lines",
         "name": "identified embeddings q < 0.01 margin 0.4",
         "opacity": 0.5,
         "type": "scatter",
         "x": [
          "[0, 1]",
          "[2, 3]",
          "[4, 7]",
          "[8, 15]",
          "[16, 31]",
          "[32, 63]",
          "[64, 127]",
          "[128, 255]",
          "[256, 511]",
          "[512, 9223372036854775807]"
         ],
         "y": [
          5397,
          8896,
          8604,
          4447,
          904,
          63,
          5,
          2,
          0,
          0
         ]
        }
       ],
       "layout": {
        "height": 750,
        "template": {
         "data": {
          "bar": [
           {
            "error_x": {
             "color": "#2a3f5f"
            },
            "error_y": {
             "color": "#2a3f5f"
            },
            "marker": {
             "line": {
              "color": "#E5ECF6",
              "width": 0.5
             }
            },
            "type": "bar"
           }
          ],
          "barpolar": [
           {
            "marker": {
             "line": {
              "color": "#E5ECF6",
              "width": 0.5
             }
            },
            "type": "barpolar"
           }
          ],
          "carpet": [
           {
            "aaxis": {
             "endlinecolor": "#2a3f5f",
             "gridcolor": "white",
             "linecolor": "white",
             "minorgridcolor": "white",
             "startlinecolor": "#2a3f5f"
            },
            "baxis": {
             "endlinecolor": "#2a3f5f",
             "gridcolor": "white",
             "linecolor": "white",
             "minorgridcolor": "white",
             "startlinecolor": "#2a3f5f"
            },
            "type": "carpet"
           }
          ],
          "choropleth": [
           {
            "colorbar": {
             "outlinewidth": 0,
             "ticks": ""
            },
            "type": "choropleth"
           }
          ],
          "contour": [
           {
            "colorbar": {
             "outlinewidth": 0,
             "ticks": ""
            },
            "colorscale": [
             [
              0,
              "#0d0887"
             ],
             [
              0.1111111111111111,
              "#46039f"
             ],
             [
              0.2222222222222222,
              "#7201a8"
             ],
             [
              0.3333333333333333,
              "#9c179e"
             ],
             [
              0.4444444444444444,
              "#bd3786"
             ],
             [
              0.5555555555555556,
              "#d8576b"
             ],
             [
              0.6666666666666666,
              "#ed7953"
             ],
             [
              0.7777777777777778,
              "#fb9f3a"
             ],
             [
              0.8888888888888888,
              "#fdca26"
             ],
             [
              1,
              "#f0f921"
             ]
            ],
            "type": "contour"
           }
          ],
          "contourcarpet": [
           {
            "colorbar": {
             "outlinewidth": 0,
             "ticks": ""
            },
            "type": "contourcarpet"
           }
          ],
          "heatmap": [
           {
            "colorbar": {
             "outlinewidth": 0,
             "ticks": ""
            },
            "colorscale": [
             [
              0,
              "#0d0887"
             ],
             [
              0.1111111111111111,
              "#46039f"
             ],
             [
              0.2222222222222222,
              "#7201a8"
             ],
             [
              0.3333333333333333,
              "#9c179e"
             ],
             [
              0.4444444444444444,
              "#bd3786"
             ],
             [
              0.5555555555555556,
              "#d8576b"
             ],
             [
              0.6666666666666666,
              "#ed7953"
             ],
             [
              0.7777777777777778,
              "#fb9f3a"
             ],
             [
              0.8888888888888888,
              "#fdca26"
             ],
             [
              1,
              "#f0f921"
             ]
            ],
            "type": "heatmap"
           }
          ],
          "heatmapgl": [
           {
            "colorbar": {
             "outlinewidth": 0,
             "ticks": ""
            },
            "colorscale": [
             [
              0,
              "#0d0887"
             ],
             [
              0.1111111111111111,
              "#46039f"
             ],
             [
              0.2222222222222222,
              "#7201a8"
             ],
             [
              0.3333333333333333,
              "#9c179e"
             ],
             [
              0.4444444444444444,
              "#bd3786"
             ],
             [
              0.5555555555555556,
              "#d8576b"
             ],
             [
              0.6666666666666666,
              "#ed7953"
             ],
             [
              0.7777777777777778,
              "#fb9f3a"
             ],
             [
              0.8888888888888888,
              "#fdca26"
             ],
             [
              1,
              "#f0f921"
             ]
            ],
            "type": "heatmapgl"
           }
          ],
          "histogram": [
           {
            "marker": {
             "colorbar": {
              "outlinewidth": 0,
              "ticks": ""
             }
            },
            "type": "histogram"
           }
          ],
          "histogram2d": [
           {
            "colorbar": {
             "outlinewidth": 0,
             "ticks": ""
            },
            "colorscale": [
             [
              0,
              "#0d0887"
             ],
             [
              0.1111111111111111,
              "#46039f"
             ],
             [
              0.2222222222222222,
              "#7201a8"
             ],
             [
              0.3333333333333333,
              "#9c179e"
             ],
             [
              0.4444444444444444,
              "#bd3786"
             ],
             [
              0.5555555555555556,
              "#d8576b"
             ],
             [
              0.6666666666666666,
              "#ed7953"
             ],
             [
              0.7777777777777778,
              "#fb9f3a"
             ],
             [
              0.8888888888888888,
              "#fdca26"
             ],
             [
              1,
              "#f0f921"
             ]
            ],
            "type": "histogram2d"
           }
          ],
          "histogram2dcontour": [
           {
            "colorbar": {
             "outlinewidth": 0,
             "ticks": ""
            },
            "colorscale": [
             [
              0,
              "#0d0887"
             ],
             [
              0.1111111111111111,
              "#46039f"
             ],
             [
              0.2222222222222222,
              "#7201a8"
             ],
             [
              0.3333333333333333,
              "#9c179e"
             ],
             [
              0.4444444444444444,
              "#bd3786"
             ],
             [
              0.5555555555555556,
              "#d8576b"
             ],
             [
              0.6666666666666666,
              "#ed7953"
             ],
             [
              0.7777777777777778,
              "#fb9f3a"
             ],
             [
              0.8888888888888888,
              "#fdca26"
             ],
             [
              1,
              "#f0f921"
             ]
            ],
            "type": "histogram2dcontour"
           }
          ],
          "mesh3d": [
           {
            "colorbar": {
             "outlinewidth": 0,
             "ticks": ""
            },
            "type": "mesh3d"
           }
          ],
          "parcoords": [
           {
            "line": {
             "colorbar": {
              "outlinewidth": 0,
              "ticks": ""
             }
            },
            "type": "parcoords"
           }
          ],
          "pie": [
           {
            "automargin": true,
            "type": "pie"
           }
          ],
          "scatter": [
           {
            "marker": {
             "colorbar": {
              "outlinewidth": 0,
              "ticks": ""
             }
            },
            "type": "scatter"
           }
          ],
          "scatter3d": [
           {
            "line": {
             "colorbar": {
              "outlinewidth": 0,
              "ticks": ""
             }
            },
            "marker": {
             "colorbar": {
              "outlinewidth": 0,
              "ticks": ""
             }
            },
            "type": "scatter3d"
           }
          ],
          "scattercarpet": [
           {
            "marker": {
             "colorbar": {
              "outlinewidth": 0,
              "ticks": ""
             }
            },
            "type": "scattercarpet"
           }
          ],
          "scattergeo": [
           {
            "marker": {
             "colorbar": {
              "outlinewidth": 0,
              "ticks": ""
             }
            },
            "type": "scattergeo"
           }
          ],
          "scattergl": [
           {
            "marker": {
             "colorbar": {
              "outlinewidth": 0,
              "ticks": ""
             }
            },
            "type": "scattergl"
           }
          ],
          "scattermapbox": [
           {
            "marker": {
             "colorbar": {
              "outlinewidth": 0,
              "ticks": ""
             }
            },
            "type": "scattermapbox"
           }
          ],
          "scatterpolar": [
           {
            "marker": {
             "colorbar": {
              "outlinewidth": 0,
              "ticks": ""
             }
            },
            "type": "scatterpolar"
           }
          ],
          "scatterpolargl": [
           {
            "marker": {
             "colorbar": {
              "outlinewidth": 0,
              "ticks": ""
             }
            },
            "type": "scatterpolargl"
           }
          ],
          "scatterternary": [
           {
            "marker": {
             "colorbar": {
              "outlinewidth": 0,
              "ticks": ""
             }
            },
            "type": "scatterternary"
           }
          ],
          "surface": [
           {
            "colorbar": {
             "outlinewidth": 0,
             "ticks": ""
            },
            "colorscale": [
             [
              0,
              "#0d0887"
             ],
             [
              0.1111111111111111,
              "#46039f"
             ],
             [
              0.2222222222222222,
              "#7201a8"
             ],
             [
              0.3333333333333333,
              "#9c179e"
             ],
             [
              0.4444444444444444,
              "#bd3786"
             ],
             [
              0.5555555555555556,
              "#d8576b"
             ],
             [
              0.6666666666666666,
              "#ed7953"
             ],
             [
              0.7777777777777778,
              "#fb9f3a"
             ],
             [
              0.8888888888888888,
              "#fdca26"
             ],
             [
              1,
              "#f0f921"
             ]
            ],
            "type": "surface"
           }
          ],
          "table": [
           {
            "cells": {
             "fill": {
              "color": "#EBF0F8"
             },
             "line": {
              "color": "white"
             }
            },
            "header": {
             "fill": {
              "color": "#C8D4E3"
             },
             "line": {
              "color": "white"
             }
            },
            "type": "table"
           }
          ]
         },
         "layout": {
          "annotationdefaults": {
           "arrowcolor": "#2a3f5f",
           "arrowhead": 0,
           "arrowwidth": 1
          },
          "coloraxis": {
           "colorbar": {
            "outlinewidth": 0,
            "ticks": ""
           }
          },
          "colorscale": {
           "diverging": [
            [
             0,
             "#8e0152"
            ],
            [
             0.1,
             "#c51b7d"
            ],
            [
             0.2,
             "#de77ae"
            ],
            [
             0.3,
             "#f1b6da"
            ],
            [
             0.4,
             "#fde0ef"
            ],
            [
             0.5,
             "#f7f7f7"
            ],
            [
             0.6,
             "#e6f5d0"
            ],
            [
             0.7,
             "#b8e186"
            ],
            [
             0.8,
             "#7fbc41"
            ],
            [
             0.9,
             "#4d9221"
            ],
            [
             1,
             "#276419"
            ]
           ],
           "sequential": [
            [
             0,
             "#0d0887"
            ],
            [
             0.1111111111111111,
             "#46039f"
            ],
            [
             0.2222222222222222,
             "#7201a8"
            ],
            [
             0.3333333333333333,
             "#9c179e"
            ],
            [
             0.4444444444444444,
             "#bd3786"
            ],
            [
             0.5555555555555556,
             "#d8576b"
            ],
            [
             0.6666666666666666,
             "#ed7953"
            ],
            [
             0.7777777777777778,
             "#fb9f3a"
            ],
            [
             0.8888888888888888,
             "#fdca26"
            ],
            [
             1,
             "#f0f921"
            ]
           ],
           "sequentialminus": [
            [
             0,
             "#0d0887"
            ],
            [
             0.1111111111111111,
             "#46039f"
            ],
            [
             0.2222222222222222,
             "#7201a8"
            ],
            [
             0.3333333333333333,
             "#9c179e"
            ],
            [
             0.4444444444444444,
             "#bd3786"
            ],
            [
             0.5555555555555556,
             "#d8576b"
            ],
            [
             0.6666666666666666,
             "#ed7953"
            ],
            [
             0.7777777777777778,
             "#fb9f3a"
            ],
            [
             0.8888888888888888,
             "#fdca26"
            ],
            [
             1,
             "#f0f921"
            ]
           ]
          },
          "colorway": [
           "#636efa",
           "#EF553B",
           "#00cc96",
           "#ab63fa",
           "#FFA15A",
           "#19d3f3",
           "#FF6692",
           "#B6E880",
           "#FF97FF",
           "#FECB52"
          ],
          "font": {
           "color": "#2a3f5f"
          },
          "geo": {
           "bgcolor": "white",
           "lakecolor": "white",
           "landcolor": "#E5ECF6",
           "showlakes": true,
           "showland": true,
           "subunitcolor": "white"
          },
          "hoverlabel": {
           "align": "left"
          },
          "hovermode": "closest",
          "mapbox": {
           "style": "light"
          },
          "paper_bgcolor": "white",
          "plot_bgcolor": "#E5ECF6",
          "polar": {
           "angularaxis": {
            "gridcolor": "white",
            "linecolor": "white",
            "ticks": ""
           },
           "bgcolor": "#E5ECF6",
           "radialaxis": {
            "gridcolor": "white",
            "linecolor": "white",
            "ticks": ""
           }
          },
          "scene": {
           "xaxis": {
            "backgroundcolor": "#E5ECF6",
            "gridcolor": "white",
            "gridwidth": 2,
            "linecolor": "white",
            "showbackground": true,
            "ticks": "",
            "zerolinecolor": "white"
           },
           "yaxis": {
            "backgroundcolor": "#E5ECF6",
            "gridcolor": "white",
            "gridwidth": 2,
            "linecolor": "white",
            "showbackground": true,
            "ticks": "",
            "zerolinecolor": "white"
           },
           "zaxis": {
            "backgroundcolor": "#E5ECF6",
            "gridcolor": "white",
            "gridwidth": 2,
            "linecolor": "white",
            "showbackground": true,
            "ticks": "",
            "zerolinecolor": "white"
           }
          },
          "shapedefaults": {
           "line": {
            "color": "#2a3f5f"
           }
          },
          "ternary": {
           "aaxis": {
            "gridcolor": "white",
            "linecolor": "white",
            "ticks": ""
           },
           "baxis": {
            "gridcolor": "white",
            "linecolor": "white",
            "ticks": ""
           },
           "bgcolor": "#E5ECF6",
           "caxis": {
            "gridcolor": "white",
            "linecolor": "white",
            "ticks": ""
           }
          },
          "title": {
           "x": 0.05
          },
          "xaxis": {
           "automargin": true,
           "gridcolor": "white",
           "linecolor": "white",
           "ticks": "",
           "title": {
            "standoff": 15
           },
           "zerolinecolor": "white",
           "zerolinewidth": 2
          },
          "yaxis": {
           "automargin": true,
           "gridcolor": "white",
           "linecolor": "white",
           "ticks": "",
           "title": {
            "standoff": 15
           },
           "zerolinecolor": "white",
           "zerolinewidth": 2
          }
         }
        },
        "width": 1500,
        "xaxis": {
         "title": {
          "text": "<b>Cluster size</b>"
         }
        },
        "yaxis": {
         "title": {
          "text": "<b>Clusters count</b>"
         }
        }
       }
      },
      "text/html": [
       "<div>\n",
       "        \n",
       "        \n",
       "            <div id=\"9ace5ca0-7cf1-448a-9157-22435da2e3b3\" class=\"plotly-graph-div\" style=\"height:750px; width:1500px;\"></div>\n",
       "            <script type=\"text/javascript\">\n",
       "                require([\"plotly\"], function(Plotly) {\n",
       "                    window.PLOTLYENV=window.PLOTLYENV || {};\n",
       "                    \n",
       "                if (document.getElementById(\"9ace5ca0-7cf1-448a-9157-22435da2e3b3\")) {\n",
       "                    Plotly.newPlot(\n",
       "                        '9ace5ca0-7cf1-448a-9157-22435da2e3b3',\n",
       "                        [{\"line\": {\"color\": \"red\", \"width\": 3}, \"mode\": \"markers+lines\", \"name\": \"maracluster\", \"opacity\": 0.5, \"type\": \"scatter\", \"x\": [\"[0, 1]\", \"[2, 3]\", \"[4, 7]\", \"[8, 15]\", \"[16, 31]\", \"[32, 63]\", \"[64, 127]\", \"[128, 255]\", \"[256, 511]\", \"[512, 9223372036854775807]\"], \"y\": [67806, 65268, 41860, 21621, 6753, 1512, 298, 66, 19, 1]}, {\"line\": {\"color\": \"black\", \"width\": 3}, \"mode\": \"markers+lines\", \"name\": \"embeddings\", \"opacity\": 0.5, \"type\": \"scatter\", \"x\": [\"[0, 1]\", \"[2, 3]\", \"[4, 7]\", \"[8, 15]\", \"[16, 31]\", \"[32, 63]\", \"[64, 127]\", \"[128, 255]\", \"[256, 511]\", \"[512, 9223372036854775807]\"], \"y\": [55401, 70474, 52615, 23488, 5925, 924, 141, 22, 2, 1]}, {\"line\": {\"color\": \"blue\", \"width\": 3}, \"mode\": \"markers+lines\", \"name\": \"embeddings q < 0.01\", \"opacity\": 0.5, \"type\": \"scatter\", \"x\": [\"[0, 1]\", \"[2, 3]\", \"[4, 7]\", \"[8, 15]\", \"[16, 31]\", \"[32, 63]\", \"[64, 127]\", \"[128, 255]\", \"[256, 511]\", \"[512, 9223372036854775807]\"], \"y\": [51006, 65337, 50835, 23768, 6387, 1089, 173, 25, 5, 1]}, {\"line\": {\"color\": \"green\", \"width\": 3}, \"mode\": \"markers+lines\", \"name\": \"embeddings q < 0.001\", \"opacity\": 0.5, \"type\": \"scatter\", \"x\": [\"[0, 1]\", \"[2, 3]\", \"[4, 7]\", \"[8, 15]\", \"[16, 31]\", \"[32, 63]\", \"[64, 127]\", \"[128, 255]\", \"[256, 511]\", \"[512, 9223372036854775807]\"], \"y\": [56690, 66490, 50173, 24203, 6311, 971, 118, 22, 9, 0]}, {\"line\": {\"color\": \"orange\", \"width\": 3}, \"mode\": \"markers+lines\", \"name\": \"embeddings q < 0.01 margin 0.4\", \"opacity\": 0.5, \"type\": \"scatter\", \"x\": [\"[0, 1]\", \"[2, 3]\", \"[4, 7]\", \"[8, 15]\", \"[16, 31]\", \"[32, 63]\", \"[64, 127]\", \"[128, 255]\", \"[256, 511]\", \"[512, 9223372036854775807]\"], \"y\": [50864, 63621, 51714, 25274, 6392, 876, 114, 19, 4, 1]}, {\"line\": {\"color\": \"red\", \"dash\": \"dash\", \"width\": 3}, \"mode\": \"markers+lines\", \"name\": \"identified maracluster\", \"opacity\": 0.5, \"type\": \"scatter\", \"x\": [\"[0, 1]\", \"[2, 3]\", \"[4, 7]\", \"[8, 15]\", \"[16, 31]\", \"[32, 63]\", \"[64, 127]\", \"[128, 255]\", \"[256, 511]\", \"[512, 9223372036854775807]\"], \"y\": [7909, 10947, 10673, 6678, 1748, 266, 57, 11, 4, 0]}, {\"line\": {\"color\": \"black\", \"dash\": \"dash\", \"width\": 3}, \"mode\": \"markers+lines\", \"name\": \"identified embeddings\", \"opacity\": 0.5, \"type\": \"scatter\", \"x\": [\"[0, 1]\", \"[2, 3]\", \"[4, 7]\", \"[8, 15]\", \"[16, 31]\", \"[32, 63]\", \"[64, 127]\", \"[128, 255]\", \"[256, 511]\", \"[512, 9223372036854775807]\"], \"y\": [5720, 9203, 7802, 3800, 757, 50, 2, 1, 0, 0]}, {\"line\": {\"color\": \"blue\", \"dash\": \"dash\", \"width\": 3}, \"mode\": \"markers+lines\", \"name\": \"identified embeddings q < 0.01\", \"opacity\": 0.5, \"type\": \"scatter\", \"x\": [\"[0, 1]\", \"[2, 3]\", \"[4, 7]\", \"[8, 15]\", \"[16, 31]\", \"[32, 63]\", \"[64, 127]\", \"[128, 255]\", \"[256, 511]\", \"[512, 9223372036854775807]\"], \"y\": [5556, 9429, 10071, 5501, 1196, 115, 11, 2, 0, 1]}, {\"line\": {\"color\": \"green\", \"dash\": \"dash\", \"width\": 3}, \"mode\": \"markers+lines\", \"name\": \"identified embeddings q < 0.001\", \"opacity\": 0.5, \"type\": \"scatter\", \"x\": [\"[0, 1]\", \"[2, 3]\", \"[4, 7]\", \"[8, 15]\", \"[16, 31]\", \"[32, 63]\", \"[64, 127]\", \"[128, 255]\", \"[256, 511]\", \"[512, 9223372036854775807]\"], \"y\": [5935, 9579, 9262, 5024, 1010, 67, 6, 0, 1, 0]}, {\"line\": {\"color\": \"orange\", \"dash\": \"dash\", \"width\": 3}, \"mode\": \"markers+lines\", \"name\": \"identified embeddings q < 0.01 margin 0.4\", \"opacity\": 0.5, \"type\": \"scatter\", \"x\": [\"[0, 1]\", \"[2, 3]\", \"[4, 7]\", \"[8, 15]\", \"[16, 31]\", \"[32, 63]\", \"[64, 127]\", \"[128, 255]\", \"[256, 511]\", \"[512, 9223372036854775807]\"], \"y\": [5397, 8896, 8604, 4447, 904, 63, 5, 2, 0, 0]}],\n",
       "                        {\"height\": 750, \"template\": {\"data\": {\"bar\": [{\"error_x\": {\"color\": \"#2a3f5f\"}, \"error_y\": {\"color\": \"#2a3f5f\"}, \"marker\": {\"line\": {\"color\": \"#E5ECF6\", \"width\": 0.5}}, \"type\": \"bar\"}], \"barpolar\": [{\"marker\": {\"line\": {\"color\": \"#E5ECF6\", \"width\": 0.5}}, \"type\": \"barpolar\"}], \"carpet\": [{\"aaxis\": {\"endlinecolor\": \"#2a3f5f\", \"gridcolor\": \"white\", \"linecolor\": \"white\", \"minorgridcolor\": \"white\", \"startlinecolor\": \"#2a3f5f\"}, \"baxis\": {\"endlinecolor\": \"#2a3f5f\", \"gridcolor\": \"white\", \"linecolor\": \"white\", \"minorgridcolor\": \"white\", \"startlinecolor\": \"#2a3f5f\"}, \"type\": \"carpet\"}], \"choropleth\": [{\"colorbar\": {\"outlinewidth\": 0, \"ticks\": \"\"}, \"type\": \"choropleth\"}], \"contour\": [{\"colorbar\": {\"outlinewidth\": 0, \"ticks\": \"\"}, \"colorscale\": [[0.0, \"#0d0887\"], [0.1111111111111111, \"#46039f\"], [0.2222222222222222, \"#7201a8\"], [0.3333333333333333, \"#9c179e\"], [0.4444444444444444, \"#bd3786\"], [0.5555555555555556, \"#d8576b\"], [0.6666666666666666, \"#ed7953\"], [0.7777777777777778, \"#fb9f3a\"], [0.8888888888888888, \"#fdca26\"], [1.0, \"#f0f921\"]], \"type\": \"contour\"}], \"contourcarpet\": [{\"colorbar\": {\"outlinewidth\": 0, \"ticks\": \"\"}, \"type\": \"contourcarpet\"}], \"heatmap\": [{\"colorbar\": {\"outlinewidth\": 0, \"ticks\": \"\"}, \"colorscale\": [[0.0, \"#0d0887\"], [0.1111111111111111, \"#46039f\"], [0.2222222222222222, \"#7201a8\"], [0.3333333333333333, \"#9c179e\"], [0.4444444444444444, \"#bd3786\"], [0.5555555555555556, \"#d8576b\"], [0.6666666666666666, \"#ed7953\"], [0.7777777777777778, \"#fb9f3a\"], [0.8888888888888888, \"#fdca26\"], [1.0, \"#f0f921\"]], \"type\": \"heatmap\"}], \"heatmapgl\": [{\"colorbar\": {\"outlinewidth\": 0, \"ticks\": \"\"}, \"colorscale\": [[0.0, \"#0d0887\"], [0.1111111111111111, \"#46039f\"], [0.2222222222222222, \"#7201a8\"], [0.3333333333333333, \"#9c179e\"], [0.4444444444444444, \"#bd3786\"], [0.5555555555555556, \"#d8576b\"], [0.6666666666666666, \"#ed7953\"], [0.7777777777777778, \"#fb9f3a\"], [0.8888888888888888, \"#fdca26\"], [1.0, \"#f0f921\"]], \"type\": \"heatmapgl\"}], \"histogram\": [{\"marker\": {\"colorbar\": {\"outlinewidth\": 0, \"ticks\": \"\"}}, \"type\": \"histogram\"}], \"histogram2d\": [{\"colorbar\": {\"outlinewidth\": 0, \"ticks\": \"\"}, \"colorscale\": [[0.0, \"#0d0887\"], [0.1111111111111111, \"#46039f\"], [0.2222222222222222, \"#7201a8\"], [0.3333333333333333, \"#9c179e\"], [0.4444444444444444, \"#bd3786\"], [0.5555555555555556, \"#d8576b\"], [0.6666666666666666, \"#ed7953\"], [0.7777777777777778, \"#fb9f3a\"], [0.8888888888888888, \"#fdca26\"], [1.0, \"#f0f921\"]], \"type\": \"histogram2d\"}], \"histogram2dcontour\": [{\"colorbar\": {\"outlinewidth\": 0, \"ticks\": \"\"}, \"colorscale\": [[0.0, \"#0d0887\"], [0.1111111111111111, \"#46039f\"], [0.2222222222222222, \"#7201a8\"], [0.3333333333333333, \"#9c179e\"], [0.4444444444444444, \"#bd3786\"], [0.5555555555555556, \"#d8576b\"], [0.6666666666666666, \"#ed7953\"], [0.7777777777777778, \"#fb9f3a\"], [0.8888888888888888, \"#fdca26\"], [1.0, \"#f0f921\"]], \"type\": \"histogram2dcontour\"}], \"mesh3d\": [{\"colorbar\": {\"outlinewidth\": 0, \"ticks\": \"\"}, \"type\": \"mesh3d\"}], \"parcoords\": [{\"line\": {\"colorbar\": {\"outlinewidth\": 0, \"ticks\": \"\"}}, \"type\": \"parcoords\"}], \"pie\": [{\"automargin\": true, \"type\": \"pie\"}], \"scatter\": [{\"marker\": {\"colorbar\": {\"outlinewidth\": 0, \"ticks\": \"\"}}, \"type\": \"scatter\"}], \"scatter3d\": [{\"line\": {\"colorbar\": {\"outlinewidth\": 0, \"ticks\": \"\"}}, \"marker\": {\"colorbar\": {\"outlinewidth\": 0, \"ticks\": \"\"}}, \"type\": \"scatter3d\"}], \"scattercarpet\": [{\"marker\": {\"colorbar\": {\"outlinewidth\": 0, \"ticks\": \"\"}}, \"type\": \"scattercarpet\"}], \"scattergeo\": [{\"marker\": {\"colorbar\": {\"outlinewidth\": 0, \"ticks\": \"\"}}, \"type\": \"scattergeo\"}], \"scattergl\": [{\"marker\": {\"colorbar\": {\"outlinewidth\": 0, \"ticks\": \"\"}}, \"type\": \"scattergl\"}], \"scattermapbox\": [{\"marker\": {\"colorbar\": {\"outlinewidth\": 0, \"ticks\": \"\"}}, \"type\": \"scattermapbox\"}], \"scatterpolar\": [{\"marker\": {\"colorbar\": {\"outlinewidth\": 0, \"ticks\": \"\"}}, \"type\": \"scatterpolar\"}], \"scatterpolargl\": [{\"marker\": {\"colorbar\": {\"outlinewidth\": 0, \"ticks\": \"\"}}, \"type\": \"scatterpolargl\"}], \"scatterternary\": [{\"marker\": {\"colorbar\": {\"outlinewidth\": 0, \"ticks\": \"\"}}, \"type\": \"scatterternary\"}], \"surface\": [{\"colorbar\": {\"outlinewidth\": 0, \"ticks\": \"\"}, \"colorscale\": [[0.0, \"#0d0887\"], [0.1111111111111111, \"#46039f\"], [0.2222222222222222, \"#7201a8\"], [0.3333333333333333, \"#9c179e\"], [0.4444444444444444, \"#bd3786\"], [0.5555555555555556, \"#d8576b\"], [0.6666666666666666, \"#ed7953\"], [0.7777777777777778, \"#fb9f3a\"], [0.8888888888888888, \"#fdca26\"], [1.0, \"#f0f921\"]], \"type\": \"surface\"}], \"table\": [{\"cells\": {\"fill\": {\"color\": \"#EBF0F8\"}, \"line\": {\"color\": \"white\"}}, \"header\": {\"fill\": {\"color\": \"#C8D4E3\"}, \"line\": {\"color\": \"white\"}}, \"type\": \"table\"}]}, \"layout\": {\"annotationdefaults\": {\"arrowcolor\": \"#2a3f5f\", \"arrowhead\": 0, \"arrowwidth\": 1}, \"coloraxis\": {\"colorbar\": {\"outlinewidth\": 0, \"ticks\": \"\"}}, \"colorscale\": {\"diverging\": [[0, \"#8e0152\"], [0.1, \"#c51b7d\"], [0.2, \"#de77ae\"], [0.3, \"#f1b6da\"], [0.4, \"#fde0ef\"], [0.5, \"#f7f7f7\"], [0.6, \"#e6f5d0\"], [0.7, \"#b8e186\"], [0.8, \"#7fbc41\"], [0.9, \"#4d9221\"], [1, \"#276419\"]], \"sequential\": [[0.0, \"#0d0887\"], [0.1111111111111111, \"#46039f\"], [0.2222222222222222, \"#7201a8\"], [0.3333333333333333, \"#9c179e\"], [0.4444444444444444, \"#bd3786\"], [0.5555555555555556, \"#d8576b\"], [0.6666666666666666, \"#ed7953\"], [0.7777777777777778, \"#fb9f3a\"], [0.8888888888888888, \"#fdca26\"], [1.0, \"#f0f921\"]], \"sequentialminus\": [[0.0, \"#0d0887\"], [0.1111111111111111, \"#46039f\"], [0.2222222222222222, \"#7201a8\"], [0.3333333333333333, \"#9c179e\"], [0.4444444444444444, \"#bd3786\"], [0.5555555555555556, \"#d8576b\"], [0.6666666666666666, \"#ed7953\"], [0.7777777777777778, \"#fb9f3a\"], [0.8888888888888888, \"#fdca26\"], [1.0, \"#f0f921\"]]}, \"colorway\": [\"#636efa\", \"#EF553B\", \"#00cc96\", \"#ab63fa\", \"#FFA15A\", \"#19d3f3\", \"#FF6692\", \"#B6E880\", \"#FF97FF\", \"#FECB52\"], \"font\": {\"color\": \"#2a3f5f\"}, \"geo\": {\"bgcolor\": \"white\", \"lakecolor\": \"white\", \"landcolor\": \"#E5ECF6\", \"showlakes\": true, \"showland\": true, \"subunitcolor\": \"white\"}, \"hoverlabel\": {\"align\": \"left\"}, \"hovermode\": \"closest\", \"mapbox\": {\"style\": \"light\"}, \"paper_bgcolor\": \"white\", \"plot_bgcolor\": \"#E5ECF6\", \"polar\": {\"angularaxis\": {\"gridcolor\": \"white\", \"linecolor\": \"white\", \"ticks\": \"\"}, \"bgcolor\": \"#E5ECF6\", \"radialaxis\": {\"gridcolor\": \"white\", \"linecolor\": \"white\", \"ticks\": \"\"}}, \"scene\": {\"xaxis\": {\"backgroundcolor\": \"#E5ECF6\", \"gridcolor\": \"white\", \"gridwidth\": 2, \"linecolor\": \"white\", \"showbackground\": true, \"ticks\": \"\", \"zerolinecolor\": \"white\"}, \"yaxis\": {\"backgroundcolor\": \"#E5ECF6\", \"gridcolor\": \"white\", \"gridwidth\": 2, \"linecolor\": \"white\", \"showbackground\": true, \"ticks\": \"\", \"zerolinecolor\": \"white\"}, \"zaxis\": {\"backgroundcolor\": \"#E5ECF6\", \"gridcolor\": \"white\", \"gridwidth\": 2, \"linecolor\": \"white\", \"showbackground\": true, \"ticks\": \"\", \"zerolinecolor\": \"white\"}}, \"shapedefaults\": {\"line\": {\"color\": \"#2a3f5f\"}}, \"ternary\": {\"aaxis\": {\"gridcolor\": \"white\", \"linecolor\": \"white\", \"ticks\": \"\"}, \"baxis\": {\"gridcolor\": \"white\", \"linecolor\": \"white\", \"ticks\": \"\"}, \"bgcolor\": \"#E5ECF6\", \"caxis\": {\"gridcolor\": \"white\", \"linecolor\": \"white\", \"ticks\": \"\"}}, \"title\": {\"x\": 0.05}, \"xaxis\": {\"automargin\": true, \"gridcolor\": \"white\", \"linecolor\": \"white\", \"ticks\": \"\", \"title\": {\"standoff\": 15}, \"zerolinecolor\": \"white\", \"zerolinewidth\": 2}, \"yaxis\": {\"automargin\": true, \"gridcolor\": \"white\", \"linecolor\": \"white\", \"ticks\": \"\", \"title\": {\"standoff\": 15}, \"zerolinecolor\": \"white\", \"zerolinewidth\": 2}}}, \"width\": 1500, \"xaxis\": {\"title\": {\"text\": \"<b>Cluster size</b>\"}}, \"yaxis\": {\"title\": {\"text\": \"<b>Clusters count</b>\"}}},\n",
       "                        {\"responsive\": true}\n",
       "                    ).then(function(){\n",
       "                            \n",
       "var gd = document.getElementById('9ace5ca0-7cf1-448a-9157-22435da2e3b3');\n",
       "var x = new MutationObserver(function (mutations, observer) {{\n",
       "        var display = window.getComputedStyle(gd).display;\n",
       "        if (!display || display === 'none') {{\n",
       "            console.log([gd, 'removed!']);\n",
       "            Plotly.purge(gd);\n",
       "            observer.disconnect();\n",
       "        }}\n",
       "}});\n",
       "\n",
       "// Listen for the removal of the full notebook cells\n",
       "var notebookContainer = gd.closest('#notebook-container');\n",
       "if (notebookContainer) {{\n",
       "    x.observe(notebookContainer, {childList: true});\n",
       "}}\n",
       "\n",
       "// Listen for the clearing of the current output cell\n",
       "var outputEl = gd.closest('.output');\n",
       "if (outputEl) {{\n",
       "    x.observe(outputEl, {childList: true});\n",
       "}}\n",
       "\n",
       "                        })\n",
       "                };\n",
       "                });\n",
       "            </script>\n",
       "        </div>"
      ]
     },
     "metadata": {},
     "output_type": "display_data"
    }
   ],
   "source": [
    "fig = go.Figure()\n",
    "\n",
    "fig.update_layout(yaxis_title=\"<b>Clusters count</b>\",\n",
    "                  xaxis_title=\"<b>Cluster size</b>\",\n",
    "                  width=1500, height=750)\n",
    "\n",
    "fig.add_trace(go.Scatter(x = maraclusters_quality['size'], \n",
    "                         y = maraclusters_quality['clusters'], \n",
    "                         mode=\"markers+lines\",\n",
    "                         name=\"maracluster\",\n",
    "                         opacity=0.5,\n",
    "                         line=dict(color=\"red\", width=3)))\n",
    "\n",
    "fig.add_trace(go.Scatter(x = embeddings_quality['size'], \n",
    "                         y = embeddings_quality['clusters'], \n",
    "                         mode=\"markers+lines\",\n",
    "                         name=\"embeddings\",\n",
    "                         opacity=0.5,\n",
    "                         line=dict(color=\"black\", width=3)))\n",
    "\n",
    "fig.add_trace(go.Scatter(x = q01_quality['size'], \n",
    "                         y = q01_quality['clusters'], \n",
    "                         mode=\"markers+lines\",\n",
    "                         name=\"embeddings q < 0.01\",\n",
    "                         opacity=0.5,\n",
    "                         line=dict(color=\"blue\", width=3)))\n",
    "\n",
    "fig.add_trace(go.Scatter(x = q001_quality['size'], \n",
    "                         y = q001_quality['clusters'], \n",
    "                         mode=\"markers+lines\", \n",
    "                         name=\"embeddings q < 0.001\",\n",
    "                         opacity=0.5,\n",
    "                         line=dict(color=\"green\", width=3)))\n",
    "\n",
    "fig.add_trace(go.Scatter(x = q01_quality_04['size'], \n",
    "                         y = q01_quality_04['clusters'], \n",
    "                         mode=\"markers+lines\",\n",
    "                         name=\"embeddings q < 0.01 margin 0.4\",\n",
    "                         opacity=0.5,\n",
    "                         line=dict(color=\"orange\", width=3)))\n",
    "\n",
    "fig.add_trace(go.Scatter(x = maraclusters_quality['size'], \n",
    "                         y = maraclusters_quality['identified clusters'], \n",
    "                         mode=\"markers+lines\",\n",
    "                         name=\"identified maracluster\",\n",
    "                         opacity=0.5,\n",
    "                         line=dict(dash=\"dash\", color=\"red\", width=3)))\n",
    "\n",
    "fig.add_trace(go.Scatter(x = embeddings_quality['size'], \n",
    "                         y = embeddings_quality['identified clusters'], \n",
    "                         mode=\"markers+lines\",\n",
    "                         name=\"identified embeddings\",\n",
    "                         opacity=0.5,\n",
    "                         line=dict(dash=\"dash\", color=\"black\", width=3)))\n",
    "\n",
    "fig.add_trace(go.Scatter(x = q01_quality['size'], \n",
    "                         y = q01_quality['identified clusters'], \n",
    "                         mode=\"markers+lines\",\n",
    "                         name=\"identified embeddings q < 0.01\",\n",
    "                         opacity=0.5,\n",
    "                         line=dict(dash=\"dash\", color=\"blue\", width=3)))\n",
    "\n",
    "fig.add_trace(go.Scatter(x = q001_quality['size'], \n",
    "                         y = q001_quality['identified clusters'], \n",
    "                         mode=\"markers+lines\", \n",
    "                         name=\"identified embeddings q < 0.001\",\n",
    "                         opacity=0.5,\n",
    "                         line=dict(dash=\"dash\", color=\"green\", width=3)))\n",
    "\n",
    "fig.add_trace(go.Scatter(x = q01_quality_04['size'], \n",
    "                         y = q01_quality_04['identified clusters'], \n",
    "                         mode=\"markers+lines\",\n",
    "                         name=\"identified embeddings q < 0.01 margin 0.4\",\n",
    "                         opacity=0.5,\n",
    "                         line=dict(dash=\"dash\", color=\"orange\", width=3)))\n"
   ]
  },
  {
   "cell_type": "code",
   "execution_count": 43,
   "metadata": {},
   "outputs": [
    {
     "data": {
      "application/vnd.plotly.v1+json": {
       "config": {
        "plotlyServerURL": "https://plot.ly"
       },
       "data": [
        {
         "line": {
          "color": "red",
          "dash": "dash",
          "width": 3
         },
         "mode": "markers+lines",
         "name": "identified maracluster",
         "opacity": 0.5,
         "type": "scatter",
         "x": [
          "[0, 1]",
          "[2, 3]",
          "[4, 7]",
          "[8, 15]",
          "[16, 31]",
          "[32, 63]",
          "[64, 127]",
          "[128, 255]",
          "[256, 511]",
          "[512, 9223372036854775807]"
         ],
         "y": [
          7909,
          10947,
          10673,
          6678,
          1748,
          266,
          57,
          11,
          4,
          0
         ]
        },
        {
         "line": {
          "color": "black",
          "dash": "dash",
          "width": 3
         },
         "mode": "markers+lines",
         "name": "identified embeddings",
         "opacity": 0.5,
         "type": "scatter",
         "x": [
          "[0, 1]",
          "[2, 3]",
          "[4, 7]",
          "[8, 15]",
          "[16, 31]",
          "[32, 63]",
          "[64, 127]",
          "[128, 255]",
          "[256, 511]",
          "[512, 9223372036854775807]"
         ],
         "y": [
          5720,
          9203,
          7802,
          3800,
          757,
          50,
          2,
          1,
          0,
          0
         ]
        },
        {
         "line": {
          "color": "blue",
          "dash": "dash",
          "width": 3
         },
         "mode": "markers+lines",
         "name": "identified embeddings q < 0.01",
         "opacity": 0.5,
         "type": "scatter",
         "x": [
          "[0, 1]",
          "[2, 3]",
          "[4, 7]",
          "[8, 15]",
          "[16, 31]",
          "[32, 63]",
          "[64, 127]",
          "[128, 255]",
          "[256, 511]",
          "[512, 9223372036854775807]"
         ],
         "y": [
          5556,
          9429,
          10071,
          5501,
          1196,
          115,
          11,
          2,
          0,
          1
         ]
        },
        {
         "line": {
          "color": "green",
          "dash": "dash",
          "width": 3
         },
         "mode": "markers+lines",
         "name": "identified embeddings q < 0.001",
         "opacity": 0.5,
         "type": "scatter",
         "x": [
          "[0, 1]",
          "[2, 3]",
          "[4, 7]",
          "[8, 15]",
          "[16, 31]",
          "[32, 63]",
          "[64, 127]",
          "[128, 255]",
          "[256, 511]",
          "[512, 9223372036854775807]"
         ],
         "y": [
          5935,
          9579,
          9262,
          5024,
          1010,
          67,
          6,
          0,
          1,
          0
         ]
        },
        {
         "line": {
          "color": "orange",
          "dash": "dash",
          "width": 3
         },
         "mode": "markers+lines",
         "name": "identified embeddings q < 0.01 margin 0.4",
         "opacity": 0.5,
         "type": "scatter",
         "x": [
          "[0, 1]",
          "[2, 3]",
          "[4, 7]",
          "[8, 15]",
          "[16, 31]",
          "[32, 63]",
          "[64, 127]",
          "[128, 255]",
          "[256, 511]",
          "[512, 9223372036854775807]"
         ],
         "y": [
          5397,
          8896,
          8604,
          4447,
          904,
          63,
          5,
          2,
          0,
          0
         ]
        }
       ],
       "layout": {
        "height": 750,
        "template": {
         "data": {
          "bar": [
           {
            "error_x": {
             "color": "#2a3f5f"
            },
            "error_y": {
             "color": "#2a3f5f"
            },
            "marker": {
             "line": {
              "color": "#E5ECF6",
              "width": 0.5
             }
            },
            "type": "bar"
           }
          ],
          "barpolar": [
           {
            "marker": {
             "line": {
              "color": "#E5ECF6",
              "width": 0.5
             }
            },
            "type": "barpolar"
           }
          ],
          "carpet": [
           {
            "aaxis": {
             "endlinecolor": "#2a3f5f",
             "gridcolor": "white",
             "linecolor": "white",
             "minorgridcolor": "white",
             "startlinecolor": "#2a3f5f"
            },
            "baxis": {
             "endlinecolor": "#2a3f5f",
             "gridcolor": "white",
             "linecolor": "white",
             "minorgridcolor": "white",
             "startlinecolor": "#2a3f5f"
            },
            "type": "carpet"
           }
          ],
          "choropleth": [
           {
            "colorbar": {
             "outlinewidth": 0,
             "ticks": ""
            },
            "type": "choropleth"
           }
          ],
          "contour": [
           {
            "colorbar": {
             "outlinewidth": 0,
             "ticks": ""
            },
            "colorscale": [
             [
              0,
              "#0d0887"
             ],
             [
              0.1111111111111111,
              "#46039f"
             ],
             [
              0.2222222222222222,
              "#7201a8"
             ],
             [
              0.3333333333333333,
              "#9c179e"
             ],
             [
              0.4444444444444444,
              "#bd3786"
             ],
             [
              0.5555555555555556,
              "#d8576b"
             ],
             [
              0.6666666666666666,
              "#ed7953"
             ],
             [
              0.7777777777777778,
              "#fb9f3a"
             ],
             [
              0.8888888888888888,
              "#fdca26"
             ],
             [
              1,
              "#f0f921"
             ]
            ],
            "type": "contour"
           }
          ],
          "contourcarpet": [
           {
            "colorbar": {
             "outlinewidth": 0,
             "ticks": ""
            },
            "type": "contourcarpet"
           }
          ],
          "heatmap": [
           {
            "colorbar": {
             "outlinewidth": 0,
             "ticks": ""
            },
            "colorscale": [
             [
              0,
              "#0d0887"
             ],
             [
              0.1111111111111111,
              "#46039f"
             ],
             [
              0.2222222222222222,
              "#7201a8"
             ],
             [
              0.3333333333333333,
              "#9c179e"
             ],
             [
              0.4444444444444444,
              "#bd3786"
             ],
             [
              0.5555555555555556,
              "#d8576b"
             ],
             [
              0.6666666666666666,
              "#ed7953"
             ],
             [
              0.7777777777777778,
              "#fb9f3a"
             ],
             [
              0.8888888888888888,
              "#fdca26"
             ],
             [
              1,
              "#f0f921"
             ]
            ],
            "type": "heatmap"
           }
          ],
          "heatmapgl": [
           {
            "colorbar": {
             "outlinewidth": 0,
             "ticks": ""
            },
            "colorscale": [
             [
              0,
              "#0d0887"
             ],
             [
              0.1111111111111111,
              "#46039f"
             ],
             [
              0.2222222222222222,
              "#7201a8"
             ],
             [
              0.3333333333333333,
              "#9c179e"
             ],
             [
              0.4444444444444444,
              "#bd3786"
             ],
             [
              0.5555555555555556,
              "#d8576b"
             ],
             [
              0.6666666666666666,
              "#ed7953"
             ],
             [
              0.7777777777777778,
              "#fb9f3a"
             ],
             [
              0.8888888888888888,
              "#fdca26"
             ],
             [
              1,
              "#f0f921"
             ]
            ],
            "type": "heatmapgl"
           }
          ],
          "histogram": [
           {
            "marker": {
             "colorbar": {
              "outlinewidth": 0,
              "ticks": ""
             }
            },
            "type": "histogram"
           }
          ],
          "histogram2d": [
           {
            "colorbar": {
             "outlinewidth": 0,
             "ticks": ""
            },
            "colorscale": [
             [
              0,
              "#0d0887"
             ],
             [
              0.1111111111111111,
              "#46039f"
             ],
             [
              0.2222222222222222,
              "#7201a8"
             ],
             [
              0.3333333333333333,
              "#9c179e"
             ],
             [
              0.4444444444444444,
              "#bd3786"
             ],
             [
              0.5555555555555556,
              "#d8576b"
             ],
             [
              0.6666666666666666,
              "#ed7953"
             ],
             [
              0.7777777777777778,
              "#fb9f3a"
             ],
             [
              0.8888888888888888,
              "#fdca26"
             ],
             [
              1,
              "#f0f921"
             ]
            ],
            "type": "histogram2d"
           }
          ],
          "histogram2dcontour": [
           {
            "colorbar": {
             "outlinewidth": 0,
             "ticks": ""
            },
            "colorscale": [
             [
              0,
              "#0d0887"
             ],
             [
              0.1111111111111111,
              "#46039f"
             ],
             [
              0.2222222222222222,
              "#7201a8"
             ],
             [
              0.3333333333333333,
              "#9c179e"
             ],
             [
              0.4444444444444444,
              "#bd3786"
             ],
             [
              0.5555555555555556,
              "#d8576b"
             ],
             [
              0.6666666666666666,
              "#ed7953"
             ],
             [
              0.7777777777777778,
              "#fb9f3a"
             ],
             [
              0.8888888888888888,
              "#fdca26"
             ],
             [
              1,
              "#f0f921"
             ]
            ],
            "type": "histogram2dcontour"
           }
          ],
          "mesh3d": [
           {
            "colorbar": {
             "outlinewidth": 0,
             "ticks": ""
            },
            "type": "mesh3d"
           }
          ],
          "parcoords": [
           {
            "line": {
             "colorbar": {
              "outlinewidth": 0,
              "ticks": ""
             }
            },
            "type": "parcoords"
           }
          ],
          "pie": [
           {
            "automargin": true,
            "type": "pie"
           }
          ],
          "scatter": [
           {
            "marker": {
             "colorbar": {
              "outlinewidth": 0,
              "ticks": ""
             }
            },
            "type": "scatter"
           }
          ],
          "scatter3d": [
           {
            "line": {
             "colorbar": {
              "outlinewidth": 0,
              "ticks": ""
             }
            },
            "marker": {
             "colorbar": {
              "outlinewidth": 0,
              "ticks": ""
             }
            },
            "type": "scatter3d"
           }
          ],
          "scattercarpet": [
           {
            "marker": {
             "colorbar": {
              "outlinewidth": 0,
              "ticks": ""
             }
            },
            "type": "scattercarpet"
           }
          ],
          "scattergeo": [
           {
            "marker": {
             "colorbar": {
              "outlinewidth": 0,
              "ticks": ""
             }
            },
            "type": "scattergeo"
           }
          ],
          "scattergl": [
           {
            "marker": {
             "colorbar": {
              "outlinewidth": 0,
              "ticks": ""
             }
            },
            "type": "scattergl"
           }
          ],
          "scattermapbox": [
           {
            "marker": {
             "colorbar": {
              "outlinewidth": 0,
              "ticks": ""
             }
            },
            "type": "scattermapbox"
           }
          ],
          "scatterpolar": [
           {
            "marker": {
             "colorbar": {
              "outlinewidth": 0,
              "ticks": ""
             }
            },
            "type": "scatterpolar"
           }
          ],
          "scatterpolargl": [
           {
            "marker": {
             "colorbar": {
              "outlinewidth": 0,
              "ticks": ""
             }
            },
            "type": "scatterpolargl"
           }
          ],
          "scatterternary": [
           {
            "marker": {
             "colorbar": {
              "outlinewidth": 0,
              "ticks": ""
             }
            },
            "type": "scatterternary"
           }
          ],
          "surface": [
           {
            "colorbar": {
             "outlinewidth": 0,
             "ticks": ""
            },
            "colorscale": [
             [
              0,
              "#0d0887"
             ],
             [
              0.1111111111111111,
              "#46039f"
             ],
             [
              0.2222222222222222,
              "#7201a8"
             ],
             [
              0.3333333333333333,
              "#9c179e"
             ],
             [
              0.4444444444444444,
              "#bd3786"
             ],
             [
              0.5555555555555556,
              "#d8576b"
             ],
             [
              0.6666666666666666,
              "#ed7953"
             ],
             [
              0.7777777777777778,
              "#fb9f3a"
             ],
             [
              0.8888888888888888,
              "#fdca26"
             ],
             [
              1,
              "#f0f921"
             ]
            ],
            "type": "surface"
           }
          ],
          "table": [
           {
            "cells": {
             "fill": {
              "color": "#EBF0F8"
             },
             "line": {
              "color": "white"
             }
            },
            "header": {
             "fill": {
              "color": "#C8D4E3"
             },
             "line": {
              "color": "white"
             }
            },
            "type": "table"
           }
          ]
         },
         "layout": {
          "annotationdefaults": {
           "arrowcolor": "#2a3f5f",
           "arrowhead": 0,
           "arrowwidth": 1
          },
          "coloraxis": {
           "colorbar": {
            "outlinewidth": 0,
            "ticks": ""
           }
          },
          "colorscale": {
           "diverging": [
            [
             0,
             "#8e0152"
            ],
            [
             0.1,
             "#c51b7d"
            ],
            [
             0.2,
             "#de77ae"
            ],
            [
             0.3,
             "#f1b6da"
            ],
            [
             0.4,
             "#fde0ef"
            ],
            [
             0.5,
             "#f7f7f7"
            ],
            [
             0.6,
             "#e6f5d0"
            ],
            [
             0.7,
             "#b8e186"
            ],
            [
             0.8,
             "#7fbc41"
            ],
            [
             0.9,
             "#4d9221"
            ],
            [
             1,
             "#276419"
            ]
           ],
           "sequential": [
            [
             0,
             "#0d0887"
            ],
            [
             0.1111111111111111,
             "#46039f"
            ],
            [
             0.2222222222222222,
             "#7201a8"
            ],
            [
             0.3333333333333333,
             "#9c179e"
            ],
            [
             0.4444444444444444,
             "#bd3786"
            ],
            [
             0.5555555555555556,
             "#d8576b"
            ],
            [
             0.6666666666666666,
             "#ed7953"
            ],
            [
             0.7777777777777778,
             "#fb9f3a"
            ],
            [
             0.8888888888888888,
             "#fdca26"
            ],
            [
             1,
             "#f0f921"
            ]
           ],
           "sequentialminus": [
            [
             0,
             "#0d0887"
            ],
            [
             0.1111111111111111,
             "#46039f"
            ],
            [
             0.2222222222222222,
             "#7201a8"
            ],
            [
             0.3333333333333333,
             "#9c179e"
            ],
            [
             0.4444444444444444,
             "#bd3786"
            ],
            [
             0.5555555555555556,
             "#d8576b"
            ],
            [
             0.6666666666666666,
             "#ed7953"
            ],
            [
             0.7777777777777778,
             "#fb9f3a"
            ],
            [
             0.8888888888888888,
             "#fdca26"
            ],
            [
             1,
             "#f0f921"
            ]
           ]
          },
          "colorway": [
           "#636efa",
           "#EF553B",
           "#00cc96",
           "#ab63fa",
           "#FFA15A",
           "#19d3f3",
           "#FF6692",
           "#B6E880",
           "#FF97FF",
           "#FECB52"
          ],
          "font": {
           "color": "#2a3f5f"
          },
          "geo": {
           "bgcolor": "white",
           "lakecolor": "white",
           "landcolor": "#E5ECF6",
           "showlakes": true,
           "showland": true,
           "subunitcolor": "white"
          },
          "hoverlabel": {
           "align": "left"
          },
          "hovermode": "closest",
          "mapbox": {
           "style": "light"
          },
          "paper_bgcolor": "white",
          "plot_bgcolor": "#E5ECF6",
          "polar": {
           "angularaxis": {
            "gridcolor": "white",
            "linecolor": "white",
            "ticks": ""
           },
           "bgcolor": "#E5ECF6",
           "radialaxis": {
            "gridcolor": "white",
            "linecolor": "white",
            "ticks": ""
           }
          },
          "scene": {
           "xaxis": {
            "backgroundcolor": "#E5ECF6",
            "gridcolor": "white",
            "gridwidth": 2,
            "linecolor": "white",
            "showbackground": true,
            "ticks": "",
            "zerolinecolor": "white"
           },
           "yaxis": {
            "backgroundcolor": "#E5ECF6",
            "gridcolor": "white",
            "gridwidth": 2,
            "linecolor": "white",
            "showbackground": true,
            "ticks": "",
            "zerolinecolor": "white"
           },
           "zaxis": {
            "backgroundcolor": "#E5ECF6",
            "gridcolor": "white",
            "gridwidth": 2,
            "linecolor": "white",
            "showbackground": true,
            "ticks": "",
            "zerolinecolor": "white"
           }
          },
          "shapedefaults": {
           "line": {
            "color": "#2a3f5f"
           }
          },
          "ternary": {
           "aaxis": {
            "gridcolor": "white",
            "linecolor": "white",
            "ticks": ""
           },
           "baxis": {
            "gridcolor": "white",
            "linecolor": "white",
            "ticks": ""
           },
           "bgcolor": "#E5ECF6",
           "caxis": {
            "gridcolor": "white",
            "linecolor": "white",
            "ticks": ""
           }
          },
          "title": {
           "x": 0.05
          },
          "xaxis": {
           "automargin": true,
           "gridcolor": "white",
           "linecolor": "white",
           "ticks": "",
           "title": {
            "standoff": 15
           },
           "zerolinecolor": "white",
           "zerolinewidth": 2
          },
          "yaxis": {
           "automargin": true,
           "gridcolor": "white",
           "linecolor": "white",
           "ticks": "",
           "title": {
            "standoff": 15
           },
           "zerolinecolor": "white",
           "zerolinewidth": 2
          }
         }
        },
        "width": 1500,
        "xaxis": {
         "title": {
          "text": "<b>Cluster size</b>"
         }
        },
        "yaxis": {
         "title": {
          "text": "<b>Clusters count</b>"
         }
        }
       }
      },
      "text/html": [
       "<div>\n",
       "        \n",
       "        \n",
       "            <div id=\"84a4f85a-0f2b-4891-a604-b52cc74172da\" class=\"plotly-graph-div\" style=\"height:750px; width:1500px;\"></div>\n",
       "            <script type=\"text/javascript\">\n",
       "                require([\"plotly\"], function(Plotly) {\n",
       "                    window.PLOTLYENV=window.PLOTLYENV || {};\n",
       "                    \n",
       "                if (document.getElementById(\"84a4f85a-0f2b-4891-a604-b52cc74172da\")) {\n",
       "                    Plotly.newPlot(\n",
       "                        '84a4f85a-0f2b-4891-a604-b52cc74172da',\n",
       "                        [{\"line\": {\"color\": \"red\", \"dash\": \"dash\", \"width\": 3}, \"mode\": \"markers+lines\", \"name\": \"identified maracluster\", \"opacity\": 0.5, \"type\": \"scatter\", \"x\": [\"[0, 1]\", \"[2, 3]\", \"[4, 7]\", \"[8, 15]\", \"[16, 31]\", \"[32, 63]\", \"[64, 127]\", \"[128, 255]\", \"[256, 511]\", \"[512, 9223372036854775807]\"], \"y\": [7909, 10947, 10673, 6678, 1748, 266, 57, 11, 4, 0]}, {\"line\": {\"color\": \"black\", \"dash\": \"dash\", \"width\": 3}, \"mode\": \"markers+lines\", \"name\": \"identified embeddings\", \"opacity\": 0.5, \"type\": \"scatter\", \"x\": [\"[0, 1]\", \"[2, 3]\", \"[4, 7]\", \"[8, 15]\", \"[16, 31]\", \"[32, 63]\", \"[64, 127]\", \"[128, 255]\", \"[256, 511]\", \"[512, 9223372036854775807]\"], \"y\": [5720, 9203, 7802, 3800, 757, 50, 2, 1, 0, 0]}, {\"line\": {\"color\": \"blue\", \"dash\": \"dash\", \"width\": 3}, \"mode\": \"markers+lines\", \"name\": \"identified embeddings q < 0.01\", \"opacity\": 0.5, \"type\": \"scatter\", \"x\": [\"[0, 1]\", \"[2, 3]\", \"[4, 7]\", \"[8, 15]\", \"[16, 31]\", \"[32, 63]\", \"[64, 127]\", \"[128, 255]\", \"[256, 511]\", \"[512, 9223372036854775807]\"], \"y\": [5556, 9429, 10071, 5501, 1196, 115, 11, 2, 0, 1]}, {\"line\": {\"color\": \"green\", \"dash\": \"dash\", \"width\": 3}, \"mode\": \"markers+lines\", \"name\": \"identified embeddings q < 0.001\", \"opacity\": 0.5, \"type\": \"scatter\", \"x\": [\"[0, 1]\", \"[2, 3]\", \"[4, 7]\", \"[8, 15]\", \"[16, 31]\", \"[32, 63]\", \"[64, 127]\", \"[128, 255]\", \"[256, 511]\", \"[512, 9223372036854775807]\"], \"y\": [5935, 9579, 9262, 5024, 1010, 67, 6, 0, 1, 0]}, {\"line\": {\"color\": \"orange\", \"dash\": \"dash\", \"width\": 3}, \"mode\": \"markers+lines\", \"name\": \"identified embeddings q < 0.01 margin 0.4\", \"opacity\": 0.5, \"type\": \"scatter\", \"x\": [\"[0, 1]\", \"[2, 3]\", \"[4, 7]\", \"[8, 15]\", \"[16, 31]\", \"[32, 63]\", \"[64, 127]\", \"[128, 255]\", \"[256, 511]\", \"[512, 9223372036854775807]\"], \"y\": [5397, 8896, 8604, 4447, 904, 63, 5, 2, 0, 0]}],\n",
       "                        {\"height\": 750, \"template\": {\"data\": {\"bar\": [{\"error_x\": {\"color\": \"#2a3f5f\"}, \"error_y\": {\"color\": \"#2a3f5f\"}, \"marker\": {\"line\": {\"color\": \"#E5ECF6\", \"width\": 0.5}}, \"type\": \"bar\"}], \"barpolar\": [{\"marker\": {\"line\": {\"color\": \"#E5ECF6\", \"width\": 0.5}}, \"type\": \"barpolar\"}], \"carpet\": [{\"aaxis\": {\"endlinecolor\": \"#2a3f5f\", \"gridcolor\": \"white\", \"linecolor\": \"white\", \"minorgridcolor\": \"white\", \"startlinecolor\": \"#2a3f5f\"}, \"baxis\": {\"endlinecolor\": \"#2a3f5f\", \"gridcolor\": \"white\", \"linecolor\": \"white\", \"minorgridcolor\": \"white\", \"startlinecolor\": \"#2a3f5f\"}, \"type\": \"carpet\"}], \"choropleth\": [{\"colorbar\": {\"outlinewidth\": 0, \"ticks\": \"\"}, \"type\": \"choropleth\"}], \"contour\": [{\"colorbar\": {\"outlinewidth\": 0, \"ticks\": \"\"}, \"colorscale\": [[0.0, \"#0d0887\"], [0.1111111111111111, \"#46039f\"], [0.2222222222222222, \"#7201a8\"], [0.3333333333333333, \"#9c179e\"], [0.4444444444444444, \"#bd3786\"], [0.5555555555555556, \"#d8576b\"], [0.6666666666666666, \"#ed7953\"], [0.7777777777777778, \"#fb9f3a\"], [0.8888888888888888, \"#fdca26\"], [1.0, \"#f0f921\"]], \"type\": \"contour\"}], \"contourcarpet\": [{\"colorbar\": {\"outlinewidth\": 0, \"ticks\": \"\"}, \"type\": \"contourcarpet\"}], \"heatmap\": [{\"colorbar\": {\"outlinewidth\": 0, \"ticks\": \"\"}, \"colorscale\": [[0.0, \"#0d0887\"], [0.1111111111111111, \"#46039f\"], [0.2222222222222222, \"#7201a8\"], [0.3333333333333333, \"#9c179e\"], [0.4444444444444444, \"#bd3786\"], [0.5555555555555556, \"#d8576b\"], [0.6666666666666666, \"#ed7953\"], [0.7777777777777778, \"#fb9f3a\"], [0.8888888888888888, \"#fdca26\"], [1.0, \"#f0f921\"]], \"type\": \"heatmap\"}], \"heatmapgl\": [{\"colorbar\": {\"outlinewidth\": 0, \"ticks\": \"\"}, \"colorscale\": [[0.0, \"#0d0887\"], [0.1111111111111111, \"#46039f\"], [0.2222222222222222, \"#7201a8\"], [0.3333333333333333, \"#9c179e\"], [0.4444444444444444, \"#bd3786\"], [0.5555555555555556, \"#d8576b\"], [0.6666666666666666, \"#ed7953\"], [0.7777777777777778, \"#fb9f3a\"], [0.8888888888888888, \"#fdca26\"], [1.0, \"#f0f921\"]], \"type\": \"heatmapgl\"}], \"histogram\": [{\"marker\": {\"colorbar\": {\"outlinewidth\": 0, \"ticks\": \"\"}}, \"type\": \"histogram\"}], \"histogram2d\": [{\"colorbar\": {\"outlinewidth\": 0, \"ticks\": \"\"}, \"colorscale\": [[0.0, \"#0d0887\"], [0.1111111111111111, \"#46039f\"], [0.2222222222222222, \"#7201a8\"], [0.3333333333333333, \"#9c179e\"], [0.4444444444444444, \"#bd3786\"], [0.5555555555555556, \"#d8576b\"], [0.6666666666666666, \"#ed7953\"], [0.7777777777777778, \"#fb9f3a\"], [0.8888888888888888, \"#fdca26\"], [1.0, \"#f0f921\"]], \"type\": \"histogram2d\"}], \"histogram2dcontour\": [{\"colorbar\": {\"outlinewidth\": 0, \"ticks\": \"\"}, \"colorscale\": [[0.0, \"#0d0887\"], [0.1111111111111111, \"#46039f\"], [0.2222222222222222, \"#7201a8\"], [0.3333333333333333, \"#9c179e\"], [0.4444444444444444, \"#bd3786\"], [0.5555555555555556, \"#d8576b\"], [0.6666666666666666, \"#ed7953\"], [0.7777777777777778, \"#fb9f3a\"], [0.8888888888888888, \"#fdca26\"], [1.0, \"#f0f921\"]], \"type\": \"histogram2dcontour\"}], \"mesh3d\": [{\"colorbar\": {\"outlinewidth\": 0, \"ticks\": \"\"}, \"type\": \"mesh3d\"}], \"parcoords\": [{\"line\": {\"colorbar\": {\"outlinewidth\": 0, \"ticks\": \"\"}}, \"type\": \"parcoords\"}], \"pie\": [{\"automargin\": true, \"type\": \"pie\"}], \"scatter\": [{\"marker\": {\"colorbar\": {\"outlinewidth\": 0, \"ticks\": \"\"}}, \"type\": \"scatter\"}], \"scatter3d\": [{\"line\": {\"colorbar\": {\"outlinewidth\": 0, \"ticks\": \"\"}}, \"marker\": {\"colorbar\": {\"outlinewidth\": 0, \"ticks\": \"\"}}, \"type\": \"scatter3d\"}], \"scattercarpet\": [{\"marker\": {\"colorbar\": {\"outlinewidth\": 0, \"ticks\": \"\"}}, \"type\": \"scattercarpet\"}], \"scattergeo\": [{\"marker\": {\"colorbar\": {\"outlinewidth\": 0, \"ticks\": \"\"}}, \"type\": \"scattergeo\"}], \"scattergl\": [{\"marker\": {\"colorbar\": {\"outlinewidth\": 0, \"ticks\": \"\"}}, \"type\": \"scattergl\"}], \"scattermapbox\": [{\"marker\": {\"colorbar\": {\"outlinewidth\": 0, \"ticks\": \"\"}}, \"type\": \"scattermapbox\"}], \"scatterpolar\": [{\"marker\": {\"colorbar\": {\"outlinewidth\": 0, \"ticks\": \"\"}}, \"type\": \"scatterpolar\"}], \"scatterpolargl\": [{\"marker\": {\"colorbar\": {\"outlinewidth\": 0, \"ticks\": \"\"}}, \"type\": \"scatterpolargl\"}], \"scatterternary\": [{\"marker\": {\"colorbar\": {\"outlinewidth\": 0, \"ticks\": \"\"}}, \"type\": \"scatterternary\"}], \"surface\": [{\"colorbar\": {\"outlinewidth\": 0, \"ticks\": \"\"}, \"colorscale\": [[0.0, \"#0d0887\"], [0.1111111111111111, \"#46039f\"], [0.2222222222222222, \"#7201a8\"], [0.3333333333333333, \"#9c179e\"], [0.4444444444444444, \"#bd3786\"], [0.5555555555555556, \"#d8576b\"], [0.6666666666666666, \"#ed7953\"], [0.7777777777777778, \"#fb9f3a\"], [0.8888888888888888, \"#fdca26\"], [1.0, \"#f0f921\"]], \"type\": \"surface\"}], \"table\": [{\"cells\": {\"fill\": {\"color\": \"#EBF0F8\"}, \"line\": {\"color\": \"white\"}}, \"header\": {\"fill\": {\"color\": \"#C8D4E3\"}, \"line\": {\"color\": \"white\"}}, \"type\": \"table\"}]}, \"layout\": {\"annotationdefaults\": {\"arrowcolor\": \"#2a3f5f\", \"arrowhead\": 0, \"arrowwidth\": 1}, \"coloraxis\": {\"colorbar\": {\"outlinewidth\": 0, \"ticks\": \"\"}}, \"colorscale\": {\"diverging\": [[0, \"#8e0152\"], [0.1, \"#c51b7d\"], [0.2, \"#de77ae\"], [0.3, \"#f1b6da\"], [0.4, \"#fde0ef\"], [0.5, \"#f7f7f7\"], [0.6, \"#e6f5d0\"], [0.7, \"#b8e186\"], [0.8, \"#7fbc41\"], [0.9, \"#4d9221\"], [1, \"#276419\"]], \"sequential\": [[0.0, \"#0d0887\"], [0.1111111111111111, \"#46039f\"], [0.2222222222222222, \"#7201a8\"], [0.3333333333333333, \"#9c179e\"], [0.4444444444444444, \"#bd3786\"], [0.5555555555555556, \"#d8576b\"], [0.6666666666666666, \"#ed7953\"], [0.7777777777777778, \"#fb9f3a\"], [0.8888888888888888, \"#fdca26\"], [1.0, \"#f0f921\"]], \"sequentialminus\": [[0.0, \"#0d0887\"], [0.1111111111111111, \"#46039f\"], [0.2222222222222222, \"#7201a8\"], [0.3333333333333333, \"#9c179e\"], [0.4444444444444444, \"#bd3786\"], [0.5555555555555556, \"#d8576b\"], [0.6666666666666666, \"#ed7953\"], [0.7777777777777778, \"#fb9f3a\"], [0.8888888888888888, \"#fdca26\"], [1.0, \"#f0f921\"]]}, \"colorway\": [\"#636efa\", \"#EF553B\", \"#00cc96\", \"#ab63fa\", \"#FFA15A\", \"#19d3f3\", \"#FF6692\", \"#B6E880\", \"#FF97FF\", \"#FECB52\"], \"font\": {\"color\": \"#2a3f5f\"}, \"geo\": {\"bgcolor\": \"white\", \"lakecolor\": \"white\", \"landcolor\": \"#E5ECF6\", \"showlakes\": true, \"showland\": true, \"subunitcolor\": \"white\"}, \"hoverlabel\": {\"align\": \"left\"}, \"hovermode\": \"closest\", \"mapbox\": {\"style\": \"light\"}, \"paper_bgcolor\": \"white\", \"plot_bgcolor\": \"#E5ECF6\", \"polar\": {\"angularaxis\": {\"gridcolor\": \"white\", \"linecolor\": \"white\", \"ticks\": \"\"}, \"bgcolor\": \"#E5ECF6\", \"radialaxis\": {\"gridcolor\": \"white\", \"linecolor\": \"white\", \"ticks\": \"\"}}, \"scene\": {\"xaxis\": {\"backgroundcolor\": \"#E5ECF6\", \"gridcolor\": \"white\", \"gridwidth\": 2, \"linecolor\": \"white\", \"showbackground\": true, \"ticks\": \"\", \"zerolinecolor\": \"white\"}, \"yaxis\": {\"backgroundcolor\": \"#E5ECF6\", \"gridcolor\": \"white\", \"gridwidth\": 2, \"linecolor\": \"white\", \"showbackground\": true, \"ticks\": \"\", \"zerolinecolor\": \"white\"}, \"zaxis\": {\"backgroundcolor\": \"#E5ECF6\", \"gridcolor\": \"white\", \"gridwidth\": 2, \"linecolor\": \"white\", \"showbackground\": true, \"ticks\": \"\", \"zerolinecolor\": \"white\"}}, \"shapedefaults\": {\"line\": {\"color\": \"#2a3f5f\"}}, \"ternary\": {\"aaxis\": {\"gridcolor\": \"white\", \"linecolor\": \"white\", \"ticks\": \"\"}, \"baxis\": {\"gridcolor\": \"white\", \"linecolor\": \"white\", \"ticks\": \"\"}, \"bgcolor\": \"#E5ECF6\", \"caxis\": {\"gridcolor\": \"white\", \"linecolor\": \"white\", \"ticks\": \"\"}}, \"title\": {\"x\": 0.05}, \"xaxis\": {\"automargin\": true, \"gridcolor\": \"white\", \"linecolor\": \"white\", \"ticks\": \"\", \"title\": {\"standoff\": 15}, \"zerolinecolor\": \"white\", \"zerolinewidth\": 2}, \"yaxis\": {\"automargin\": true, \"gridcolor\": \"white\", \"linecolor\": \"white\", \"ticks\": \"\", \"title\": {\"standoff\": 15}, \"zerolinecolor\": \"white\", \"zerolinewidth\": 2}}}, \"width\": 1500, \"xaxis\": {\"title\": {\"text\": \"<b>Cluster size</b>\"}}, \"yaxis\": {\"title\": {\"text\": \"<b>Clusters count</b>\"}}},\n",
       "                        {\"responsive\": true}\n",
       "                    ).then(function(){\n",
       "                            \n",
       "var gd = document.getElementById('84a4f85a-0f2b-4891-a604-b52cc74172da');\n",
       "var x = new MutationObserver(function (mutations, observer) {{\n",
       "        var display = window.getComputedStyle(gd).display;\n",
       "        if (!display || display === 'none') {{\n",
       "            console.log([gd, 'removed!']);\n",
       "            Plotly.purge(gd);\n",
       "            observer.disconnect();\n",
       "        }}\n",
       "}});\n",
       "\n",
       "// Listen for the removal of the full notebook cells\n",
       "var notebookContainer = gd.closest('#notebook-container');\n",
       "if (notebookContainer) {{\n",
       "    x.observe(notebookContainer, {childList: true});\n",
       "}}\n",
       "\n",
       "// Listen for the clearing of the current output cell\n",
       "var outputEl = gd.closest('.output');\n",
       "if (outputEl) {{\n",
       "    x.observe(outputEl, {childList: true});\n",
       "}}\n",
       "\n",
       "                        })\n",
       "                };\n",
       "                });\n",
       "            </script>\n",
       "        </div>"
      ]
     },
     "metadata": {},
     "output_type": "display_data"
    }
   ],
   "source": [
    "fig = go.Figure()\n",
    "\n",
    "fig.update_layout(yaxis_title=\"<b>Clusters count</b>\",\n",
    "                  xaxis_title=\"<b>Cluster size</b>\",\n",
    "                  height=750, width=1500)\n",
    "\n",
    "fig.add_trace(go.Scatter(x = maraclusters_quality['size'], \n",
    "                         y = maraclusters_quality['identified clusters'], \n",
    "                         mode=\"markers+lines\",\n",
    "                         name=\"identified maracluster\",\n",
    "                         opacity=0.5,\n",
    "                         line=dict(dash=\"dash\", color=\"red\", width=3)))\n",
    "\n",
    "fig.add_trace(go.Scatter(x = embeddings_quality['size'], \n",
    "                         y = embeddings_quality['identified clusters'], \n",
    "                         mode=\"markers+lines\",\n",
    "                         name=\"identified embeddings\",\n",
    "                         opacity=0.5,\n",
    "                         line=dict(dash=\"dash\", color=\"black\", width=3)))\n",
    "\n",
    "fig.add_trace(go.Scatter(x = q01_quality['size'], \n",
    "                         y = q01_quality['identified clusters'], \n",
    "                         mode=\"markers+lines\",\n",
    "                         name=\"identified embeddings q < 0.01\",\n",
    "                         opacity=0.5,\n",
    "                         line=dict(dash=\"dash\", color=\"blue\", width=3)))\n",
    "\n",
    "fig.add_trace(go.Scatter(x = q001_quality['size'], \n",
    "                         y = q001_quality['identified clusters'], \n",
    "                         mode=\"markers+lines\", \n",
    "                         name=\"identified embeddings q < 0.001\",\n",
    "                         opacity=0.5,\n",
    "                         line=dict(dash=\"dash\", color=\"green\", width=3)))\n",
    "\n",
    "fig.add_trace(go.Scatter(x = q01_quality_04['size'], \n",
    "                         y = q01_quality_04['identified clusters'], \n",
    "                         mode=\"markers+lines\",\n",
    "                         name=\"identified embeddings q < 0.01 margin 0.4\",\n",
    "                         opacity=0.5,\n",
    "                         line=dict(dash=\"dash\", color=\"orange\", width=3)))\n"
   ]
  },
  {
   "cell_type": "code",
   "execution_count": null,
   "metadata": {},
   "outputs": [],
   "source": []
  }
 ],
 "metadata": {
  "kernelspec": {
   "display_name": "Python 3",
   "language": "python",
   "name": "python3"
  },
  "language_info": {
   "codemirror_mode": {
    "name": "ipython",
    "version": 3
   },
   "file_extension": ".py",
   "mimetype": "text/x-python",
   "name": "python",
   "nbconvert_exporter": "python",
   "pygments_lexer": "ipython3",
   "version": "3.6.9"
  }
 },
 "nbformat": 4,
 "nbformat_minor": 2
}
