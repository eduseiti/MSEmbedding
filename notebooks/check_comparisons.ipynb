{
 "cells": [
  {
   "cell_type": "code",
   "execution_count": null,
   "metadata": {},
   "outputs": [],
   "source": [
    "import struct\n",
    "import os\n",
    "import numpy as np\n",
    "import pandas as pd\n",
    "import random\n",
    "import plotly.graph_objects as go"
   ]
  },
  {
   "cell_type": "code",
   "execution_count": null,
   "metadata": {},
   "outputs": [],
   "source": [
    "COMP_FILE = \"/media/eduseiti/bigdata02/unicamp/doutorado/bootstrap.pytorch/data/linfeng/sample_embeddings_001825.comparisons\"\n",
    "COMP_FILE_Q001 = \"/media/eduseiti/bigdata02/unicamp/doutorado/bootstrap.pytorch/data/linfeng_q0.01/sample_embeddings_q0.01_001825.comparisons\"\n",
    "COMP_FILE_Q001_04 = \"/media/eduseiti/bigdata02/unicamp/doutorado/bootstrap.pytorch/data/linfeng_q0.01_margin0.4/sample_embeddings_q0.01_margin0.4_002281.comparisons\"\n",
    "COMP_FILE_Q0001 = \"/media/eduseiti/bigdata02/unicamp/doutorado/bootstrap.pytorch/data/linfeng_q0.001/sample_embeddings_q0.001_002281.comparisons\"\n",
    "COMP_FILE_Q001_LSTM40_3LAYERS = \"/media/eduseiti/bigdata02/unicamp/doutorado/bootstrap.pytorch/data/linfeng_q0.01/sample_embeddings_q0.01_lstm40_3layers_002281.comparisons\"\n",
    "\n",
    "STRUCT_FIELDS = \"BIBId\"\n"
   ]
  },
  {
   "cell_type": "code",
   "execution_count": null,
   "metadata": {},
   "outputs": [],
   "source": [
    "def decode_comparisons_file(comparisons_filename):\n",
    "    \n",
    "    comparisons = []\n",
    "\n",
    "    with open(comparisons_filename, \"rb\") as inputFile:\n",
    "        while True:\n",
    "            record = inputFile.read(struct.calcsize(STRUCT_FIELDS))\n",
    "\n",
    "            if not record:\n",
    "                break\n",
    "            else:\n",
    "                comparisons.append(struct.unpack_from(STRUCT_FIELDS, record))\n",
    "\n",
    "    print(\"Decoded {} comparisons from {}\".format(len(comparisons), comparisons_filename))\n",
    "    \n",
    "    return np.array(comparisons)"
   ]
  },
  {
   "cell_type": "code",
   "execution_count": null,
   "metadata": {},
   "outputs": [],
   "source": [
    "def plot_comparissons_histogram(comparisons_filename):\n",
    "    \n",
    "    comparisons = decode_comparisons_file(comparisons_filename)\n",
    "    comparisons_df = pd.DataFrame(comparisons, columns = [\"file_1\", \"scannr_1\", \"file_2\", \"scannr_2\", \"cosine_similarity\"])\n",
    "    comparisons_df['cosine_similarity'].describe(percentiles=list(np.round(np.arange(0.0, 1.0, 0.05), 2)))\n",
    "    cosSim_histogram, costSim_bin_edges = np.histogram(comparisons_df['cosine_similarity'].loc[list(random.sample(range(len(comparisons)), int(len(comparisons) * 0.1)))], 1000)\n",
    "\n",
    "    fig = go.Figure()\n",
    "\n",
    "    fig.add_trace(go.Bar(y=cosSim_histogram,\n",
    "                         x=costSim_bin_edges[1:],\n",
    "                         marker_color='red'))\n",
    "    \n",
    "    fig.show()\n",
    "    \n",
    "    return comparisons_df, cosSim_histogram, costSim_bin_edges"
   ]
  },
  {
   "cell_type": "markdown",
   "metadata": {},
   "source": [
    "### Distances sample (10%) histogram of clustering using all distances"
   ]
  },
  {
   "cell_type": "code",
   "execution_count": null,
   "metadata": {},
   "outputs": [],
   "source": [
    "_, embeddings_hist, _ = plot_comparissons_histogram(COMP_FILE)"
   ]
  },
  {
   "cell_type": "markdown",
   "metadata": {},
   "source": [
    "### Distances sample (10%) histogram of clustering using only identifications with q < 0.01"
   ]
  },
  {
   "cell_type": "code",
   "execution_count": null,
   "metadata": {},
   "outputs": [],
   "source": [
    "_, embeddings_q001_hist, _ = plot_comparissons_histogram(COMP_FILE_Q001)"
   ]
  },
  {
   "cell_type": "markdown",
   "metadata": {},
   "source": [
    "### Distances sample (10%) histogram of clustering using only identifications with q < 0.001"
   ]
  },
  {
   "cell_type": "code",
   "execution_count": null,
   "metadata": {},
   "outputs": [],
   "source": [
    "_, embeddings_q0001_hist, _ = plot_comparissons_histogram(COMP_FILE_Q0001)"
   ]
  },
  {
   "cell_type": "markdown",
   "metadata": {},
   "source": [
    "### Distances sample (10%) histogram of clustering using only identifications with q < 0.01 and margin 0.4"
   ]
  },
  {
   "cell_type": "code",
   "execution_count": null,
   "metadata": {},
   "outputs": [],
   "source": [
    "_, embeddings_q001_04_hist, _ = plot_comparissons_histogram(COMP_FILE_Q001_04)"
   ]
  },
  {
   "cell_type": "markdown",
   "metadata": {},
   "source": [
    "### Distances sample (10%) histogram of clustering using only identifications with q < 0.01 using a LSTM 40 3 layers model"
   ]
  },
  {
   "cell_type": "code",
   "execution_count": null,
   "metadata": {},
   "outputs": [],
   "source": [
    "_, embeddings_q001_lstm40_3layers_hist, _ = plot_comparissons_histogram(COMP_FILE_Q001_LSTM40_3LAYERS)"
   ]
  },
  {
   "cell_type": "code",
   "execution_count": null,
   "metadata": {},
   "outputs": [],
   "source": []
  }
 ],
 "metadata": {
  "kernelspec": {
   "display_name": "Python 3",
   "language": "python",
   "name": "python3"
  },
  "language_info": {
   "codemirror_mode": {
    "name": "ipython",
    "version": 3
   },
   "file_extension": ".py",
   "mimetype": "text/x-python",
   "name": "python",
   "nbconvert_exporter": "python",
   "pygments_lexer": "ipython3",
   "version": "3.6.9"
  }
 },
 "nbformat": 4,
 "nbformat_minor": 2
}
